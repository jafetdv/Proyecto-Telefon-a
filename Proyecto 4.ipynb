{
 "cells": [
  {
   "cell_type": "markdown",
   "metadata": {
    "id": "3rYiDeEH0q0f"
   },
   "source": [
    "# ¿Cuál es la mejor tarifa?\n",
    "\n",
    "Trabajas como analista para el operador de telecomunicaciones Megaline. La empresa ofrece a sus clientes dos tarifas de prepago, Surf y Ultimate. El departamento comercial quiere saber cuál de las tarifas genera más ingresos para poder ajustar el presupuesto de publicidad.\n",
    "\n",
    "Vas a realizar un análisis preliminar de las tarifas basado en una selección de clientes relativamente pequeña. Tendrás los datos de 500 clientes de Megaline: quiénes son los clientes, de dónde son, qué tarifa usan, así como la cantidad de llamadas que hicieron y los mensajes de texto que enviaron en 2018. Tu trabajo es analizar el comportamiento de los clientes y determinar qué tarifa de prepago genera más ingresos."
   ]
  },
  {
   "cell_type": "markdown",
   "metadata": {
    "id": "VNddPNRQ0q0w"
   },
   "source": [
    "El propósito del presente proyecto es determinar el total de ingresos que genera cada tarifa de prepago para enfocar el presupuesto de publicidad.\n",
    "Depuraré los datos, los convertiré y extraeré información puntual y precisa sobre el consumo de los usuarios.\n"
   ]
  },
  {
   "cell_type": "markdown",
   "metadata": {
    "id": "MQi4IPy70q0y"
   },
   "source": [
    "## Inicialización"
   ]
  },
  {
   "cell_type": "code",
   "execution_count": 47,
   "metadata": {
    "id": "MtYIuBxu0q0z"
   },
   "outputs": [],
   "source": [
    "import pandas as pd\n",
    "import matplotlib.pyplot as plt\n",
    "import seaborn as sns\n",
    "import numpy as np\n",
    "from scipy.stats import ttest_ind, levene# Cargar todas las librerías"
   ]
  },
  {
   "cell_type": "markdown",
   "metadata": {
    "id": "4ysWWC5i0q00"
   },
   "source": [
    "## Cargar datos"
   ]
  },
  {
   "cell_type": "code",
   "execution_count": 48,
   "metadata": {
    "id": "CCqPW7rS0q01"
   },
   "outputs": [],
   "source": [
    "megaline_calls = pd.read_csv('/datasets/megaline_calls.csv')\n",
    "megaline_internet = pd.read_csv('/datasets/megaline_internet.csv')\n",
    "megaline_messages = pd.read_csv('/datasets/megaline_messages.csv')\n",
    "megaline_plans = pd.read_csv('/datasets/megaline_plans.csv')\n",
    "megaline_users = pd.read_csv('/datasets/megaline_users.csv')# Carga los archivos de datos en diferentes DataFrames"
   ]
  },
  {
   "cell_type": "markdown",
   "metadata": {
    "id": "69qqoJ3r0q01"
   },
   "source": [
    "## Preparar los datos"
   ]
  },
  {
   "cell_type": "markdown",
   "metadata": {
    "id": "ohBhimvH0q01"
   },
   "source": [
    "## Tarifas"
   ]
  },
  {
   "cell_type": "code",
   "execution_count": 49,
   "metadata": {
    "id": "GptqP3Q40q02"
   },
   "outputs": [
    {
     "name": "stdout",
     "output_type": "stream",
     "text": [
      "<class 'pandas.core.frame.DataFrame'>\n",
      "RangeIndex: 2 entries, 0 to 1\n",
      "Data columns (total 8 columns):\n",
      " #   Column                 Non-Null Count  Dtype  \n",
      "---  ------                 --------------  -----  \n",
      " 0   messages_included      2 non-null      int64  \n",
      " 1   mb_per_month_included  2 non-null      int64  \n",
      " 2   minutes_included       2 non-null      int64  \n",
      " 3   usd_monthly_pay        2 non-null      int64  \n",
      " 4   usd_per_gb             2 non-null      int64  \n",
      " 5   usd_per_message        2 non-null      float64\n",
      " 6   usd_per_minute         2 non-null      float64\n",
      " 7   plan_name              2 non-null      object \n",
      "dtypes: float64(2), int64(5), object(1)\n",
      "memory usage: 260.0+ bytes\n"
     ]
    }
   ],
   "source": [
    "megaline_plans.info()# Imprime la información general/resumida sobre el DataFrame de las tarifas\n",
    "\n"
   ]
  },
  {
   "cell_type": "code",
   "execution_count": 50,
   "metadata": {
    "id": "64xzjwL70q02"
   },
   "outputs": [
    {
     "data": {
      "text/html": [
       "<div>\n",
       "<style scoped>\n",
       "    .dataframe tbody tr th:only-of-type {\n",
       "        vertical-align: middle;\n",
       "    }\n",
       "\n",
       "    .dataframe tbody tr th {\n",
       "        vertical-align: top;\n",
       "    }\n",
       "\n",
       "    .dataframe thead th {\n",
       "        text-align: right;\n",
       "    }\n",
       "</style>\n",
       "<table border=\"1\" class=\"dataframe\">\n",
       "  <thead>\n",
       "    <tr style=\"text-align: right;\">\n",
       "      <th></th>\n",
       "      <th>messages_included</th>\n",
       "      <th>mb_per_month_included</th>\n",
       "      <th>minutes_included</th>\n",
       "      <th>usd_monthly_pay</th>\n",
       "      <th>usd_per_gb</th>\n",
       "      <th>usd_per_message</th>\n",
       "      <th>usd_per_minute</th>\n",
       "      <th>plan_name</th>\n",
       "    </tr>\n",
       "  </thead>\n",
       "  <tbody>\n",
       "    <tr>\n",
       "      <th>0</th>\n",
       "      <td>50</td>\n",
       "      <td>15360</td>\n",
       "      <td>500</td>\n",
       "      <td>20</td>\n",
       "      <td>10</td>\n",
       "      <td>0.03</td>\n",
       "      <td>0.03</td>\n",
       "      <td>surf</td>\n",
       "    </tr>\n",
       "    <tr>\n",
       "      <th>1</th>\n",
       "      <td>1000</td>\n",
       "      <td>30720</td>\n",
       "      <td>3000</td>\n",
       "      <td>70</td>\n",
       "      <td>7</td>\n",
       "      <td>0.01</td>\n",
       "      <td>0.01</td>\n",
       "      <td>ultimate</td>\n",
       "    </tr>\n",
       "  </tbody>\n",
       "</table>\n",
       "</div>"
      ],
      "text/plain": [
       "   messages_included  mb_per_month_included  minutes_included  \\\n",
       "0                 50                  15360               500   \n",
       "1               1000                  30720              3000   \n",
       "\n",
       "   usd_monthly_pay  usd_per_gb  usd_per_message  usd_per_minute plan_name  \n",
       "0               20          10             0.03            0.03      surf  \n",
       "1               70           7             0.01            0.01  ultimate  "
      ]
     },
     "metadata": {},
     "output_type": "display_data"
    }
   ],
   "source": [
    "display(megaline_plans.head())# Imprime una muestra de los datos para las tarifas\n",
    "\n"
   ]
  },
  {
   "cell_type": "markdown",
   "metadata": {
    "id": "mEc_3_hs0q02"
   },
   "source": [
    "Tenemos 8 columnas con solo dos filas, por lo que fácilmente apreciamos que no existen valores nulos ni duplicados.\n",
    "Cada columna contiene un tipo de datos acorde a su naturaleza."
   ]
  },
  {
   "cell_type": "markdown",
   "metadata": {
    "id": "R3C05i1l0q03"
   },
   "source": [
    "## Corregir datos"
   ]
  },
  {
   "cell_type": "code",
   "execution_count": 51,
   "metadata": {
    "id": "Y7SVmjGn0q03"
   },
   "outputs": [],
   "source": [
    "#No se observan problemas."
   ]
  },
  {
   "cell_type": "markdown",
   "metadata": {
    "id": "LJir7bml0q03"
   },
   "source": [
    "## Enriquecer los datos"
   ]
  },
  {
   "cell_type": "code",
   "execution_count": 52,
   "metadata": {
    "id": "gfcIEuXV0q04"
   },
   "outputs": [],
   "source": [
    "#Cambiar el nombre de la columna plan_name a plan para homologarla al DF de users\n",
    "\n",
    "megaline_plans.rename(columns = {\n",
    "    'plan_name':'plan'\n",
    "}, inplace = True)\n",
    "\n",
    "#Vamos a convertir el los mbs mensuales de los usuarios en gbs, ya que así lo redondea Megaline, después vamos a redondearlos."
   ]
  },
  {
   "cell_type": "markdown",
   "metadata": {
    "id": "1n2X6WXf0q04"
   },
   "source": [
    "## Usuarios/as"
   ]
  },
  {
   "cell_type": "code",
   "execution_count": 53,
   "metadata": {
    "id": "2NgjWFqx0q05"
   },
   "outputs": [
    {
     "name": "stdout",
     "output_type": "stream",
     "text": [
      "<class 'pandas.core.frame.DataFrame'>\n",
      "RangeIndex: 500 entries, 0 to 499\n",
      "Data columns (total 8 columns):\n",
      " #   Column      Non-Null Count  Dtype \n",
      "---  ------      --------------  ----- \n",
      " 0   user_id     500 non-null    int64 \n",
      " 1   first_name  500 non-null    object\n",
      " 2   last_name   500 non-null    object\n",
      " 3   age         500 non-null    int64 \n",
      " 4   city        500 non-null    object\n",
      " 5   reg_date    500 non-null    object\n",
      " 6   plan        500 non-null    object\n",
      " 7   churn_date  34 non-null     object\n",
      "dtypes: int64(2), object(6)\n",
      "memory usage: 31.4+ KB\n"
     ]
    }
   ],
   "source": [
    "megaline_users.info()# Imprime la información general/resumida sobre el DataFrame de usuarios\n",
    "\n"
   ]
  },
  {
   "cell_type": "code",
   "execution_count": 54,
   "metadata": {
    "id": "1IN1L9uh0q05"
   },
   "outputs": [
    {
     "data": {
      "text/html": [
       "<div>\n",
       "<style scoped>\n",
       "    .dataframe tbody tr th:only-of-type {\n",
       "        vertical-align: middle;\n",
       "    }\n",
       "\n",
       "    .dataframe tbody tr th {\n",
       "        vertical-align: top;\n",
       "    }\n",
       "\n",
       "    .dataframe thead th {\n",
       "        text-align: right;\n",
       "    }\n",
       "</style>\n",
       "<table border=\"1\" class=\"dataframe\">\n",
       "  <thead>\n",
       "    <tr style=\"text-align: right;\">\n",
       "      <th></th>\n",
       "      <th>user_id</th>\n",
       "      <th>first_name</th>\n",
       "      <th>last_name</th>\n",
       "      <th>age</th>\n",
       "      <th>city</th>\n",
       "      <th>reg_date</th>\n",
       "      <th>plan</th>\n",
       "      <th>churn_date</th>\n",
       "    </tr>\n",
       "  </thead>\n",
       "  <tbody>\n",
       "    <tr>\n",
       "      <th>0</th>\n",
       "      <td>1000</td>\n",
       "      <td>Anamaria</td>\n",
       "      <td>Bauer</td>\n",
       "      <td>45</td>\n",
       "      <td>Atlanta-Sandy Springs-Roswell, GA MSA</td>\n",
       "      <td>2018-12-24</td>\n",
       "      <td>ultimate</td>\n",
       "      <td>NaN</td>\n",
       "    </tr>\n",
       "    <tr>\n",
       "      <th>1</th>\n",
       "      <td>1001</td>\n",
       "      <td>Mickey</td>\n",
       "      <td>Wilkerson</td>\n",
       "      <td>28</td>\n",
       "      <td>Seattle-Tacoma-Bellevue, WA MSA</td>\n",
       "      <td>2018-08-13</td>\n",
       "      <td>surf</td>\n",
       "      <td>NaN</td>\n",
       "    </tr>\n",
       "    <tr>\n",
       "      <th>2</th>\n",
       "      <td>1002</td>\n",
       "      <td>Carlee</td>\n",
       "      <td>Hoffman</td>\n",
       "      <td>36</td>\n",
       "      <td>Las Vegas-Henderson-Paradise, NV MSA</td>\n",
       "      <td>2018-10-21</td>\n",
       "      <td>surf</td>\n",
       "      <td>NaN</td>\n",
       "    </tr>\n",
       "    <tr>\n",
       "      <th>3</th>\n",
       "      <td>1003</td>\n",
       "      <td>Reynaldo</td>\n",
       "      <td>Jenkins</td>\n",
       "      <td>52</td>\n",
       "      <td>Tulsa, OK MSA</td>\n",
       "      <td>2018-01-28</td>\n",
       "      <td>surf</td>\n",
       "      <td>NaN</td>\n",
       "    </tr>\n",
       "    <tr>\n",
       "      <th>4</th>\n",
       "      <td>1004</td>\n",
       "      <td>Leonila</td>\n",
       "      <td>Thompson</td>\n",
       "      <td>40</td>\n",
       "      <td>Seattle-Tacoma-Bellevue, WA MSA</td>\n",
       "      <td>2018-05-23</td>\n",
       "      <td>surf</td>\n",
       "      <td>NaN</td>\n",
       "    </tr>\n",
       "  </tbody>\n",
       "</table>\n",
       "</div>"
      ],
      "text/plain": [
       "   user_id first_name  last_name  age                                   city  \\\n",
       "0     1000   Anamaria      Bauer   45  Atlanta-Sandy Springs-Roswell, GA MSA   \n",
       "1     1001     Mickey  Wilkerson   28        Seattle-Tacoma-Bellevue, WA MSA   \n",
       "2     1002     Carlee    Hoffman   36   Las Vegas-Henderson-Paradise, NV MSA   \n",
       "3     1003   Reynaldo    Jenkins   52                          Tulsa, OK MSA   \n",
       "4     1004    Leonila   Thompson   40        Seattle-Tacoma-Bellevue, WA MSA   \n",
       "\n",
       "     reg_date      plan churn_date  \n",
       "0  2018-12-24  ultimate        NaN  \n",
       "1  2018-08-13      surf        NaN  \n",
       "2  2018-10-21      surf        NaN  \n",
       "3  2018-01-28      surf        NaN  \n",
       "4  2018-05-23      surf        NaN  "
      ]
     },
     "metadata": {},
     "output_type": "display_data"
    }
   ],
   "source": [
    "display(megaline_users.head())# Imprime una muestra de datos para usuarios"
   ]
  },
  {
   "cell_type": "markdown",
   "metadata": {
    "id": "dCZoUq4f0q06"
   },
   "source": [
    "Observamos un total de 8 columnas:\n",
    "\n",
    "user_id tiene valores de tipo int64 que deberían cambiar a object, ya que representan identificadores.\n",
    "\n",
    "first_name no presenta problemas.\n",
    "\n",
    "last_name no presenta problemas.\n",
    "\n",
    "age contiene valores de tipo int64, pero considero que es correcto en caso de que sea necesario determinar el promedio de edad u otros valores similares.\n",
    "\n",
    "city no presenta problemas.\n",
    "\n",
    "reg_date contiene valores de tipo object deberían cambiarse a datetime.\n",
    "\n",
    "plan no presenta problemas.\n",
    "\n",
    "churn_date solo presenta 34 entries, debido a su naturaleza, sus valores son del tipo object, pero sería más adecuado tenerlos en datetime."
   ]
  },
  {
   "cell_type": "markdown",
   "metadata": {
    "id": "BX5FQh_I0q06"
   },
   "source": [
    "### Corregir los datos"
   ]
  },
  {
   "cell_type": "code",
   "execution_count": 55,
   "metadata": {
    "id": "yUqX-K0C0q07"
   },
   "outputs": [],
   "source": [
    "megaline_users['user_id'] = megaline_users['user_id'].astype('object')#convertir los datos de user_id a object\n",
    "\n",
    "megaline_users['reg_date'] = pd.to_datetime(megaline_users['reg_date'], format = '%Y-%m-%d')#convetir los datos de reg_date a datetime\n",
    "\n",
    "megaline_users['churn_date'] = pd.to_datetime(megaline_users['churn_date'], format = '%Y-%m-%d')#convetir los datos de churn_date a datetime"
   ]
  },
  {
   "cell_type": "markdown",
   "metadata": {
    "id": "ycwuARJp0q07"
   },
   "source": [
    "### Enriquecer los datos"
   ]
  },
  {
   "cell_type": "code",
   "execution_count": 56,
   "metadata": {
    "id": "iq0AaBS90q08"
   },
   "outputs": [
    {
     "data": {
      "text/plain": [
       "0"
      ]
     },
     "execution_count": 56,
     "metadata": {},
     "output_type": "execute_result"
    }
   ],
   "source": [
    "#buscar duplicados\n",
    "\n",
    "megaline_users.duplicated().sum()\n"
   ]
  },
  {
   "cell_type": "markdown",
   "metadata": {},
   "source": [
    "Los datos ausentes en esta columna nos indican que las personas utilizaron el servicio hasta el momento en que se recopilaron los datos."
   ]
  },
  {
   "cell_type": "markdown",
   "metadata": {
    "id": "o7MeKCid0q08"
   },
   "source": [
    "## Llamadas"
   ]
  },
  {
   "cell_type": "code",
   "execution_count": 57,
   "metadata": {
    "id": "6dDlnoDm0q08"
   },
   "outputs": [
    {
     "name": "stdout",
     "output_type": "stream",
     "text": [
      "<class 'pandas.core.frame.DataFrame'>\n",
      "RangeIndex: 137735 entries, 0 to 137734\n",
      "Data columns (total 4 columns):\n",
      " #   Column     Non-Null Count   Dtype  \n",
      "---  ------     --------------   -----  \n",
      " 0   id         137735 non-null  object \n",
      " 1   user_id    137735 non-null  int64  \n",
      " 2   call_date  137735 non-null  object \n",
      " 3   duration   137735 non-null  float64\n",
      "dtypes: float64(1), int64(1), object(2)\n",
      "memory usage: 4.2+ MB\n"
     ]
    }
   ],
   "source": [
    "megaline_calls.info()# Imprime la información general/resumida sobre el DataFrame de las llamadas\n",
    "\n"
   ]
  },
  {
   "cell_type": "code",
   "execution_count": 58,
   "metadata": {
    "id": "kuh1vlNB0q09"
   },
   "outputs": [
    {
     "data": {
      "text/html": [
       "<div>\n",
       "<style scoped>\n",
       "    .dataframe tbody tr th:only-of-type {\n",
       "        vertical-align: middle;\n",
       "    }\n",
       "\n",
       "    .dataframe tbody tr th {\n",
       "        vertical-align: top;\n",
       "    }\n",
       "\n",
       "    .dataframe thead th {\n",
       "        text-align: right;\n",
       "    }\n",
       "</style>\n",
       "<table border=\"1\" class=\"dataframe\">\n",
       "  <thead>\n",
       "    <tr style=\"text-align: right;\">\n",
       "      <th></th>\n",
       "      <th>id</th>\n",
       "      <th>user_id</th>\n",
       "      <th>call_date</th>\n",
       "      <th>duration</th>\n",
       "    </tr>\n",
       "  </thead>\n",
       "  <tbody>\n",
       "    <tr>\n",
       "      <th>0</th>\n",
       "      <td>1000_93</td>\n",
       "      <td>1000</td>\n",
       "      <td>2018-12-27</td>\n",
       "      <td>8.52</td>\n",
       "    </tr>\n",
       "    <tr>\n",
       "      <th>1</th>\n",
       "      <td>1000_145</td>\n",
       "      <td>1000</td>\n",
       "      <td>2018-12-27</td>\n",
       "      <td>13.66</td>\n",
       "    </tr>\n",
       "    <tr>\n",
       "      <th>2</th>\n",
       "      <td>1000_247</td>\n",
       "      <td>1000</td>\n",
       "      <td>2018-12-27</td>\n",
       "      <td>14.48</td>\n",
       "    </tr>\n",
       "    <tr>\n",
       "      <th>3</th>\n",
       "      <td>1000_309</td>\n",
       "      <td>1000</td>\n",
       "      <td>2018-12-28</td>\n",
       "      <td>5.76</td>\n",
       "    </tr>\n",
       "    <tr>\n",
       "      <th>4</th>\n",
       "      <td>1000_380</td>\n",
       "      <td>1000</td>\n",
       "      <td>2018-12-30</td>\n",
       "      <td>4.22</td>\n",
       "    </tr>\n",
       "    <tr>\n",
       "      <th>5</th>\n",
       "      <td>1000_388</td>\n",
       "      <td>1000</td>\n",
       "      <td>2018-12-31</td>\n",
       "      <td>2.20</td>\n",
       "    </tr>\n",
       "    <tr>\n",
       "      <th>6</th>\n",
       "      <td>1000_510</td>\n",
       "      <td>1000</td>\n",
       "      <td>2018-12-27</td>\n",
       "      <td>5.75</td>\n",
       "    </tr>\n",
       "    <tr>\n",
       "      <th>7</th>\n",
       "      <td>1000_521</td>\n",
       "      <td>1000</td>\n",
       "      <td>2018-12-28</td>\n",
       "      <td>14.18</td>\n",
       "    </tr>\n",
       "    <tr>\n",
       "      <th>8</th>\n",
       "      <td>1000_530</td>\n",
       "      <td>1000</td>\n",
       "      <td>2018-12-28</td>\n",
       "      <td>5.77</td>\n",
       "    </tr>\n",
       "    <tr>\n",
       "      <th>9</th>\n",
       "      <td>1000_544</td>\n",
       "      <td>1000</td>\n",
       "      <td>2018-12-26</td>\n",
       "      <td>4.40</td>\n",
       "    </tr>\n",
       "  </tbody>\n",
       "</table>\n",
       "</div>"
      ],
      "text/plain": [
       "         id  user_id   call_date  duration\n",
       "0   1000_93     1000  2018-12-27      8.52\n",
       "1  1000_145     1000  2018-12-27     13.66\n",
       "2  1000_247     1000  2018-12-27     14.48\n",
       "3  1000_309     1000  2018-12-28      5.76\n",
       "4  1000_380     1000  2018-12-30      4.22\n",
       "5  1000_388     1000  2018-12-31      2.20\n",
       "6  1000_510     1000  2018-12-27      5.75\n",
       "7  1000_521     1000  2018-12-28     14.18\n",
       "8  1000_530     1000  2018-12-28      5.77\n",
       "9  1000_544     1000  2018-12-26      4.40"
      ]
     },
     "execution_count": 58,
     "metadata": {},
     "output_type": "execute_result"
    }
   ],
   "source": [
    "megaline_calls.head(10)# Imprime una muestra de datos para las llamadas\n",
    "\n"
   ]
  },
  {
   "cell_type": "markdown",
   "metadata": {
    "id": "DOAxYJSx0q09"
   },
   "source": [
    "\n",
    "No hay datos ausentes.\n",
    "\n",
    "Respecto a las columnas:\n",
    "\n",
    "user_id tiene valores del tipo int64, pero deberían ser object ya que representan identificadores.\n",
    "\n",
    "call_date tiene valores del tipo object, pero sería más adecuado utilizar datetime.\n",
    "\n",
    "duration tiene datos del tipo float64, lo cual es correcto, pero vamos a redondearlos a solicitud del proyecto."
   ]
  },
  {
   "cell_type": "markdown",
   "metadata": {
    "id": "S7hzxmbX0q0-"
   },
   "source": [
    "### Corregir los datos"
   ]
  },
  {
   "cell_type": "code",
   "execution_count": 59,
   "metadata": {
    "id": "S2r8xA4f0q0-"
   },
   "outputs": [
    {
     "data": {
      "text/plain": [
       "0"
      ]
     },
     "execution_count": 59,
     "metadata": {},
     "output_type": "execute_result"
    }
   ],
   "source": [
    "megaline_calls['user_id'] = megaline_calls['user_id'].astype('object')#convertir los datos de user_id a object\n",
    "\n",
    "megaline_calls['call_date'] = pd.to_datetime(megaline_calls['call_date'], format = '%Y-%m-%d')#convetir los datos de call_date a datetime\n",
    "\n",
    "#buscar duplicados\n",
    "megaline_calls.duplicated().sum()"
   ]
  },
  {
   "cell_type": "markdown",
   "metadata": {
    "id": "KrMgTrlG0q0_"
   },
   "source": [
    "### Enriquecer los datos"
   ]
  },
  {
   "cell_type": "code",
   "execution_count": 60,
   "metadata": {
    "id": "iZ1avpA_0q0_"
   },
   "outputs": [
    {
     "data": {
      "text/html": [
       "<div>\n",
       "<style scoped>\n",
       "    .dataframe tbody tr th:only-of-type {\n",
       "        vertical-align: middle;\n",
       "    }\n",
       "\n",
       "    .dataframe tbody tr th {\n",
       "        vertical-align: top;\n",
       "    }\n",
       "\n",
       "    .dataframe thead th {\n",
       "        text-align: right;\n",
       "    }\n",
       "</style>\n",
       "<table border=\"1\" class=\"dataframe\">\n",
       "  <thead>\n",
       "    <tr style=\"text-align: right;\">\n",
       "      <th></th>\n",
       "      <th>id</th>\n",
       "      <th>user_id</th>\n",
       "      <th>call_date</th>\n",
       "      <th>duration</th>\n",
       "      <th>month</th>\n",
       "    </tr>\n",
       "  </thead>\n",
       "  <tbody>\n",
       "    <tr>\n",
       "      <th>0</th>\n",
       "      <td>1000_93</td>\n",
       "      <td>1000</td>\n",
       "      <td>2018-12-27</td>\n",
       "      <td>9.0</td>\n",
       "      <td>12</td>\n",
       "    </tr>\n",
       "    <tr>\n",
       "      <th>1</th>\n",
       "      <td>1000_145</td>\n",
       "      <td>1000</td>\n",
       "      <td>2018-12-27</td>\n",
       "      <td>14.0</td>\n",
       "      <td>12</td>\n",
       "    </tr>\n",
       "    <tr>\n",
       "      <th>2</th>\n",
       "      <td>1000_247</td>\n",
       "      <td>1000</td>\n",
       "      <td>2018-12-27</td>\n",
       "      <td>15.0</td>\n",
       "      <td>12</td>\n",
       "    </tr>\n",
       "    <tr>\n",
       "      <th>3</th>\n",
       "      <td>1000_309</td>\n",
       "      <td>1000</td>\n",
       "      <td>2018-12-28</td>\n",
       "      <td>6.0</td>\n",
       "      <td>12</td>\n",
       "    </tr>\n",
       "    <tr>\n",
       "      <th>4</th>\n",
       "      <td>1000_380</td>\n",
       "      <td>1000</td>\n",
       "      <td>2018-12-30</td>\n",
       "      <td>5.0</td>\n",
       "      <td>12</td>\n",
       "    </tr>\n",
       "  </tbody>\n",
       "</table>\n",
       "</div>"
      ],
      "text/plain": [
       "         id user_id  call_date  duration  month\n",
       "0   1000_93    1000 2018-12-27       9.0     12\n",
       "1  1000_145    1000 2018-12-27      14.0     12\n",
       "2  1000_247    1000 2018-12-27      15.0     12\n",
       "3  1000_309    1000 2018-12-28       6.0     12\n",
       "4  1000_380    1000 2018-12-30       5.0     12"
      ]
     },
     "metadata": {},
     "output_type": "display_data"
    }
   ],
   "source": [
    "#redondear los minutos\n",
    "megaline_calls['duration'] = megaline_calls['duration'].apply(np.ceil)\n",
    "\n",
    "#añadiremos la columna month\n",
    "megaline_calls['month'] = megaline_calls['call_date'].dt.month\n",
    "\n",
    "display(megaline_calls.head(5))\n"
   ]
  },
  {
   "cell_type": "markdown",
   "metadata": {},
   "source": [
    "Las llamadas con duración de 0 indican que el usuario no realizo ninguna durante ese mes."
   ]
  },
  {
   "cell_type": "markdown",
   "metadata": {
    "id": "mOUZSi180q0_"
   },
   "source": [
    "## Mensajes"
   ]
  },
  {
   "cell_type": "code",
   "execution_count": 61,
   "metadata": {
    "id": "R-bYJpdV0q1A"
   },
   "outputs": [
    {
     "name": "stdout",
     "output_type": "stream",
     "text": [
      "<class 'pandas.core.frame.DataFrame'>\n",
      "RangeIndex: 76051 entries, 0 to 76050\n",
      "Data columns (total 3 columns):\n",
      " #   Column        Non-Null Count  Dtype \n",
      "---  ------        --------------  ----- \n",
      " 0   id            76051 non-null  object\n",
      " 1   user_id       76051 non-null  int64 \n",
      " 2   message_date  76051 non-null  object\n",
      "dtypes: int64(1), object(2)\n",
      "memory usage: 1.7+ MB\n"
     ]
    }
   ],
   "source": [
    "megaline_messages.info()# Imprime la información general/resumida sobre el DataFrame de los mensajes\n",
    "\n"
   ]
  },
  {
   "cell_type": "code",
   "execution_count": 62,
   "metadata": {
    "id": "mCEl2iGE0q1A"
   },
   "outputs": [
    {
     "data": {
      "text/html": [
       "<div>\n",
       "<style scoped>\n",
       "    .dataframe tbody tr th:only-of-type {\n",
       "        vertical-align: middle;\n",
       "    }\n",
       "\n",
       "    .dataframe tbody tr th {\n",
       "        vertical-align: top;\n",
       "    }\n",
       "\n",
       "    .dataframe thead th {\n",
       "        text-align: right;\n",
       "    }\n",
       "</style>\n",
       "<table border=\"1\" class=\"dataframe\">\n",
       "  <thead>\n",
       "    <tr style=\"text-align: right;\">\n",
       "      <th></th>\n",
       "      <th>id</th>\n",
       "      <th>user_id</th>\n",
       "      <th>message_date</th>\n",
       "    </tr>\n",
       "  </thead>\n",
       "  <tbody>\n",
       "    <tr>\n",
       "      <th>0</th>\n",
       "      <td>1000_125</td>\n",
       "      <td>1000</td>\n",
       "      <td>2018-12-27</td>\n",
       "    </tr>\n",
       "    <tr>\n",
       "      <th>1</th>\n",
       "      <td>1000_160</td>\n",
       "      <td>1000</td>\n",
       "      <td>2018-12-31</td>\n",
       "    </tr>\n",
       "    <tr>\n",
       "      <th>2</th>\n",
       "      <td>1000_223</td>\n",
       "      <td>1000</td>\n",
       "      <td>2018-12-31</td>\n",
       "    </tr>\n",
       "    <tr>\n",
       "      <th>3</th>\n",
       "      <td>1000_251</td>\n",
       "      <td>1000</td>\n",
       "      <td>2018-12-27</td>\n",
       "    </tr>\n",
       "    <tr>\n",
       "      <th>4</th>\n",
       "      <td>1000_255</td>\n",
       "      <td>1000</td>\n",
       "      <td>2018-12-26</td>\n",
       "    </tr>\n",
       "    <tr>\n",
       "      <th>5</th>\n",
       "      <td>1000_346</td>\n",
       "      <td>1000</td>\n",
       "      <td>2018-12-29</td>\n",
       "    </tr>\n",
       "    <tr>\n",
       "      <th>6</th>\n",
       "      <td>1000_386</td>\n",
       "      <td>1000</td>\n",
       "      <td>2018-12-30</td>\n",
       "    </tr>\n",
       "    <tr>\n",
       "      <th>7</th>\n",
       "      <td>1000_413</td>\n",
       "      <td>1000</td>\n",
       "      <td>2018-12-31</td>\n",
       "    </tr>\n",
       "    <tr>\n",
       "      <th>8</th>\n",
       "      <td>1000_502</td>\n",
       "      <td>1000</td>\n",
       "      <td>2018-12-27</td>\n",
       "    </tr>\n",
       "    <tr>\n",
       "      <th>9</th>\n",
       "      <td>1000_525</td>\n",
       "      <td>1000</td>\n",
       "      <td>2018-12-28</td>\n",
       "    </tr>\n",
       "  </tbody>\n",
       "</table>\n",
       "</div>"
      ],
      "text/plain": [
       "         id  user_id message_date\n",
       "0  1000_125     1000   2018-12-27\n",
       "1  1000_160     1000   2018-12-31\n",
       "2  1000_223     1000   2018-12-31\n",
       "3  1000_251     1000   2018-12-27\n",
       "4  1000_255     1000   2018-12-26\n",
       "5  1000_346     1000   2018-12-29\n",
       "6  1000_386     1000   2018-12-30\n",
       "7  1000_413     1000   2018-12-31\n",
       "8  1000_502     1000   2018-12-27\n",
       "9  1000_525     1000   2018-12-28"
      ]
     },
     "execution_count": 62,
     "metadata": {},
     "output_type": "execute_result"
    }
   ],
   "source": [
    "megaline_messages.head(10)# Imprime una muestra de datos para los mensajes\n",
    "\n"
   ]
  },
  {
   "cell_type": "markdown",
   "metadata": {
    "id": "04xDj7KH0q1A"
   },
   "source": [
    "No se observan datos ausentes.\n",
    "\n",
    "La columna user_id tiene valores del tipo int64, pero al ser identificadores lo mejor es convertirlos a object.\n",
    "\n",
    "message_date contiene valores del tipo object, pero los convertiremos a datetime."
   ]
  },
  {
   "cell_type": "markdown",
   "metadata": {
    "id": "Sprfak900q1B"
   },
   "source": [
    "### Corregir los datos"
   ]
  },
  {
   "cell_type": "code",
   "execution_count": 63,
   "metadata": {
    "id": "vsllvkoa0q1B"
   },
   "outputs": [],
   "source": [
    "megaline_messages['user_id'] = megaline_messages['user_id'].astype('object')#convertir los datos de user_id a object\n",
    "\n",
    "megaline_messages['message_date'] = pd.to_datetime(megaline_messages['message_date'], format = '%Y-%m-%d')#convetir los datos de message_date a datetime"
   ]
  },
  {
   "cell_type": "markdown",
   "metadata": {
    "id": "HvLid7iD0q1B"
   },
   "source": [
    "### Enriquecer los datos"
   ]
  },
  {
   "cell_type": "code",
   "execution_count": 64,
   "metadata": {
    "id": "zYEXZac10q1C"
   },
   "outputs": [
    {
     "data": {
      "text/html": [
       "<div>\n",
       "<style scoped>\n",
       "    .dataframe tbody tr th:only-of-type {\n",
       "        vertical-align: middle;\n",
       "    }\n",
       "\n",
       "    .dataframe tbody tr th {\n",
       "        vertical-align: top;\n",
       "    }\n",
       "\n",
       "    .dataframe thead th {\n",
       "        text-align: right;\n",
       "    }\n",
       "</style>\n",
       "<table border=\"1\" class=\"dataframe\">\n",
       "  <thead>\n",
       "    <tr style=\"text-align: right;\">\n",
       "      <th></th>\n",
       "      <th>id</th>\n",
       "      <th>user_id</th>\n",
       "      <th>message_date</th>\n",
       "      <th>month</th>\n",
       "    </tr>\n",
       "  </thead>\n",
       "  <tbody>\n",
       "    <tr>\n",
       "      <th>0</th>\n",
       "      <td>1000_125</td>\n",
       "      <td>1000</td>\n",
       "      <td>2018-12-27</td>\n",
       "      <td>12</td>\n",
       "    </tr>\n",
       "    <tr>\n",
       "      <th>1</th>\n",
       "      <td>1000_160</td>\n",
       "      <td>1000</td>\n",
       "      <td>2018-12-31</td>\n",
       "      <td>12</td>\n",
       "    </tr>\n",
       "    <tr>\n",
       "      <th>2</th>\n",
       "      <td>1000_223</td>\n",
       "      <td>1000</td>\n",
       "      <td>2018-12-31</td>\n",
       "      <td>12</td>\n",
       "    </tr>\n",
       "    <tr>\n",
       "      <th>3</th>\n",
       "      <td>1000_251</td>\n",
       "      <td>1000</td>\n",
       "      <td>2018-12-27</td>\n",
       "      <td>12</td>\n",
       "    </tr>\n",
       "    <tr>\n",
       "      <th>4</th>\n",
       "      <td>1000_255</td>\n",
       "      <td>1000</td>\n",
       "      <td>2018-12-26</td>\n",
       "      <td>12</td>\n",
       "    </tr>\n",
       "  </tbody>\n",
       "</table>\n",
       "</div>"
      ],
      "text/plain": [
       "         id user_id message_date  month\n",
       "0  1000_125    1000   2018-12-27     12\n",
       "1  1000_160    1000   2018-12-31     12\n",
       "2  1000_223    1000   2018-12-31     12\n",
       "3  1000_251    1000   2018-12-27     12\n",
       "4  1000_255    1000   2018-12-26     12"
      ]
     },
     "execution_count": 64,
     "metadata": {},
     "output_type": "execute_result"
    }
   ],
   "source": [
    "#añadiremos la columna month\n",
    "megaline_messages['month'] = megaline_messages['message_date'].dt.month\n",
    "\n",
    "megaline_messages.head()"
   ]
  },
  {
   "cell_type": "markdown",
   "metadata": {
    "id": "bStkaxn40q1C"
   },
   "source": [
    "## Internet"
   ]
  },
  {
   "cell_type": "code",
   "execution_count": 65,
   "metadata": {
    "id": "e-Uz5qyn0q1C"
   },
   "outputs": [
    {
     "name": "stdout",
     "output_type": "stream",
     "text": [
      "<class 'pandas.core.frame.DataFrame'>\n",
      "RangeIndex: 104825 entries, 0 to 104824\n",
      "Data columns (total 4 columns):\n",
      " #   Column        Non-Null Count   Dtype  \n",
      "---  ------        --------------   -----  \n",
      " 0   id            104825 non-null  object \n",
      " 1   user_id       104825 non-null  int64  \n",
      " 2   session_date  104825 non-null  object \n",
      " 3   mb_used       104825 non-null  float64\n",
      "dtypes: float64(1), int64(1), object(2)\n",
      "memory usage: 3.2+ MB\n"
     ]
    }
   ],
   "source": [
    "megaline_internet.info()# Imprime la información general/resumida sobre el DataFrame de internet\n",
    "\n"
   ]
  },
  {
   "cell_type": "code",
   "execution_count": 66,
   "metadata": {
    "id": "9r3x_XLw0q1C"
   },
   "outputs": [
    {
     "data": {
      "text/html": [
       "<div>\n",
       "<style scoped>\n",
       "    .dataframe tbody tr th:only-of-type {\n",
       "        vertical-align: middle;\n",
       "    }\n",
       "\n",
       "    .dataframe tbody tr th {\n",
       "        vertical-align: top;\n",
       "    }\n",
       "\n",
       "    .dataframe thead th {\n",
       "        text-align: right;\n",
       "    }\n",
       "</style>\n",
       "<table border=\"1\" class=\"dataframe\">\n",
       "  <thead>\n",
       "    <tr style=\"text-align: right;\">\n",
       "      <th></th>\n",
       "      <th>id</th>\n",
       "      <th>user_id</th>\n",
       "      <th>session_date</th>\n",
       "      <th>mb_used</th>\n",
       "    </tr>\n",
       "  </thead>\n",
       "  <tbody>\n",
       "    <tr>\n",
       "      <th>0</th>\n",
       "      <td>1000_13</td>\n",
       "      <td>1000</td>\n",
       "      <td>2018-12-29</td>\n",
       "      <td>89.86</td>\n",
       "    </tr>\n",
       "    <tr>\n",
       "      <th>1</th>\n",
       "      <td>1000_204</td>\n",
       "      <td>1000</td>\n",
       "      <td>2018-12-31</td>\n",
       "      <td>0.00</td>\n",
       "    </tr>\n",
       "    <tr>\n",
       "      <th>2</th>\n",
       "      <td>1000_379</td>\n",
       "      <td>1000</td>\n",
       "      <td>2018-12-28</td>\n",
       "      <td>660.40</td>\n",
       "    </tr>\n",
       "    <tr>\n",
       "      <th>3</th>\n",
       "      <td>1000_413</td>\n",
       "      <td>1000</td>\n",
       "      <td>2018-12-26</td>\n",
       "      <td>270.99</td>\n",
       "    </tr>\n",
       "    <tr>\n",
       "      <th>4</th>\n",
       "      <td>1000_442</td>\n",
       "      <td>1000</td>\n",
       "      <td>2018-12-27</td>\n",
       "      <td>880.22</td>\n",
       "    </tr>\n",
       "    <tr>\n",
       "      <th>5</th>\n",
       "      <td>1001_0</td>\n",
       "      <td>1001</td>\n",
       "      <td>2018-08-24</td>\n",
       "      <td>284.68</td>\n",
       "    </tr>\n",
       "    <tr>\n",
       "      <th>6</th>\n",
       "      <td>1001_3</td>\n",
       "      <td>1001</td>\n",
       "      <td>2018-12-09</td>\n",
       "      <td>656.04</td>\n",
       "    </tr>\n",
       "    <tr>\n",
       "      <th>7</th>\n",
       "      <td>1001_4</td>\n",
       "      <td>1001</td>\n",
       "      <td>2018-11-04</td>\n",
       "      <td>16.97</td>\n",
       "    </tr>\n",
       "    <tr>\n",
       "      <th>8</th>\n",
       "      <td>1001_10</td>\n",
       "      <td>1001</td>\n",
       "      <td>2018-11-27</td>\n",
       "      <td>135.18</td>\n",
       "    </tr>\n",
       "    <tr>\n",
       "      <th>9</th>\n",
       "      <td>1001_15</td>\n",
       "      <td>1001</td>\n",
       "      <td>2018-12-13</td>\n",
       "      <td>761.92</td>\n",
       "    </tr>\n",
       "  </tbody>\n",
       "</table>\n",
       "</div>"
      ],
      "text/plain": [
       "         id  user_id session_date  mb_used\n",
       "0   1000_13     1000   2018-12-29    89.86\n",
       "1  1000_204     1000   2018-12-31     0.00\n",
       "2  1000_379     1000   2018-12-28   660.40\n",
       "3  1000_413     1000   2018-12-26   270.99\n",
       "4  1000_442     1000   2018-12-27   880.22\n",
       "5    1001_0     1001   2018-08-24   284.68\n",
       "6    1001_3     1001   2018-12-09   656.04\n",
       "7    1001_4     1001   2018-11-04    16.97\n",
       "8   1001_10     1001   2018-11-27   135.18\n",
       "9   1001_15     1001   2018-12-13   761.92"
      ]
     },
     "execution_count": 66,
     "metadata": {},
     "output_type": "execute_result"
    }
   ],
   "source": [
    "megaline_internet.head(10)# Imprime una muestra de datos para el tráfico de internet\n",
    "\n"
   ]
  },
  {
   "cell_type": "markdown",
   "metadata": {
    "id": "EzOG5ik30q1D"
   },
   "source": [
    "No se aprecian valores ausentes.\n",
    "\n",
    "id no presenta problemas.\n",
    "\n",
    "user_id presenta datos del tipo int64, pero deberían ser tipo object al ser identificadores.\n",
    "\n",
    "session_date contiene valores del tipo object, pero serán convertidos a datetime.\n",
    "\n",
    "mb_used contiene valores del tipo float, serán redondeados por necesidad del proyecto.\n"
   ]
  },
  {
   "cell_type": "markdown",
   "metadata": {
    "id": "yA0tkPFg0q1D"
   },
   "source": [
    "### Corregir los datos"
   ]
  },
  {
   "cell_type": "code",
   "execution_count": 67,
   "metadata": {
    "id": "zVeanzdd0q1E"
   },
   "outputs": [],
   "source": [
    "megaline_internet['user_id'].astype('object')\n",
    "\n",
    "megaline_internet['session_date'] = pd.to_datetime(megaline_internet['session_date'], format = '%Y-%m-%d')#convetir los datos de session_date a datetime"
   ]
  },
  {
   "cell_type": "markdown",
   "metadata": {
    "id": "e8_mLF4a0q1E"
   },
   "source": [
    "### Enriquecer los datos"
   ]
  },
  {
   "cell_type": "code",
   "execution_count": 68,
   "metadata": {
    "id": "ESiYPIEK0q1E"
   },
   "outputs": [
    {
     "name": "stdout",
     "output_type": "stream",
     "text": [
      "0\n"
     ]
    }
   ],
   "source": [
    "#buscar duplicados\n",
    "print(megaline_internet.duplicated().sum())\n",
    "\n",
    "#vamos a crear una columna con los gb utilizados\n",
    "megaline_internet['gb_used'] = megaline_internet['mb_used']/1024\n",
    "\n",
    "#añadiremos la columna month\n",
    "megaline_internet['month'] = megaline_internet['session_date'].dt.month\n"
   ]
  },
  {
   "cell_type": "markdown",
   "metadata": {
    "id": "3UA2cqIW0q1E"
   },
   "source": [
    "## Estudiar las condiciones de las tarifas"
   ]
  },
  {
   "cell_type": "code",
   "execution_count": 69,
   "metadata": {
    "id": "i409op8p0q1F"
   },
   "outputs": [
    {
     "data": {
      "text/html": [
       "<div>\n",
       "<style scoped>\n",
       "    .dataframe tbody tr th:only-of-type {\n",
       "        vertical-align: middle;\n",
       "    }\n",
       "\n",
       "    .dataframe tbody tr th {\n",
       "        vertical-align: top;\n",
       "    }\n",
       "\n",
       "    .dataframe thead th {\n",
       "        text-align: right;\n",
       "    }\n",
       "</style>\n",
       "<table border=\"1\" class=\"dataframe\">\n",
       "  <thead>\n",
       "    <tr style=\"text-align: right;\">\n",
       "      <th></th>\n",
       "      <th>messages_included</th>\n",
       "      <th>mb_per_month_included</th>\n",
       "      <th>minutes_included</th>\n",
       "      <th>usd_monthly_pay</th>\n",
       "      <th>usd_per_gb</th>\n",
       "      <th>usd_per_message</th>\n",
       "      <th>usd_per_minute</th>\n",
       "      <th>plan</th>\n",
       "    </tr>\n",
       "  </thead>\n",
       "  <tbody>\n",
       "    <tr>\n",
       "      <th>0</th>\n",
       "      <td>50</td>\n",
       "      <td>15360</td>\n",
       "      <td>500</td>\n",
       "      <td>20</td>\n",
       "      <td>10</td>\n",
       "      <td>0.03</td>\n",
       "      <td>0.03</td>\n",
       "      <td>surf</td>\n",
       "    </tr>\n",
       "    <tr>\n",
       "      <th>1</th>\n",
       "      <td>1000</td>\n",
       "      <td>30720</td>\n",
       "      <td>3000</td>\n",
       "      <td>70</td>\n",
       "      <td>7</td>\n",
       "      <td>0.01</td>\n",
       "      <td>0.01</td>\n",
       "      <td>ultimate</td>\n",
       "    </tr>\n",
       "  </tbody>\n",
       "</table>\n",
       "</div>"
      ],
      "text/plain": [
       "   messages_included  mb_per_month_included  minutes_included  \\\n",
       "0                 50                  15360               500   \n",
       "1               1000                  30720              3000   \n",
       "\n",
       "   usd_monthly_pay  usd_per_gb  usd_per_message  usd_per_minute      plan  \n",
       "0               20          10             0.03            0.03      surf  \n",
       "1               70           7             0.01            0.01  ultimate  "
      ]
     },
     "metadata": {},
     "output_type": "display_data"
    }
   ],
   "source": [
    "display(megaline_plans)# Imprime las condiciones de la tarifa y asegúrate de que te quedan claras\n",
    "\n"
   ]
  },
  {
   "cell_type": "markdown",
   "metadata": {
    "id": "hMR1tP5d0q1F"
   },
   "source": [
    "## Agregar datos por usuario"
   ]
  },
  {
   "cell_type": "code",
   "execution_count": 70,
   "metadata": {
    "id": "A332cedB0q1G"
   },
   "outputs": [],
   "source": [
    "monthly_calls = megaline_calls.groupby(['user_id', 'month']).agg(\n",
    "total_calls = ('id', 'count'),\n",
    "total_duration = ('duration', 'sum')\n",
    ").reset_index()# Calcula el número de llamadas hechas por cada usuario al mes. Guarda el resultado.\n",
    "\n",
    "monthly_calls['total_duration'] = monthly_calls['total_duration'].apply(np.ceil)\n",
    "#redondeamos el total de las llamadas\n"
   ]
  },
  {
   "cell_type": "code",
   "execution_count": 71,
   "metadata": {
    "id": "CcQvNHn60q1G",
    "scrolled": true
   },
   "outputs": [
    {
     "data": {
      "text/html": [
       "<div>\n",
       "<style scoped>\n",
       "    .dataframe tbody tr th:only-of-type {\n",
       "        vertical-align: middle;\n",
       "    }\n",
       "\n",
       "    .dataframe tbody tr th {\n",
       "        vertical-align: top;\n",
       "    }\n",
       "\n",
       "    .dataframe thead th {\n",
       "        text-align: right;\n",
       "    }\n",
       "</style>\n",
       "<table border=\"1\" class=\"dataframe\">\n",
       "  <thead>\n",
       "    <tr style=\"text-align: right;\">\n",
       "      <th></th>\n",
       "      <th>user_id</th>\n",
       "      <th>month</th>\n",
       "      <th>total_messages</th>\n",
       "    </tr>\n",
       "  </thead>\n",
       "  <tbody>\n",
       "    <tr>\n",
       "      <th>0</th>\n",
       "      <td>1000</td>\n",
       "      <td>12</td>\n",
       "      <td>11</td>\n",
       "    </tr>\n",
       "    <tr>\n",
       "      <th>1</th>\n",
       "      <td>1001</td>\n",
       "      <td>8</td>\n",
       "      <td>30</td>\n",
       "    </tr>\n",
       "    <tr>\n",
       "      <th>2</th>\n",
       "      <td>1001</td>\n",
       "      <td>9</td>\n",
       "      <td>44</td>\n",
       "    </tr>\n",
       "    <tr>\n",
       "      <th>3</th>\n",
       "      <td>1001</td>\n",
       "      <td>10</td>\n",
       "      <td>53</td>\n",
       "    </tr>\n",
       "    <tr>\n",
       "      <th>4</th>\n",
       "      <td>1001</td>\n",
       "      <td>11</td>\n",
       "      <td>36</td>\n",
       "    </tr>\n",
       "    <tr>\n",
       "      <th>5</th>\n",
       "      <td>1001</td>\n",
       "      <td>12</td>\n",
       "      <td>44</td>\n",
       "    </tr>\n",
       "    <tr>\n",
       "      <th>6</th>\n",
       "      <td>1002</td>\n",
       "      <td>10</td>\n",
       "      <td>15</td>\n",
       "    </tr>\n",
       "    <tr>\n",
       "      <th>7</th>\n",
       "      <td>1002</td>\n",
       "      <td>11</td>\n",
       "      <td>32</td>\n",
       "    </tr>\n",
       "    <tr>\n",
       "      <th>8</th>\n",
       "      <td>1002</td>\n",
       "      <td>12</td>\n",
       "      <td>41</td>\n",
       "    </tr>\n",
       "    <tr>\n",
       "      <th>9</th>\n",
       "      <td>1003</td>\n",
       "      <td>12</td>\n",
       "      <td>50</td>\n",
       "    </tr>\n",
       "  </tbody>\n",
       "</table>\n",
       "</div>"
      ],
      "text/plain": [
       "   user_id  month  total_messages\n",
       "0     1000     12              11\n",
       "1     1001      8              30\n",
       "2     1001      9              44\n",
       "3     1001     10              53\n",
       "4     1001     11              36\n",
       "5     1001     12              44\n",
       "6     1002     10              15\n",
       "7     1002     11              32\n",
       "8     1002     12              41\n",
       "9     1003     12              50"
      ]
     },
     "metadata": {},
     "output_type": "display_data"
    }
   ],
   "source": [
    "monthly_messages = megaline_messages.groupby(['user_id', 'month']).agg(\n",
    "    total_messages = ('id', 'count')\n",
    ").reset_index()# Calcula el número de mensajes enviados por cada usuario al mes. Guarda el resultado.\n",
    "\n",
    "display(monthly_messages.head(10))"
   ]
  },
  {
   "cell_type": "code",
   "execution_count": 72,
   "metadata": {
    "id": "H1AqN2eG0q1H"
   },
   "outputs": [
    {
     "data": {
      "text/html": [
       "<div>\n",
       "<style scoped>\n",
       "    .dataframe tbody tr th:only-of-type {\n",
       "        vertical-align: middle;\n",
       "    }\n",
       "\n",
       "    .dataframe tbody tr th {\n",
       "        vertical-align: top;\n",
       "    }\n",
       "\n",
       "    .dataframe thead th {\n",
       "        text-align: right;\n",
       "    }\n",
       "</style>\n",
       "<table border=\"1\" class=\"dataframe\">\n",
       "  <thead>\n",
       "    <tr style=\"text-align: right;\">\n",
       "      <th></th>\n",
       "      <th>user_id</th>\n",
       "      <th>month</th>\n",
       "      <th>total_gb</th>\n",
       "    </tr>\n",
       "  </thead>\n",
       "  <tbody>\n",
       "    <tr>\n",
       "      <th>0</th>\n",
       "      <td>1000</td>\n",
       "      <td>12</td>\n",
       "      <td>1.856904</td>\n",
       "    </tr>\n",
       "    <tr>\n",
       "      <th>1</th>\n",
       "      <td>1001</td>\n",
       "      <td>8</td>\n",
       "      <td>6.756982</td>\n",
       "    </tr>\n",
       "    <tr>\n",
       "      <th>2</th>\n",
       "      <td>1001</td>\n",
       "      <td>9</td>\n",
       "      <td>13.002754</td>\n",
       "    </tr>\n",
       "    <tr>\n",
       "      <th>3</th>\n",
       "      <td>1001</td>\n",
       "      <td>10</td>\n",
       "      <td>21.807119</td>\n",
       "    </tr>\n",
       "    <tr>\n",
       "      <th>4</th>\n",
       "      <td>1001</td>\n",
       "      <td>11</td>\n",
       "      <td>18.070605</td>\n",
       "    </tr>\n",
       "    <tr>\n",
       "      <th>5</th>\n",
       "      <td>1001</td>\n",
       "      <td>12</td>\n",
       "      <td>18.915215</td>\n",
       "    </tr>\n",
       "    <tr>\n",
       "      <th>6</th>\n",
       "      <td>1002</td>\n",
       "      <td>10</td>\n",
       "      <td>6.398447</td>\n",
       "    </tr>\n",
       "    <tr>\n",
       "      <th>7</th>\n",
       "      <td>1002</td>\n",
       "      <td>11</td>\n",
       "      <td>18.891680</td>\n",
       "    </tr>\n",
       "    <tr>\n",
       "      <th>8</th>\n",
       "      <td>1002</td>\n",
       "      <td>12</td>\n",
       "      <td>14.058828</td>\n",
       "    </tr>\n",
       "    <tr>\n",
       "      <th>9</th>\n",
       "      <td>1003</td>\n",
       "      <td>12</td>\n",
       "      <td>26.410293</td>\n",
       "    </tr>\n",
       "  </tbody>\n",
       "</table>\n",
       "</div>"
      ],
      "text/plain": [
       "   user_id  month   total_gb\n",
       "0     1000     12   1.856904\n",
       "1     1001      8   6.756982\n",
       "2     1001      9  13.002754\n",
       "3     1001     10  21.807119\n",
       "4     1001     11  18.070605\n",
       "5     1001     12  18.915215\n",
       "6     1002     10   6.398447\n",
       "7     1002     11  18.891680\n",
       "8     1002     12  14.058828\n",
       "9     1003     12  26.410293"
      ]
     },
     "metadata": {},
     "output_type": "display_data"
    }
   ],
   "source": [
    "monthly_internet = megaline_internet.groupby(['user_id', 'month']).agg(\n",
    "    total_gb = ('gb_used', 'sum')\n",
    ").reset_index()# Calcula el volumen del tráfico de Internet usado por cada usuario al mes. Guarda el resultado.\n",
    "\n",
    "display(monthly_internet.head(10))"
   ]
  },
  {
   "cell_type": "code",
   "execution_count": 73,
   "metadata": {
    "id": "FW99ykyf0q1H"
   },
   "outputs": [],
   "source": [
    "monthly_info = monthly_calls.merge(monthly_messages, on=['user_id', 'month'], how = 'outer')# Fusiona los datos de llamadas, minutos, mensajes e Internet con base en user_id y month\n",
    "monthly_info = monthly_info.merge(monthly_internet, on=['user_id', 'month'], how = 'outer')"
   ]
  },
  {
   "cell_type": "code",
   "execution_count": 74,
   "metadata": {
    "id": "0dNOXHag0q1H"
   },
   "outputs": [],
   "source": [
    "user_info = megaline_users.merge(megaline_plans, on = 'plan')# Añade la información de la \n",
    "\n",
    "monthly_info = monthly_info.merge(user_info, on = 'user_id')\n"
   ]
  },
  {
   "cell_type": "code",
   "execution_count": 75,
   "metadata": {
    "id": "5FGCf_c60q1I"
   },
   "outputs": [
    {
     "data": {
      "text/html": [
       "<div>\n",
       "<style scoped>\n",
       "    .dataframe tbody tr th:only-of-type {\n",
       "        vertical-align: middle;\n",
       "    }\n",
       "\n",
       "    .dataframe tbody tr th {\n",
       "        vertical-align: top;\n",
       "    }\n",
       "\n",
       "    .dataframe thead th {\n",
       "        text-align: right;\n",
       "    }\n",
       "</style>\n",
       "<table border=\"1\" class=\"dataframe\">\n",
       "  <thead>\n",
       "    <tr style=\"text-align: right;\">\n",
       "      <th></th>\n",
       "      <th>user_id</th>\n",
       "      <th>month</th>\n",
       "      <th>total_calls</th>\n",
       "      <th>total_duration</th>\n",
       "      <th>total_messages</th>\n",
       "      <th>total_gb</th>\n",
       "      <th>first_name</th>\n",
       "      <th>last_name</th>\n",
       "      <th>age</th>\n",
       "      <th>city</th>\n",
       "      <th>...</th>\n",
       "      <th>usd_per_gb</th>\n",
       "      <th>usd_per_message</th>\n",
       "      <th>usd_per_minute</th>\n",
       "      <th>minutes_to_pay</th>\n",
       "      <th>minutes_price</th>\n",
       "      <th>messages_to_pay</th>\n",
       "      <th>messages_price</th>\n",
       "      <th>gb_to_pay</th>\n",
       "      <th>gb_price</th>\n",
       "      <th>total_income</th>\n",
       "    </tr>\n",
       "  </thead>\n",
       "  <tbody>\n",
       "    <tr>\n",
       "      <th>570</th>\n",
       "      <td>1123</td>\n",
       "      <td>6</td>\n",
       "      <td>6.0</td>\n",
       "      <td>43.0</td>\n",
       "      <td>1.0</td>\n",
       "      <td>2.0</td>\n",
       "      <td>Dierdre</td>\n",
       "      <td>Nash</td>\n",
       "      <td>66</td>\n",
       "      <td>Philadelphia-Camden-Wilmington, PA-NJ-DE-MD MSA</td>\n",
       "      <td>...</td>\n",
       "      <td>10</td>\n",
       "      <td>0.03</td>\n",
       "      <td>0.03</td>\n",
       "      <td>0.0</td>\n",
       "      <td>0.00</td>\n",
       "      <td>0.0</td>\n",
       "      <td>0.0</td>\n",
       "      <td>0.0</td>\n",
       "      <td>0.0</td>\n",
       "      <td>20.00</td>\n",
       "    </tr>\n",
       "    <tr>\n",
       "      <th>1738</th>\n",
       "      <td>1382</td>\n",
       "      <td>9</td>\n",
       "      <td>160.0</td>\n",
       "      <td>1232.0</td>\n",
       "      <td>49.0</td>\n",
       "      <td>17.0</td>\n",
       "      <td>Luci</td>\n",
       "      <td>Kidd</td>\n",
       "      <td>49</td>\n",
       "      <td>San Diego-Chula Vista-Carlsbad, CA MSA</td>\n",
       "      <td>...</td>\n",
       "      <td>7</td>\n",
       "      <td>0.01</td>\n",
       "      <td>0.01</td>\n",
       "      <td>0.0</td>\n",
       "      <td>0.00</td>\n",
       "      <td>0.0</td>\n",
       "      <td>0.0</td>\n",
       "      <td>0.0</td>\n",
       "      <td>0.0</td>\n",
       "      <td>70.00</td>\n",
       "    </tr>\n",
       "    <tr>\n",
       "      <th>24</th>\n",
       "      <td>1007</td>\n",
       "      <td>11</td>\n",
       "      <td>80.0</td>\n",
       "      <td>524.0</td>\n",
       "      <td>48.0</td>\n",
       "      <td>24.0</td>\n",
       "      <td>Eusebio</td>\n",
       "      <td>Welch</td>\n",
       "      <td>42</td>\n",
       "      <td>Grand Rapids-Kentwood, MI MSA</td>\n",
       "      <td>...</td>\n",
       "      <td>10</td>\n",
       "      <td>0.03</td>\n",
       "      <td>0.03</td>\n",
       "      <td>24.0</td>\n",
       "      <td>0.72</td>\n",
       "      <td>0.0</td>\n",
       "      <td>0.0</td>\n",
       "      <td>9.0</td>\n",
       "      <td>90.0</td>\n",
       "      <td>110.72</td>\n",
       "    </tr>\n",
       "    <tr>\n",
       "      <th>1797</th>\n",
       "      <td>1393</td>\n",
       "      <td>10</td>\n",
       "      <td>9.0</td>\n",
       "      <td>71.0</td>\n",
       "      <td>4.0</td>\n",
       "      <td>NaN</td>\n",
       "      <td>Wilfredo</td>\n",
       "      <td>Rosa</td>\n",
       "      <td>44</td>\n",
       "      <td>Knoxville, TN MSA</td>\n",
       "      <td>...</td>\n",
       "      <td>10</td>\n",
       "      <td>0.03</td>\n",
       "      <td>0.03</td>\n",
       "      <td>0.0</td>\n",
       "      <td>0.00</td>\n",
       "      <td>0.0</td>\n",
       "      <td>0.0</td>\n",
       "      <td>NaN</td>\n",
       "      <td>NaN</td>\n",
       "      <td>NaN</td>\n",
       "    </tr>\n",
       "    <tr>\n",
       "      <th>1680</th>\n",
       "      <td>1367</td>\n",
       "      <td>8</td>\n",
       "      <td>23.0</td>\n",
       "      <td>158.0</td>\n",
       "      <td>NaN</td>\n",
       "      <td>19.0</td>\n",
       "      <td>Minh</td>\n",
       "      <td>Fischer</td>\n",
       "      <td>18</td>\n",
       "      <td>Baltimore-Columbia-Towson, MD MSA</td>\n",
       "      <td>...</td>\n",
       "      <td>10</td>\n",
       "      <td>0.03</td>\n",
       "      <td>0.03</td>\n",
       "      <td>0.0</td>\n",
       "      <td>0.00</td>\n",
       "      <td>NaN</td>\n",
       "      <td>NaN</td>\n",
       "      <td>4.0</td>\n",
       "      <td>40.0</td>\n",
       "      <td>NaN</td>\n",
       "    </tr>\n",
       "    <tr>\n",
       "      <th>414</th>\n",
       "      <td>1088</td>\n",
       "      <td>6</td>\n",
       "      <td>29.0</td>\n",
       "      <td>242.0</td>\n",
       "      <td>37.0</td>\n",
       "      <td>16.0</td>\n",
       "      <td>Paris</td>\n",
       "      <td>Robertson</td>\n",
       "      <td>64</td>\n",
       "      <td>Phoenix-Mesa-Chandler, AZ MSA</td>\n",
       "      <td>...</td>\n",
       "      <td>7</td>\n",
       "      <td>0.01</td>\n",
       "      <td>0.01</td>\n",
       "      <td>0.0</td>\n",
       "      <td>0.00</td>\n",
       "      <td>0.0</td>\n",
       "      <td>0.0</td>\n",
       "      <td>0.0</td>\n",
       "      <td>0.0</td>\n",
       "      <td>70.00</td>\n",
       "    </tr>\n",
       "    <tr>\n",
       "      <th>369</th>\n",
       "      <td>1077</td>\n",
       "      <td>9</td>\n",
       "      <td>119.0</td>\n",
       "      <td>856.0</td>\n",
       "      <td>63.0</td>\n",
       "      <td>19.0</td>\n",
       "      <td>Chau</td>\n",
       "      <td>Webster</td>\n",
       "      <td>23</td>\n",
       "      <td>Charlotte-Concord-Gastonia, NC-SC MSA</td>\n",
       "      <td>...</td>\n",
       "      <td>7</td>\n",
       "      <td>0.01</td>\n",
       "      <td>0.01</td>\n",
       "      <td>0.0</td>\n",
       "      <td>0.00</td>\n",
       "      <td>0.0</td>\n",
       "      <td>0.0</td>\n",
       "      <td>0.0</td>\n",
       "      <td>0.0</td>\n",
       "      <td>70.00</td>\n",
       "    </tr>\n",
       "    <tr>\n",
       "      <th>64</th>\n",
       "      <td>1017</td>\n",
       "      <td>10</td>\n",
       "      <td>68.0</td>\n",
       "      <td>400.0</td>\n",
       "      <td>35.0</td>\n",
       "      <td>28.0</td>\n",
       "      <td>Boris</td>\n",
       "      <td>Gates</td>\n",
       "      <td>61</td>\n",
       "      <td>Washington-Arlington-Alexandria, DC-VA-MD-WV MSA</td>\n",
       "      <td>...</td>\n",
       "      <td>10</td>\n",
       "      <td>0.03</td>\n",
       "      <td>0.03</td>\n",
       "      <td>0.0</td>\n",
       "      <td>0.00</td>\n",
       "      <td>0.0</td>\n",
       "      <td>0.0</td>\n",
       "      <td>13.0</td>\n",
       "      <td>130.0</td>\n",
       "      <td>150.00</td>\n",
       "    </tr>\n",
       "    <tr>\n",
       "      <th>55</th>\n",
       "      <td>1013</td>\n",
       "      <td>12</td>\n",
       "      <td>35.0</td>\n",
       "      <td>219.0</td>\n",
       "      <td>16.0</td>\n",
       "      <td>20.0</td>\n",
       "      <td>Nicolas</td>\n",
       "      <td>Snider</td>\n",
       "      <td>50</td>\n",
       "      <td>Knoxville, TN MSA</td>\n",
       "      <td>...</td>\n",
       "      <td>7</td>\n",
       "      <td>0.01</td>\n",
       "      <td>0.01</td>\n",
       "      <td>0.0</td>\n",
       "      <td>0.00</td>\n",
       "      <td>0.0</td>\n",
       "      <td>0.0</td>\n",
       "      <td>0.0</td>\n",
       "      <td>0.0</td>\n",
       "      <td>70.00</td>\n",
       "    </tr>\n",
       "    <tr>\n",
       "      <th>741</th>\n",
       "      <td>1159</td>\n",
       "      <td>8</td>\n",
       "      <td>93.0</td>\n",
       "      <td>742.0</td>\n",
       "      <td>73.0</td>\n",
       "      <td>7.0</td>\n",
       "      <td>Dierdre</td>\n",
       "      <td>Baker</td>\n",
       "      <td>58</td>\n",
       "      <td>Miami-Fort Lauderdale-West Palm Beach, FL MSA</td>\n",
       "      <td>...</td>\n",
       "      <td>7</td>\n",
       "      <td>0.01</td>\n",
       "      <td>0.01</td>\n",
       "      <td>0.0</td>\n",
       "      <td>0.00</td>\n",
       "      <td>0.0</td>\n",
       "      <td>0.0</td>\n",
       "      <td>0.0</td>\n",
       "      <td>0.0</td>\n",
       "      <td>70.00</td>\n",
       "    </tr>\n",
       "  </tbody>\n",
       "</table>\n",
       "<p>10 rows × 27 columns</p>\n",
       "</div>"
      ],
      "text/plain": [
       "     user_id  month  total_calls  total_duration  total_messages  total_gb  \\\n",
       "570     1123      6          6.0            43.0             1.0       2.0   \n",
       "1738    1382      9        160.0          1232.0            49.0      17.0   \n",
       "24      1007     11         80.0           524.0            48.0      24.0   \n",
       "1797    1393     10          9.0            71.0             4.0       NaN   \n",
       "1680    1367      8         23.0           158.0             NaN      19.0   \n",
       "414     1088      6         29.0           242.0            37.0      16.0   \n",
       "369     1077      9        119.0           856.0            63.0      19.0   \n",
       "64      1017     10         68.0           400.0            35.0      28.0   \n",
       "55      1013     12         35.0           219.0            16.0      20.0   \n",
       "741     1159      8         93.0           742.0            73.0       7.0   \n",
       "\n",
       "     first_name  last_name  age  \\\n",
       "570     Dierdre       Nash   66   \n",
       "1738       Luci       Kidd   49   \n",
       "24      Eusebio      Welch   42   \n",
       "1797   Wilfredo       Rosa   44   \n",
       "1680       Minh    Fischer   18   \n",
       "414       Paris  Robertson   64   \n",
       "369        Chau    Webster   23   \n",
       "64        Boris      Gates   61   \n",
       "55      Nicolas     Snider   50   \n",
       "741     Dierdre      Baker   58   \n",
       "\n",
       "                                                  city  ... usd_per_gb  \\\n",
       "570    Philadelphia-Camden-Wilmington, PA-NJ-DE-MD MSA  ...         10   \n",
       "1738            San Diego-Chula Vista-Carlsbad, CA MSA  ...          7   \n",
       "24                       Grand Rapids-Kentwood, MI MSA  ...         10   \n",
       "1797                                 Knoxville, TN MSA  ...         10   \n",
       "1680                 Baltimore-Columbia-Towson, MD MSA  ...         10   \n",
       "414                      Phoenix-Mesa-Chandler, AZ MSA  ...          7   \n",
       "369              Charlotte-Concord-Gastonia, NC-SC MSA  ...          7   \n",
       "64    Washington-Arlington-Alexandria, DC-VA-MD-WV MSA  ...         10   \n",
       "55                                   Knoxville, TN MSA  ...          7   \n",
       "741      Miami-Fort Lauderdale-West Palm Beach, FL MSA  ...          7   \n",
       "\n",
       "     usd_per_message usd_per_minute  minutes_to_pay  minutes_price  \\\n",
       "570             0.03           0.03             0.0           0.00   \n",
       "1738            0.01           0.01             0.0           0.00   \n",
       "24              0.03           0.03            24.0           0.72   \n",
       "1797            0.03           0.03             0.0           0.00   \n",
       "1680            0.03           0.03             0.0           0.00   \n",
       "414             0.01           0.01             0.0           0.00   \n",
       "369             0.01           0.01             0.0           0.00   \n",
       "64              0.03           0.03             0.0           0.00   \n",
       "55              0.01           0.01             0.0           0.00   \n",
       "741             0.01           0.01             0.0           0.00   \n",
       "\n",
       "      messages_to_pay  messages_price  gb_to_pay  gb_price  total_income  \n",
       "570               0.0             0.0        0.0       0.0         20.00  \n",
       "1738              0.0             0.0        0.0       0.0         70.00  \n",
       "24                0.0             0.0        9.0      90.0        110.72  \n",
       "1797              0.0             0.0        NaN       NaN           NaN  \n",
       "1680              NaN             NaN        4.0      40.0           NaN  \n",
       "414               0.0             0.0        0.0       0.0         70.00  \n",
       "369               0.0             0.0        0.0       0.0         70.00  \n",
       "64                0.0             0.0       13.0     130.0        150.00  \n",
       "55                0.0             0.0        0.0       0.0         70.00  \n",
       "741               0.0             0.0        0.0       0.0         70.00  \n",
       "\n",
       "[10 rows x 27 columns]"
      ]
     },
     "execution_count": 75,
     "metadata": {},
     "output_type": "execute_result"
    }
   ],
   "source": [
    "#Llamadas\n",
    "monthly_info['minutes_to_pay'] = monthly_info['total_duration'] - monthly_info['minutes_included']# Calcula el ingreso mensual para cada usuario\n",
    "monthly_info['minutes_to_pay'] = monthly_info['minutes_to_pay'].apply(lambda x: max(x, 0))\n",
    "monthly_info['minutes_price'] = monthly_info['minutes_to_pay']*monthly_info['usd_per_minute']\n",
    "\n",
    "#Mensajes\n",
    "monthly_info['messages_to_pay'] = monthly_info['total_messages'] - monthly_info['messages_included']# Calcula el ingreso mensual para cada usuario\n",
    "monthly_info['messages_to_pay'] = monthly_info['messages_to_pay'].apply(lambda x: max(x, 0))\n",
    "monthly_info['messages_price'] = monthly_info['messages_to_pay']*monthly_info['usd_per_message']\n",
    "\n",
    "#internet\n",
    "monthly_info['total_gb'] = np.ceil(monthly_info['total_gb'])\n",
    "monthly_info['gb_to_pay'] = monthly_info['total_gb'] - monthly_info['mb_per_month_included'] / 1024# Calcula el ingreso mensual para cada usuario\n",
    "monthly_info['gb_to_pay'] = monthly_info['gb_to_pay'].apply(lambda x: max(x, 0))\n",
    "monthly_info['gb_price'] = monthly_info['gb_to_pay']*monthly_info['usd_per_gb']\n",
    "\n",
    "\n",
    "monthly_info['total_income'] = monthly_info['minutes_price'] + monthly_info['messages_price'] + monthly_info['gb_price'] + monthly_info['usd_monthly_pay']\n",
    "\n",
    "monthly_info.sample(10)"
   ]
  },
  {
   "cell_type": "markdown",
   "metadata": {
    "id": "-jtyHzJb0q1I"
   },
   "source": [
    "## Estudia el comportamiento de usuario"
   ]
  },
  {
   "cell_type": "markdown",
   "metadata": {
    "id": "AxU3Y0N70q1J"
   },
   "source": [
    "[Calcula algunas estadísticas descriptivas para los datos agregados y fusionados que nos sean útiles y que muestren un panorama general captado por los datos. Dibuja gráficos útiles para facilitar la comprensión. Dado que la tarea principal es comparar las tarifas y decidir cuál es más rentable, las estadísticas y gráficas deben calcularse por tarifa.]\n",
    "\n",
    "[En los comentarios hallarás pistas relevantes para las llamadas, pero no las hay para los mensajes e Internet. Sin embargo, el principio del estudio estadístico que se aplica para ellos es el mismo que para las llamadas.]"
   ]
  },
  {
   "cell_type": "markdown",
   "metadata": {
    "id": "vtW4CJEe0q1J"
   },
   "source": [
    "### Llamadas"
   ]
  },
  {
   "cell_type": "code",
   "execution_count": 76,
   "metadata": {
    "id": "Jf5v5--k0q1J"
   },
   "outputs": [
    {
     "data": {
      "text/plain": [
       "<Figure size 1000x600 with 0 Axes>"
      ]
     },
     "metadata": {},
     "output_type": "display_data"
    },
    {
     "data": {
      "image/png": "[encoded data removed]",
      "text/plain": [
       "<Figure size 640x480 with 1 Axes>"
      ]
     },
     "metadata": {},
     "output_type": "display_data"
    }
   ],
   "source": [
    "# Calcula la duración promedio de llamadas por cada plan y por cada mes\n",
    "duration_avg = monthly_info.groupby(['plan', 'month'])['total_duration'].mean().unstack()\n",
    "\n",
    "# Grafico de barras para visualizar la duración promedio de llamadas por cada plan y por cada mes\n",
    "plt.figure(figsize=(10, 6))\n",
    "duration_avg.plot(kind='bar')\n",
    "plt.title('Duración Promedio de Llamadas por Plan y Mes')\n",
    "plt.xlabel('Mes')\n",
    "plt.ylabel('Duración Promedio de Llamadas')\n",
    "plt.xticks(rotation=0)\n",
    "plt.legend(title='Plan')\n",
    "plt.grid(axis='y', linestyle='--', alpha=0.7)\n",
    "plt.show()\n",
    "\n"
   ]
  },
  {
   "cell_type": "code",
   "execution_count": 77,
   "metadata": {
    "id": "QoLqW1S_0q1J"
   },
   "outputs": [
    {
     "data": {
      "image/png": "[encoded data removed]",
      "text/plain": [
       "<Figure size 1000x600 with 1 Axes>"
      ]
     },
     "metadata": {},
     "output_type": "display_data"
    }
   ],
   "source": [
    "surf_minutes = monthly_info[monthly_info['plan'] == 'surf']['total_duration']\n",
    "ultimate_minutes = monthly_info[monthly_info['plan'] == 'ultimate']['total_duration']\n",
    "\n",
    "# Graficar histograma\n",
    "plt.figure(figsize=(10, 6))\n",
    "plt.hist(surf_minutes, bins=30, alpha=0.7, color='blue', label='Surf')\n",
    "plt.hist(ultimate_minutes, bins=30, alpha=0.7, color='red', label='Ultimate')\n",
    "plt.title('Distribución del Número de Minutos Mensuales por Plan')\n",
    "plt.xlabel('Número de Minutos Mensuales')\n",
    "plt.ylabel('Frecuencia')\n",
    "plt.legend()\n",
    "plt.grid(axis='y', linestyle='--', alpha=0.7)\n",
    "plt.show()\n",
    "# Compara el número de minutos mensuales que necesitan los usuarios de cada plan. Traza un histograma.\n",
    "\n"
   ]
  },
  {
   "cell_type": "code",
   "execution_count": 78,
   "metadata": {
    "id": "oSndbAnt0q1K"
   },
   "outputs": [
    {
     "name": "stdout",
     "output_type": "stream",
     "text": [
      "                mean           var\n",
      "plan                              \n",
      "surf      436.519741  52571.063243\n",
      "ultimate  434.676017  56573.632247\n"
     ]
    }
   ],
   "source": [
    "# Agrupar los datos por plan y calcular la media y la varianza de la duración de las llamadas\n",
    "call_duration_stats = monthly_info.groupby('plan')['total_duration'].agg(['mean', 'var'])\n",
    "\n",
    "print(call_duration_stats)# Calcula la media y la varianza de la duración mensual de llamadas."
   ]
  },
  {
   "cell_type": "code",
   "execution_count": 79,
   "metadata": {
    "id": "nZzoRUKc0q1K"
   },
   "outputs": [
    {
     "data": {
      "image/png": "[encoded data removed]",
      "text/plain": [
       "<Figure size 800x600 with 1 Axes>"
      ]
     },
     "metadata": {},
     "output_type": "display_data"
    }
   ],
   "source": [
    "# Crear el diagrama de caja\n",
    "call_duration_data = monthly_info[['plan', 'total_duration']]\n",
    "\n",
    "plt.figure(figsize=(8, 6))\n",
    "plt.boxplot([call_duration_data[call_duration_data['plan'] == 'surf']['total_duration'].dropna(),\n",
    "             call_duration_data[call_duration_data['plan'] == 'ultimate']['total_duration'].dropna()],\n",
    "            labels=['surf', 'ultimate'])\n",
    "plt.title('Distribución de la Duración Mensual de Llamadas por Plan')\n",
    "plt.xlabel('Plan')\n",
    "plt.ylabel('Duración Mensual de Llamadas')\n",
    "plt.grid(True)\n",
    "plt.show()"
   ]
  },
  {
   "cell_type": "markdown",
   "metadata": {
    "id": "r627zBO50q1K"
   },
   "source": [
    "Podemos apreciar que la duración mensual de las llamadas entre ambos planes es muy similar, habiendo diferencias significativas a favor de un plan u otro en ciertos meses.\n",
    "El promedio de la duración es ligeramente mayor para los clientes del plan 'surf', pero la varianza es mayor en el 'ultimate', por lo que podemos encontrar mayores casos alejados de la media en ese plan.\n",
    "Si puede haber algunas diferencias en el comportamiento de los usuarios con respecto a las llamadas entre los planes \"Surf\" y \"Ultimate\", estas diferencias pueden no ser lo suficientemente significativas para tener un impacto significativo en los ingresos generados por cada plan."
   ]
  },
  {
   "cell_type": "markdown",
   "metadata": {
    "id": "8idKy8Wh0q1L"
   },
   "source": [
    "### Mensajes"
   ]
  },
  {
   "cell_type": "code",
   "execution_count": 80,
   "metadata": {
    "id": "NXLxiTit0q1L"
   },
   "outputs": [
    {
     "data": {
      "text/plain": [
       "<Figure size 1000x600 with 0 Axes>"
      ]
     },
     "metadata": {},
     "output_type": "display_data"
    },
    {
     "data": {
      "image/png": "[encoded data removed]",
      "text/plain": [
       "<Figure size 640x480 with 1 Axes>"
      ]
     },
     "metadata": {},
     "output_type": "display_data"
    }
   ],
   "source": [
    "messages_avg = monthly_info.groupby(['plan', 'month'])['total_messages'].mean().unstack()\n",
    "\n",
    "# Gráfico de barras para visualizar la duración promedio de mensajes por cada plan y por cada mes\n",
    "plt.figure(figsize=(10, 6))\n",
    "messages_avg.plot(kind='bar')\n",
    "plt.title('Número Promedio de Mensajes por Plan y Mes')\n",
    "plt.xlabel('Mes')\n",
    "plt.ylabel('Número Promedio de Mensajes')\n",
    "plt.xticks(rotation=0)\n",
    "plt.legend(title='Plan')\n",
    "plt.grid(axis='y', linestyle='--', alpha=0.7)\n",
    "plt.show()# Comprara el número de mensajes que tienden a enviar cada mes los usuarios de cada plan"
   ]
  },
  {
   "cell_type": "code",
   "execution_count": 81,
   "metadata": {},
   "outputs": [
    {
     "name": "stdout",
     "output_type": "stream",
     "text": [
      "               mean          var\n",
      "plan                            \n",
      "surf      40.109656  1091.344231\n",
      "ultimate  46.296233  1085.183108\n"
     ]
    }
   ],
   "source": [
    "# Agrupar los datos por plan y calcular la media y la varianza de los mensajes.\n",
    "message_stats = monthly_info.groupby('plan')['total_messages'].agg(['mean', 'var'])\n",
    "\n",
    "print(message_stats)# Calcula la media y la varianza de mensajes."
   ]
  },
  {
   "cell_type": "code",
   "execution_count": 82,
   "metadata": {
    "id": "GRI_R7xF0q1L"
   },
   "outputs": [
    {
     "data": {
      "image/png": "[encoded data removed]",
      "text/plain": [
       "<Figure size 1000x600 with 1 Axes>"
      ]
     },
     "metadata": {},
     "output_type": "display_data"
    }
   ],
   "source": [
    "# Filtrar los datos para obtener los mensajes mensuales por plan\n",
    "surf_messages = monthly_info[monthly_info['plan'] == 'surf']['total_messages'].dropna()\n",
    "ultimate_messages = monthly_info[monthly_info['plan'] == 'ultimate']['total_messages'].dropna()\n",
    "\n",
    "# Graficar histograma\n",
    "plt.figure(figsize=(10, 6))\n",
    "plt.hist(surf_messages, bins=30, alpha=0.7, color='blue', label='Surf')\n",
    "plt.hist(ultimate_messages, bins=30, alpha=0.7, color='red', label='Ultimate')\n",
    "plt.title('Distribución del Número de Mensajes Mensuales por Plan')\n",
    "plt.xlabel('Número de Mensajes Mensuales')\n",
    "plt.ylabel('Frecuencia')\n",
    "plt.legend()\n",
    "plt.grid(axis='y', linestyle='--', alpha=0.7)\n",
    "plt.show()\n",
    "\n"
   ]
  },
  {
   "cell_type": "code",
   "execution_count": 83,
   "metadata": {
    "id": "dtFwCGAp0q1M"
   },
   "outputs": [
    {
     "data": {
      "image/png": "[encoded data removed]",
      "text/plain": [
       "<Figure size 800x600 with 1 Axes>"
      ]
     },
     "metadata": {},
     "output_type": "display_data"
    }
   ],
   "source": [
    "# Filtrar los datos para obtener el número de mensajes mensuales por plan\n",
    "surf_messages = monthly_info[monthly_info['plan'] == 'surf']['total_messages'].dropna()\n",
    "ultimate_messages = monthly_info[monthly_info['plan'] == 'ultimate']['total_messages'].dropna()\n",
    "\n",
    "# Graficar diagrama de caja\n",
    "plt.figure(figsize=(8, 6))\n",
    "plt.boxplot([surf_messages, ultimate_messages], labels=['Surf', 'Ultimate'])\n",
    "plt.title('Distribución del Número de Mensajes Mensuales por Plan')\n",
    "plt.xlabel('Plan')\n",
    "plt.ylabel('Número de Mensajes Mensuales')\n",
    "plt.grid(True)\n",
    "plt.show()"
   ]
  },
  {
   "cell_type": "markdown",
   "metadata": {
    "id": "390SSL480q1M"
   },
   "source": [
    " En promedio, los usuarios del plan 'ultimate' envían más mensajes por mes en comparación con los usuarios del plan 'surf'.\n",
    "\n",
    "La varianza del número de mensajes mensuales es similar entre los dos planes, lo que indica que ambos planes tienen una cantidad similar de variabilidad en el número de mensajes enviados por sus usuarios. Sin embargo, la varianza es ligeramente mayor para el plan 'surf', lo que sugiere que existe una mayor dispersión en el número de mensajes enviados por los usuarios de este plan.\n",
    "\n",
    "Los usuarios del plan 'ultimate' tienden a enviar más mensajes en promedio en comparación con los usuarios del plan 'surf'. Sin embargo, la varianza en el número de mensajes mensuales es similar entre los dos planes."
   ]
  },
  {
   "cell_type": "markdown",
   "metadata": {
    "id": "42YSypXz0q1M"
   },
   "source": [
    "### Internet"
   ]
  },
  {
   "cell_type": "code",
   "execution_count": 84,
   "metadata": {
    "id": "lSuKPtjh0q1M",
    "scrolled": true
   },
   "outputs": [
    {
     "data": {
      "text/plain": [
       "<Figure size 1000x600 with 0 Axes>"
      ]
     },
     "metadata": {},
     "output_type": "display_data"
    },
    {
     "data": {
      "image/png": "[encoded data removed]",
      "text/plain": [
       "<Figure size 640x480 with 1 Axes>"
      ]
     },
     "metadata": {},
     "output_type": "display_data"
    }
   ],
   "source": [
    "# Calcular la duración promedio del uso de internet por cada plan y por cada mes\n",
    "internet_avg = monthly_info.groupby(['plan', 'month'])['total_gb'].mean().unstack()\n",
    "\n",
    "# Gráfico de barras para visualizar la duración promedio del uso de internet por cada plan y por cada mes\n",
    "plt.figure(figsize=(10, 6))\n",
    "internet_avg.plot(kind='bar')\n",
    "plt.title('Duración Promedio de Uso de Internet por Plan y Mes')\n",
    "plt.xlabel('Mes')\n",
    "plt.ylabel('Duración Promedio de Uso de Internet (GB)')\n",
    "plt.xticks(rotation=0)\n",
    "plt.legend(title='Plan')\n",
    "plt.grid(axis='y', linestyle='--', alpha=0.7)\n",
    "plt.show()"
   ]
  },
  {
   "cell_type": "code",
   "execution_count": 85,
   "metadata": {},
   "outputs": [
    {
     "name": "stdout",
     "output_type": "stream",
     "text": [
      "               mean        var\n",
      "plan                          \n",
      "surf      16.831194  59.473734\n",
      "ultimate  17.331015  58.494733\n"
     ]
    }
   ],
   "source": [
    "# Agrupar los datos por plan y calcular la media y la varianza de trafico de internet\n",
    "internet_stats = monthly_info.groupby('plan')['total_gb'].agg(['mean', 'var'])\n",
    "\n",
    "print(internet_stats)# Calcula la media y la varianza de trafico de internet."
   ]
  },
  {
   "cell_type": "code",
   "execution_count": 86,
   "metadata": {
    "id": "wnh8jYXi0q1N"
   },
   "outputs": [
    {
     "data": {
      "image/png": "[encoded data removed]",
      "text/plain": [
       "<Figure size 1000x600 with 1 Axes>"
      ]
     },
     "metadata": {},
     "output_type": "display_data"
    }
   ],
   "source": [
    "# Filtrar los datos para obtener el tráfico de internet mensual por plan\n",
    "surf_internet = monthly_info[monthly_info['plan'] == 'surf']['total_gb'].dropna()\n",
    "ultimate_internet = monthly_info[monthly_info['plan'] == 'ultimate']['total_gb'].dropna()\n",
    "\n",
    "\n",
    "# Graficar histograma\n",
    "plt.figure(figsize=(10, 6))\n",
    "plt.hist(surf_internet, bins=30, alpha=0.7, color='blue', label='Surf')\n",
    "plt.hist(ultimate_internet, bins=30, alpha=0.7, color='red', label='Ultimate')\n",
    "plt.title('Distribución del Tráfico de Internet Mensual por Plan')\n",
    "plt.xlabel('Tráfico de Internet Mensual (GB)')\n",
    "plt.ylabel('Frecuencia')\n",
    "plt.legend()\n",
    "plt.grid(axis='y', linestyle='--', alpha=0.7)\n",
    "plt.show()"
   ]
  },
  {
   "cell_type": "code",
   "execution_count": 87,
   "metadata": {
    "id": "5VlyJ9ry0q1N"
   },
   "outputs": [
    {
     "data": {
      "image/png": "[encoded data removed]",
      "text/plain": [
       "<Figure size 800x600 with 1 Axes>"
      ]
     },
     "metadata": {},
     "output_type": "display_data"
    }
   ],
   "source": [
    "# Filtrar los datos para obtener el tráfico de internet mensual por plan\n",
    "surf_internet = monthly_info[monthly_info['plan'] == 'surf']['total_gb'].dropna()\n",
    "ultimate_internet = monthly_info[monthly_info['plan'] == 'ultimate']['total_gb'].dropna()\n",
    "\n",
    "# Graficar diagrama de caja\n",
    "plt.figure(figsize=(8, 6))\n",
    "plt.boxplot([surf_internet, ultimate_internet], labels=['Surf', 'Ultimate'])\n",
    "plt.title('Distribución del Tráfico de Internet Mensual por Plan')\n",
    "plt.xlabel('Plan')\n",
    "plt.ylabel('Tráfico de Internet Mensual (GB)')\n",
    "plt.grid(True)\n",
    "plt.show()"
   ]
  },
  {
   "cell_type": "markdown",
   "metadata": {
    "id": "UN9zwuMP0q1N"
   },
   "source": [
    "El comportamiento de los usuarios con respecto al consumo de tráfico de internet varía en función del plan. Los usuarios del plan 'ultimate' tienden a consumir más gigabytes de internet en promedio en comparación con los usuarios del plan 'surf'. Sin embargo, la variabilidad en el consumo parece ser similar entre los dos planes. Estas diferencias deben considerarse al diseñar y ajustar las ofertas de planes y servicios para satisfacer las necesidades y preferencias de los usuarios en cada segmento de mercado."
   ]
  },
  {
   "cell_type": "markdown",
   "metadata": {
    "id": "tCijq3260q1N"
   },
   "source": [
    "## Ingreso"
   ]
  },
  {
   "cell_type": "markdown",
   "metadata": {
    "id": "9nq5IAcy0q1O"
   },
   "source": [
    "[Del mismo modo que has estudiado el comportamiento de los usuarios, describe estadísticamente los ingresos de los planes.]"
   ]
  },
  {
   "cell_type": "code",
   "execution_count": 88,
   "metadata": {
    "id": "tz-dq_V00q1O"
   },
   "outputs": [
    {
     "name": "stdout",
     "output_type": "stream",
     "text": [
      "Medidas de Resumen para el Plan Surf:\n",
      "count    1180.000000\n",
      "mean       60.415839\n",
      "std        53.595739\n",
      "min        20.000000\n",
      "25%        20.022500\n",
      "50%        41.035000\n",
      "75%        80.232500\n",
      "max       590.370000\n",
      "Name: total_income, dtype: float64\n",
      "\n",
      "Medidas de Resumen para el Plan Ultimate:\n",
      "count    579.000000\n",
      "mean      72.248705\n",
      "std       11.034406\n",
      "min       70.000000\n",
      "25%       70.000000\n",
      "50%       70.000000\n",
      "75%       70.000000\n",
      "max      182.000000\n",
      "Name: total_income, dtype: float64\n",
      "\n",
      "Media de Ingresos para el Plan Surf: 60.41583898305085\n",
      "Media de Ingresos para el Plan Ultimate: 72.24870466321244\n"
     ]
    }
   ],
   "source": [
    "# Filtrar los datos para obtener los ingresos por plan\n",
    "surf_income = monthly_info[monthly_info['plan'] == 'surf']['total_income'].dropna()\n",
    "ultimate_income = monthly_info[monthly_info['plan'] == 'ultimate']['total_income'].dropna()\n",
    "\n",
    "# Medidas de Resumen\n",
    "surf_stats = surf_income.describe()\n",
    "ultimate_stats = ultimate_income.describe()\n",
    "\n",
    "# Comparación de Medias\n",
    "mean_surf = np.mean(surf_income)\n",
    "mean_ultimate = np.mean(ultimate_income)\n",
    "\n",
    "# Imprimir las medidas de resumen y las medias de los ingresos\n",
    "print(\"Medidas de Resumen para el Plan Surf:\")\n",
    "print(surf_stats)\n",
    "print(\"\\nMedidas de Resumen para el Plan Ultimate:\")\n",
    "print(ultimate_stats)\n",
    "\n",
    "print(\"\\nMedia de Ingresos para el Plan Surf:\", mean_surf)\n",
    "print(\"Media de Ingresos para el Plan Ultimate:\", mean_ultimate)"
   ]
  },
  {
   "cell_type": "markdown",
   "metadata": {
    "id": "KAFidcXZ0q1P"
   },
   "source": [
    "Basándonos en las medidas de resumen y las medias de los ingresos mensuales para los planes, podemos elaborar las siguientes conclusiones sobre cómo difiere el ingreso entre los planes:\n",
    "\n",
    "La media de ingresos mensuales es ligeramente más alta para el plan 'ultimate' en comparación con el plan 'surf'. Esto indica que, en promedio, los usuarios del plan 'ultimate' generan más ingresos mensuales que los usuarios del plan 'surf'.\n",
    "\n",
    "La desviación estándar de los ingresos mensuales es similar entre los dos planes, lo que sugiere que la variabilidad en los ingresos mensuales también es comparable entre los planes 'surf' y 'ultimate'.\n",
    "\n",
    "En resumen, aunque la variabilidad en los ingresos mensuales es similar entre los planes 'surf' y 'ultimate', la media de ingresos mensuales es más alta para el plan 'ultimate'. Esto sugiere que el plan 'ultimate' puede ser más rentable en promedio que el plan 'surf'. Pero hay que tomar en cuenta la cantidad de usuarios entre un plan y otro."
   ]
  },
  {
   "cell_type": "markdown",
   "metadata": {
    "id": "ajJ7VKeI0q1Q"
   },
   "source": [
    "## Prueba las hipótesis estadísticas"
   ]
  },
  {
   "cell_type": "markdown",
   "metadata": {
    "id": "IQwa_hsh0q1Q"
   },
   "source": [
    "H0: Los ingresos promedio de los usuarios de los planes de llamada Ultimate y Surf son iguales.\n",
    "\n",
    "H1: Los ingresos promedio de los usuarios de los planes de llamada Ultimate y Surf son diferentes."
   ]
  },
  {
   "cell_type": "code",
   "execution_count": 89,
   "metadata": {
    "scrolled": true
   },
   "outputs": [
    {
     "name": "stdout",
     "output_type": "stream",
     "text": [
      "0\n"
     ]
    }
   ],
   "source": [
    "median_income = monthly_info['total_income'].median()\n",
    "monthly_info['total_income'].fillna(median_income, inplace=True)\n",
    "\n",
    "print(monthly_info['total_income'].isnull().sum())"
   ]
  },
  {
   "cell_type": "markdown",
   "metadata": {},
   "source": [
    "1.5 La varianza de ingreso de los usuarios de los planes ultimate y surf es distinta\n",
    "\n",
    "-H0:La varianza de ingresos es igual.\n",
    "\n",
    "-H1: La varianza de ingresos es diferente."
   ]
  },
  {
   "cell_type": "code",
   "execution_count": 90,
   "metadata": {
    "id": "nFoPNlPq0q1R"
   },
   "outputs": [
    {
     "name": "stdout",
     "output_type": "stream",
     "text": [
      "p-value: 1.2405618826620148e-104 - Rechazamos la hipótesis nula\n"
     ]
    }
   ],
   "source": [
    "alpha = 0.05\n",
    "\n",
    "ingreso_surf = monthly_info[monthly_info['plan'] == 'surf']['total_income']\n",
    "ingreso_ultimate = monthly_info[monthly_info['plan'] == 'ultimate']['total_income']\n",
    "\n",
    "_, p_value_levene = levene(ingreso_surf, ingreso_ultimate)\n",
    "if p_value_levene < alpha:\n",
    "    print(f'p-value: {p_value_levene} - Rechazamos la hipótesis nula')\n",
    "    equalvar = False\n",
    "else:\n",
    "    print(f'p-value: {p_value_levene} - No podemos rechazar la hipótesis nula')\n",
    "    equalvar = True"
   ]
  },
  {
   "cell_type": "code",
   "execution_count": 91,
   "metadata": {},
   "outputs": [
    {
     "name": "stdout",
     "output_type": "stream",
     "text": [
      "p-value: 4.121058336439272e-13 - Rechazamos la hipótesis nula\n"
     ]
    }
   ],
   "source": [
    "_, p_value = ttest_ind(ingreso_surf, ingreso_ultimate, equal_var=equalvar)\n",
    "\n",
    "if p_value < alpha:\n",
    "    print(f'p-value: {p_value} - Rechazamos la hipótesis nula')\n",
    "else:\n",
    "    print(f'p-value: {p_value} - No podemos rechazar la hipótesis nula')"
   ]
  },
  {
   "cell_type": "markdown",
   "metadata": {
    "id": "LsBgitqj0q1R"
   },
   "source": [
    "H0: El ingreso promedio de los usuarios del área NY-NJ es igual al de los usuarios de otras regiones.\n",
    "\n",
    "H1: El ingreso promedio de los usuarios del área NY-NJ es diferente al de los usuarios de otras regiones."
   ]
  },
  {
   "cell_type": "code",
   "execution_count": 92,
   "metadata": {
    "id": "Cqcj7wrZ0q1S"
   },
   "outputs": [
    {
     "name": "stdout",
     "output_type": "stream",
     "text": [
      "p-value: 0.6343708004845809 - No podemos rechazar la hipótesis nula, la varianza es igual.\n",
      "\n",
      "p-value: 0.014752433774894847 - Rechazamos la hipótesis nula\n"
     ]
    }
   ],
   "source": [
    "ingreso_NYNJ = monthly_info[monthly_info['city'] == 'New York-Newark-Jersey City, NY-NJ-PA MSA']['total_income']\n",
    "ingreso_otros = monthly_info[monthly_info['city'] != 'New York-Newark-Jersey City, NY-NJ-PA MSA']['total_income']\n",
    "\n",
    "_, p_value_levene = levene(ingreso_NYNJ, ingreso_otros)\n",
    "if p_value_levene < alpha:\n",
    "    print(f'p-value: {p_value_levene} - Rechazamos la hipótesis nula, la varianza es diferente.')\n",
    "    equalvar = False\n",
    "else:\n",
    "    print(f'p-value: {p_value_levene} - No podemos rechazar la hipótesis nula, la varianza es igual.')\n",
    "    equalvar = True\n",
    "\n",
    "print()\n",
    "\n",
    "_, p_value = ttest_ind(ingreso_NYNJ, ingreso_otros, equal_var=equalvar)\n",
    "\n",
    "if p_value < alpha:\n",
    "    print(f'p-value: {p_value} - Rechazamos la hipótesis nula')\n",
    "else:\n",
    "    print(f'p-value: {p_value} - No podemos rechazar la hipótesis nula')# Prueba las hipótesis\n",
    "\n"
   ]
  },
  {
   "cell_type": "markdown",
   "metadata": {
    "id": "bbTR8UQO0q1T"
   },
   "source": [
    "## Conclusión general\n",
    "\n",
    "Comparación de Planes de Telecomunicaciones: Se analizaron dos planes de telecomunicaciones ofrecidos por Megaline: 'surf' y 'ultimate'. Se recopilaron datos sobre el comportamiento de los usuarios, incluyendo el uso de llamadas, mensajes y datos, así como los ingresos generados por cada plan.\n",
    "\n",
    "Análisis de Comportamiento de los Usuarios:\n",
    "\n",
    "Llamadas: Se observó que los usuarios del plan 'ultimate' tienden a realizar más llamadas que los del plan 'surf'. La distribución de la duración de las llamadas fue similar entre los dos planes.\n",
    "Mensajes: Los usuarios del plan 'ultimate' envían más mensajes en promedio que los del plan 'surf'.\n",
    "Internet: El consumo promedio de gigabytes de internet fue mayor para los usuarios del plan 'ultimate' en comparación con los del plan 'surf'.\n",
    "\n",
    "Comparación de Ingresos:\n",
    "\n",
    "Se calculó el ingreso total generado por cada usuario, considerando el pago mensual del plan y los cargos adicionales por uso excesivo de servicios.\n",
    "La media de ingresos mensuales fue ligeramente más alta para el plan 'ultimate' en comparación con el plan 'surf'.\n",
    "\n",
    "Visualización de Datos:\n",
    "\n",
    "Se utilizaron histogramas y diagramas de caja para visualizar la distribución de llamadas, mensajes, consumo de internet e ingresos mensuales por plan.\n",
    "Estas visualizaciones ayudaron a comprender la variabilidad y las tendencias en el comportamiento de los usuarios y los ingresos generados por cada plan.\n",
    "\n",
    "Conclusión Final:\n",
    "\n",
    "Los usuarios del plan 'ultimate' tienden a generar más ingresos mensuales en promedio que los del plan 'surf'.\n",
    "El comportamiento de los usuarios varía entre los dos planes, con diferencias significativas en el uso de llamadas, mensajes y datos.\n",
    "Las visualizaciones proporcionaron información valiosa para comprender la distribución y la variabilidad en el comportamiento de los usuarios y los ingresos generados por cada plan.\n",
    "\n",
    "\n",
    "En resumen, este análisis proporciona una base sólida para tomar decisiones comerciales y estratégicas informadas sobre la oferta de servicios y la asignación de recursos para maximizar la rentabilidad y satisfacer las necesidades de los clientes."
   ]
  }
 ],
 "metadata": {
  "ExecuteTimeLog": [
   {
    "duration": 828,
    "start_time": "2021-11-16T09:21:11.304Z"
   },
   {
    "duration": 893,
    "start_time": "2021-11-16T09:21:17.728Z"
   },
   {
    "duration": 1150,
    "start_time": "2021-11-16T09:21:29.568Z"
   },
   {
    "duration": 3,
    "start_time": "2021-11-16T09:24:14.495Z"
   },
   {
    "duration": 120,
    "start_time": "2021-11-16T09:24:46.630Z"
   },
   {
    "duration": 3,
    "start_time": "2021-11-16T09:28:27.882Z"
   },
   {
    "duration": 4,
    "start_time": "2021-11-16T09:29:54.281Z"
   },
   {
    "duration": 3,
    "start_time": "2021-11-16T09:30:45.936Z"
   },
   {
    "duration": 4,
    "start_time": "2021-11-16T09:31:06.300Z"
   },
   {
    "duration": 113,
    "start_time": "2021-11-16T09:31:37.208Z"
   },
   {
    "duration": 143,
    "start_time": "2021-11-16T09:31:48.656Z"
   },
   {
    "duration": 98,
    "start_time": "2021-11-16T09:31:55.678Z"
   },
   {
    "duration": 3,
    "start_time": "2021-11-16T09:32:08.535Z"
   },
   {
    "duration": 111,
    "start_time": "2021-11-16T09:32:10.120Z"
   },
   {
    "duration": 3,
    "start_time": "2021-11-16T09:32:15.732Z"
   },
   {
    "duration": 4,
    "start_time": "2021-11-16T09:32:29.423Z"
   },
   {
    "duration": 3,
    "start_time": "2021-11-16T10:03:03.074Z"
   },
   {
    "duration": 3,
    "start_time": "2021-11-16T10:10:01.288Z"
   },
   {
    "duration": 3,
    "start_time": "2021-11-16T10:10:46.923Z"
   },
   {
    "duration": 121,
    "start_time": "2021-11-16T10:37:46.494Z"
   },
   {
    "duration": 125,
    "start_time": "2021-11-16T10:38:20.632Z"
   },
   {
    "duration": 112,
    "start_time": "2021-11-16T10:46:53.001Z"
   },
   {
    "duration": 110,
    "start_time": "2021-11-16T10:48:25.775Z"
   },
   {
    "duration": 3,
    "start_time": "2021-11-16T10:50:18.720Z"
   },
   {
    "duration": 4,
    "start_time": "2021-11-16T10:50:37.649Z"
   },
   {
    "duration": 2,
    "start_time": "2021-11-16T10:50:51.884Z"
   },
   {
    "duration": 3,
    "start_time": "2021-11-16T10:51:56.237Z"
   },
   {
    "duration": 101,
    "start_time": "2021-11-16T10:53:13.791Z"
   },
   {
    "duration": 3,
    "start_time": "2021-11-16T10:55:59.186Z"
   },
   {
    "duration": 3,
    "start_time": "2021-11-16T10:56:10.751Z"
   },
   {
    "duration": 3,
    "start_time": "2021-11-16T10:56:49.038Z"
   },
   {
    "duration": 3,
    "start_time": "2021-11-16T10:56:49.174Z"
   },
   {
    "duration": 4,
    "start_time": "2021-11-16T10:56:49.414Z"
   },
   {
    "duration": 3,
    "start_time": "2021-11-16T10:56:49.680Z"
   },
   {
    "duration": 3,
    "start_time": "2021-11-16T10:56:50.370Z"
   },
   {
    "duration": 114,
    "start_time": "2021-11-16T10:59:34.518Z"
   },
   {
    "duration": 3,
    "start_time": "2021-11-16T11:01:41.201Z"
   },
   {
    "duration": 116,
    "start_time": "2021-11-16T11:01:48.754Z"
   },
   {
    "duration": 3,
    "start_time": "2021-11-16T11:02:16.685Z"
   },
   {
    "duration": 3,
    "start_time": "2021-11-16T11:02:19.479Z"
   },
   {
    "duration": 3,
    "start_time": "2021-11-16T11:02:47.067Z"
   },
   {
    "duration": 3,
    "start_time": "2021-11-16T11:02:49.353Z"
   },
   {
    "duration": 3,
    "start_time": "2021-11-16T11:03:07.835Z"
   },
   {
    "duration": 3,
    "start_time": "2021-11-16T11:03:07.953Z"
   },
   {
    "duration": 112,
    "start_time": "2021-11-16T11:07:52.072Z"
   },
   {
    "duration": 187,
    "start_time": "2021-11-16T11:09:23.468Z"
   },
   {
    "duration": 4,
    "start_time": "2021-11-16T11:10:01.455Z"
   },
   {
    "duration": 3,
    "start_time": "2021-11-16T11:10:05.069Z"
   },
   {
    "duration": 4,
    "start_time": "2021-11-16T11:10:13.376Z"
   },
   {
    "duration": 3,
    "start_time": "2021-11-16T11:10:14.434Z"
   },
   {
    "duration": 3,
    "start_time": "2021-11-16T11:10:22.853Z"
   },
   {
    "duration": 4,
    "start_time": "2021-11-16T11:27:29.279Z"
   },
   {
    "duration": 4,
    "start_time": "2021-11-16T11:29:08.919Z"
   },
   {
    "duration": 118,
    "start_time": "2021-11-16T11:29:46.703Z"
   },
   {
    "duration": 437,
    "start_time": "2021-11-16T11:36:02.181Z"
   },
   {
    "duration": 157,
    "start_time": "2021-11-16T11:36:14.388Z"
   },
   {
    "duration": 207,
    "start_time": "2021-11-16T11:47:15.898Z"
   },
   {
    "duration": 3,
    "start_time": "2021-11-16T11:53:52.092Z"
   },
   {
    "duration": 3,
    "start_time": "2021-11-16T11:53:52.236Z"
   },
   {
    "duration": 3,
    "start_time": "2021-11-16T11:59:12.005Z"
   },
   {
    "duration": 112,
    "start_time": "2021-11-16T12:00:33.446Z"
   },
   {
    "duration": 3,
    "start_time": "2021-11-16T12:02:14.453Z"
   },
   {
    "duration": 3,
    "start_time": "2021-11-16T12:02:39.512Z"
   },
   {
    "duration": 106,
    "start_time": "2021-11-16T12:03:03.460Z"
   },
   {
    "duration": 3,
    "start_time": "2021-11-17T20:37:21.139Z"
   },
   {
    "duration": 3,
    "start_time": "2021-11-17T20:37:22.229Z"
   },
   {
    "duration": 3,
    "start_time": "2021-11-17T20:38:38.806Z"
   },
   {
    "duration": 3,
    "start_time": "2021-11-17T20:38:41.958Z"
   },
   {
    "duration": 3,
    "start_time": "2021-11-17T20:43:46.551Z"
   },
   {
    "duration": 4,
    "start_time": "2021-11-17T20:58:21.835Z"
   },
   {
    "duration": 3,
    "start_time": "2021-11-17T20:59:21.872Z"
   },
   {
    "duration": 4,
    "start_time": "2021-11-17T20:59:45.352Z"
   },
   {
    "duration": 4,
    "start_time": "2021-11-17T20:59:49.646Z"
   },
   {
    "duration": 159,
    "start_time": "2021-11-17T21:02:26.949Z"
   },
   {
    "duration": 3,
    "start_time": "2021-11-17T21:03:53.461Z"
   },
   {
    "duration": 3,
    "start_time": "2021-11-17T21:03:53.694Z"
   },
   {
    "duration": 3,
    "start_time": "2021-11-17T21:05:28.145Z"
   },
   {
    "duration": 116,
    "start_time": "2021-11-17T21:05:57.787Z"
   },
   {
    "duration": 3,
    "start_time": "2021-11-17T21:06:37.993Z"
   },
   {
    "duration": 3,
    "start_time": "2021-11-17T21:06:38.261Z"
   },
   {
    "duration": 3,
    "start_time": "2021-11-17T21:11:54.358Z"
   },
   {
    "duration": 3,
    "start_time": "2021-11-17T21:12:43.846Z"
   },
   {
    "duration": 4,
    "start_time": "2021-11-17T21:13:08.773Z"
   },
   {
    "duration": 3,
    "start_time": "2021-11-17T21:14:44.441Z"
   },
   {
    "duration": 3,
    "start_time": "2021-11-17T21:15:42.059Z"
   },
   {
    "duration": 4,
    "start_time": "2021-11-17T21:15:51.995Z"
   },
   {
    "duration": 3,
    "start_time": "2021-11-17T21:15:53.923Z"
   },
   {
    "duration": 3,
    "start_time": "2021-11-17T21:15:55.282Z"
   },
   {
    "duration": 3,
    "start_time": "2021-11-17T21:16:28.492Z"
   },
   {
    "duration": 3,
    "start_time": "2021-11-17T21:16:32.603Z"
   },
   {
    "duration": 3,
    "start_time": "2021-11-17T21:17:06.941Z"
   },
   {
    "duration": 98,
    "start_time": "2021-11-17T21:18:05.733Z"
   },
   {
    "duration": 4,
    "start_time": "2021-11-17T21:21:35.255Z"
   },
   {
    "duration": 3,
    "start_time": "2021-11-17T21:21:37.804Z"
   },
   {
    "duration": 4,
    "start_time": "2021-11-17T21:23:06.071Z"
   },
   {
    "duration": 3,
    "start_time": "2021-11-17T21:23:24.799Z"
   },
   {
    "duration": 3,
    "start_time": "2021-11-17T21:23:32.591Z"
   },
   {
    "duration": 98,
    "start_time": "2021-11-17T21:28:31.559Z"
   },
   {
    "duration": 3,
    "start_time": "2021-11-17T21:28:45.448Z"
   },
   {
    "duration": 3,
    "start_time": "2021-11-17T21:29:17.303Z"
   },
   {
    "duration": 3,
    "start_time": "2021-11-17T21:29:29.617Z"
   },
   {
    "duration": 3,
    "start_time": "2021-11-17T21:29:32.681Z"
   },
   {
    "duration": 3,
    "start_time": "2021-11-17T21:36:11.474Z"
   },
   {
    "duration": 3,
    "start_time": "2021-11-17T21:36:14.791Z"
   },
   {
    "duration": 3,
    "start_time": "2021-11-17T21:36:53.943Z"
   },
   {
    "duration": 3,
    "start_time": "2021-11-17T21:36:56.165Z"
   },
   {
    "duration": 4,
    "start_time": "2021-11-17T21:37:16.590Z"
   },
   {
    "duration": 3,
    "start_time": "2021-11-17T21:37:22.702Z"
   },
   {
    "duration": 4,
    "start_time": "2021-11-17T21:38:03.479Z"
   },
   {
    "duration": 3,
    "start_time": "2021-11-17T21:38:08.601Z"
   },
   {
    "duration": 3,
    "start_time": "2021-11-17T21:38:12.928Z"
   },
   {
    "duration": 3,
    "start_time": "2021-11-17T21:38:48.896Z"
   },
   {
    "duration": 2,
    "start_time": "2021-11-17T21:38:49.171Z"
   },
   {
    "duration": 4,
    "start_time": "2021-11-17T21:39:57.889Z"
   },
   {
    "duration": 3,
    "start_time": "2021-11-17T21:39:58.057Z"
   },
   {
    "duration": 3,
    "start_time": "2021-11-17T21:41:20.108Z"
   },
   {
    "duration": 3,
    "start_time": "2021-11-17T21:41:20.629Z"
   },
   {
    "duration": 3,
    "start_time": "2021-11-17T21:42:49.136Z"
   },
   {
    "duration": 3,
    "start_time": "2021-11-17T21:43:15.137Z"
   },
   {
    "duration": 4,
    "start_time": "2021-11-17T21:43:16.766Z"
   },
   {
    "duration": 4,
    "start_time": "2021-11-17T21:43:31.711Z"
   },
   {
    "duration": 3,
    "start_time": "2021-11-17T21:43:36.312Z"
   },
   {
    "duration": 4,
    "start_time": "2021-11-17T21:45:08.825Z"
   },
   {
    "duration": 4,
    "start_time": "2021-11-17T21:45:10.119Z"
   },
   {
    "duration": 4,
    "start_time": "2021-11-17T21:45:13.748Z"
   },
   {
    "duration": 3,
    "start_time": "2021-11-17T21:45:22.219Z"
   },
   {
    "duration": 3,
    "start_time": "2021-11-17T21:45:33.412Z"
   },
   {
    "duration": 2,
    "start_time": "2021-11-17T21:46:01.885Z"
   },
   {
    "duration": 3,
    "start_time": "2021-11-17T21:46:03.628Z"
   },
   {
    "duration": 107,
    "start_time": "2021-11-17T21:47:32.512Z"
   },
   {
    "duration": 103,
    "start_time": "2021-11-17T21:50:36.243Z"
   },
   {
    "duration": 3,
    "start_time": "2021-11-18T06:28:31.440Z"
   },
   {
    "duration": 3,
    "start_time": "2021-11-18T06:29:00.168Z"
   },
   {
    "duration": 3,
    "start_time": "2021-11-18T06:31:27.008Z"
   },
   {
    "duration": 2,
    "start_time": "2021-11-18T06:35:34.288Z"
   },
   {
    "duration": 2,
    "start_time": "2021-11-18T06:38:04.527Z"
   },
   {
    "duration": 5141,
    "start_time": "2024-05-29T00:05:42.733Z"
   },
   {
    "duration": 4,
    "start_time": "2024-05-29T00:07:03.163Z"
   },
   {
    "duration": 8,
    "start_time": "2024-05-29T00:11:43.519Z"
   },
   {
    "duration": 1182,
    "start_time": "2024-05-29T00:11:50.512Z"
   },
   {
    "duration": 161,
    "start_time": "2024-05-29T00:13:44.280Z"
   },
   {
    "duration": 4,
    "start_time": "2024-05-29T00:14:51.609Z"
   },
   {
    "duration": 131,
    "start_time": "2024-05-29T00:14:55.943Z"
   },
   {
    "duration": 158,
    "start_time": "2024-05-29T00:17:58.050Z"
   },
   {
    "duration": 627,
    "start_time": "2024-05-29T00:18:19.815Z"
   },
   {
    "duration": 166,
    "start_time": "2024-05-29T00:21:37.751Z"
   },
   {
    "duration": 369,
    "start_time": "2024-05-29T00:22:06.658Z"
   },
   {
    "duration": 7,
    "start_time": "2024-05-29T00:34:57.074Z"
   },
   {
    "duration": 10,
    "start_time": "2024-05-29T00:35:30.926Z"
   },
   {
    "duration": 19,
    "start_time": "2024-05-29T00:35:40.695Z"
   },
   {
    "duration": 16,
    "start_time": "2024-05-29T00:36:33.034Z"
   },
   {
    "duration": 13,
    "start_time": "2024-05-29T00:37:13.424Z"
   },
   {
    "duration": 17,
    "start_time": "2024-05-29T01:04:32.400Z"
   },
   {
    "duration": 14,
    "start_time": "2024-05-29T01:06:32.090Z"
   },
   {
    "duration": 7,
    "start_time": "2024-05-29T01:52:11.731Z"
   },
   {
    "duration": 8,
    "start_time": "2024-05-29T01:52:28.973Z"
   },
   {
    "duration": 10,
    "start_time": "2024-05-29T01:53:07.166Z"
   },
   {
    "duration": 4839,
    "start_time": "2024-05-30T00:56:52.992Z"
   },
   {
    "duration": 355,
    "start_time": "2024-05-30T00:56:57.836Z"
   },
   {
    "duration": 17,
    "start_time": "2024-05-30T00:56:58.194Z"
   },
   {
    "duration": 24,
    "start_time": "2024-05-30T00:56:58.217Z"
   },
   {
    "duration": 3,
    "start_time": "2024-05-30T00:56:58.246Z"
   },
   {
    "duration": 4,
    "start_time": "2024-05-30T00:56:58.252Z"
   },
   {
    "duration": 14,
    "start_time": "2024-05-30T00:56:58.259Z"
   },
   {
    "duration": 58,
    "start_time": "2024-05-30T00:56:58.276Z"
   },
   {
    "duration": 9,
    "start_time": "2024-05-30T00:56:58.338Z"
   },
   {
    "duration": 3,
    "start_time": "2024-05-30T00:56:58.355Z"
   },
   {
    "duration": 4,
    "start_time": "2024-05-30T00:56:58.361Z"
   },
   {
    "duration": 4,
    "start_time": "2024-05-30T00:56:58.368Z"
   },
   {
    "duration": 3,
    "start_time": "2024-05-30T00:56:58.375Z"
   },
   {
    "duration": 55,
    "start_time": "2024-05-30T00:56:58.381Z"
   },
   {
    "duration": 4,
    "start_time": "2024-05-30T00:56:58.439Z"
   },
   {
    "duration": 2,
    "start_time": "2024-05-30T00:56:58.447Z"
   },
   {
    "duration": 3,
    "start_time": "2024-05-30T00:56:58.453Z"
   },
   {
    "duration": 4,
    "start_time": "2024-05-30T00:56:58.459Z"
   },
   {
    "duration": 4,
    "start_time": "2024-05-30T00:56:58.466Z"
   },
   {
    "duration": 3,
    "start_time": "2024-05-30T00:56:58.473Z"
   },
   {
    "duration": 58,
    "start_time": "2024-05-30T00:56:58.479Z"
   },
   {
    "duration": 3,
    "start_time": "2024-05-30T00:56:58.540Z"
   },
   {
    "duration": 3,
    "start_time": "2024-05-30T00:56:58.546Z"
   },
   {
    "duration": 4,
    "start_time": "2024-05-30T00:56:58.552Z"
   },
   {
    "duration": 3,
    "start_time": "2024-05-30T00:56:58.559Z"
   },
   {
    "duration": 4,
    "start_time": "2024-05-30T00:56:58.565Z"
   },
   {
    "duration": 4,
    "start_time": "2024-05-30T00:56:58.571Z"
   },
   {
    "duration": 3,
    "start_time": "2024-05-30T00:56:58.637Z"
   },
   {
    "duration": 4,
    "start_time": "2024-05-30T00:56:58.643Z"
   },
   {
    "duration": 3,
    "start_time": "2024-05-30T00:56:58.650Z"
   },
   {
    "duration": 3,
    "start_time": "2024-05-30T00:56:58.657Z"
   },
   {
    "duration": 25,
    "start_time": "2024-05-30T00:57:11.411Z"
   },
   {
    "duration": 13,
    "start_time": "2024-05-30T00:57:38.572Z"
   },
   {
    "duration": 6,
    "start_time": "2024-05-30T01:47:09.968Z"
   },
   {
    "duration": 36,
    "start_time": "2024-05-30T01:51:20.705Z"
   },
   {
    "duration": 26,
    "start_time": "2024-05-30T01:52:14.898Z"
   },
   {
    "duration": 14,
    "start_time": "2024-05-30T01:52:30.586Z"
   },
   {
    "duration": 4,
    "start_time": "2024-05-30T02:00:09.667Z"
   },
   {
    "duration": 204,
    "start_time": "2024-05-30T02:05:53.363Z"
   },
   {
    "duration": 5,
    "start_time": "2024-05-30T02:06:32.455Z"
   },
   {
    "duration": 11,
    "start_time": "2024-05-30T02:06:50.605Z"
   },
   {
    "duration": 9,
    "start_time": "2024-05-30T02:06:57.310Z"
   },
   {
    "duration": 9,
    "start_time": "2024-05-30T02:07:05.521Z"
   },
   {
    "duration": 56,
    "start_time": "2024-05-30T02:08:19.080Z"
   },
   {
    "duration": 272,
    "start_time": "2024-05-30T02:08:47.516Z"
   },
   {
    "duration": 26,
    "start_time": "2024-05-30T02:09:10.965Z"
   },
   {
    "duration": 23,
    "start_time": "2024-05-30T02:09:18.908Z"
   },
   {
    "duration": 55,
    "start_time": "2024-05-30T02:09:24.849Z"
   },
   {
    "duration": 18,
    "start_time": "2024-05-30T02:10:03.329Z"
   },
   {
    "duration": 10,
    "start_time": "2024-05-30T02:18:40.298Z"
   },
   {
    "duration": 23,
    "start_time": "2024-05-30T02:31:56.738Z"
   },
   {
    "duration": 29,
    "start_time": "2024-05-30T02:32:40.570Z"
   },
   {
    "duration": 12,
    "start_time": "2024-05-30T02:34:41.801Z"
   },
   {
    "duration": 32,
    "start_time": "2024-05-30T02:45:47.693Z"
   },
   {
    "duration": 58,
    "start_time": "2024-05-30T02:47:43.197Z"
   },
   {
    "duration": 29,
    "start_time": "2024-05-30T02:47:55.073Z"
   },
   {
    "duration": 74,
    "start_time": "2024-05-30T02:54:08.787Z"
   },
   {
    "duration": 16,
    "start_time": "2024-05-30T02:54:54.470Z"
   },
   {
    "duration": 584,
    "start_time": "2024-05-30T02:55:14.301Z"
   },
   {
    "duration": 52,
    "start_time": "2024-05-30T02:55:23.631Z"
   },
   {
    "duration": 1280,
    "start_time": "2024-05-30T02:55:53.055Z"
   },
   {
    "duration": 272,
    "start_time": "2024-05-30T02:55:54.338Z"
   },
   {
    "duration": 16,
    "start_time": "2024-05-30T02:55:54.612Z"
   },
   {
    "duration": 16,
    "start_time": "2024-05-30T02:55:54.632Z"
   },
   {
    "duration": 4,
    "start_time": "2024-05-30T02:55:54.651Z"
   },
   {
    "duration": 5,
    "start_time": "2024-05-30T02:55:54.658Z"
   },
   {
    "duration": 13,
    "start_time": "2024-05-30T02:55:54.667Z"
   },
   {
    "duration": 59,
    "start_time": "2024-05-30T02:55:54.683Z"
   },
   {
    "duration": 9,
    "start_time": "2024-05-30T02:55:54.745Z"
   },
   {
    "duration": 8,
    "start_time": "2024-05-30T02:55:54.761Z"
   },
   {
    "duration": 68,
    "start_time": "2024-05-30T02:55:54.773Z"
   },
   {
    "duration": 12,
    "start_time": "2024-05-30T02:55:54.844Z"
   },
   {
    "duration": 112,
    "start_time": "2024-05-30T02:55:54.859Z"
   },
   {
    "duration": 23,
    "start_time": "2024-05-30T02:55:54.974Z"
   },
   {
    "duration": 43,
    "start_time": "2024-05-30T02:55:54.999Z"
   },
   {
    "duration": 12,
    "start_time": "2024-05-30T02:55:55.046Z"
   },
   {
    "duration": 26,
    "start_time": "2024-05-30T02:55:55.062Z"
   },
   {
    "duration": 56,
    "start_time": "2024-05-30T02:55:55.091Z"
   },
   {
    "duration": 12,
    "start_time": "2024-05-30T02:55:55.150Z"
   },
   {
    "duration": 28,
    "start_time": "2024-05-30T02:55:55.165Z"
   },
   {
    "duration": 91,
    "start_time": "2024-05-30T02:55:55.196Z"
   },
   {
    "duration": 3,
    "start_time": "2024-05-30T02:55:55.290Z"
   },
   {
    "duration": 4,
    "start_time": "2024-05-30T02:55:55.295Z"
   },
   {
    "duration": 3,
    "start_time": "2024-05-30T02:55:55.302Z"
   },
   {
    "duration": 4,
    "start_time": "2024-05-30T02:55:55.335Z"
   },
   {
    "duration": 3,
    "start_time": "2024-05-30T02:55:55.343Z"
   },
   {
    "duration": 3,
    "start_time": "2024-05-30T02:55:55.350Z"
   },
   {
    "duration": 5,
    "start_time": "2024-05-30T02:55:55.361Z"
   },
   {
    "duration": 4,
    "start_time": "2024-05-30T02:55:55.368Z"
   },
   {
    "duration": 3,
    "start_time": "2024-05-30T02:55:55.375Z"
   },
   {
    "duration": 4,
    "start_time": "2024-05-30T02:55:55.435Z"
   },
   {
    "duration": 3,
    "start_time": "2024-05-30T02:55:55.442Z"
   },
   {
    "duration": 4,
    "start_time": "2024-05-30T02:55:55.448Z"
   },
   {
    "duration": 4,
    "start_time": "2024-05-30T02:55:55.454Z"
   },
   {
    "duration": 4,
    "start_time": "2024-05-30T02:55:55.461Z"
   },
   {
    "duration": 4,
    "start_time": "2024-05-30T02:55:55.468Z"
   },
   {
    "duration": 3,
    "start_time": "2024-05-30T02:55:55.475Z"
   },
   {
    "duration": 955,
    "start_time": "2024-05-30T03:11:16.824Z"
   },
   {
    "duration": 1260,
    "start_time": "2024-05-30T03:11:25.868Z"
   },
   {
    "duration": 267,
    "start_time": "2024-05-30T03:11:27.132Z"
   },
   {
    "duration": 15,
    "start_time": "2024-05-30T03:11:27.402Z"
   },
   {
    "duration": 28,
    "start_time": "2024-05-30T03:11:27.422Z"
   },
   {
    "duration": 4,
    "start_time": "2024-05-30T03:11:27.453Z"
   },
   {
    "duration": 5,
    "start_time": "2024-05-30T03:11:27.460Z"
   },
   {
    "duration": 14,
    "start_time": "2024-05-30T03:11:27.468Z"
   },
   {
    "duration": 51,
    "start_time": "2024-05-30T03:11:27.485Z"
   },
   {
    "duration": 9,
    "start_time": "2024-05-30T03:11:27.539Z"
   },
   {
    "duration": 9,
    "start_time": "2024-05-30T03:11:27.556Z"
   },
   {
    "duration": 29,
    "start_time": "2024-05-30T03:11:27.568Z"
   },
   {
    "duration": 43,
    "start_time": "2024-05-30T03:11:27.600Z"
   },
   {
    "duration": 111,
    "start_time": "2024-05-30T03:11:27.646Z"
   },
   {
    "duration": 24,
    "start_time": "2024-05-30T03:11:27.760Z"
   },
   {
    "duration": 47,
    "start_time": "2024-05-30T03:11:27.787Z"
   },
   {
    "duration": 12,
    "start_time": "2024-05-30T03:11:27.836Z"
   },
   {
    "duration": 23,
    "start_time": "2024-05-30T03:11:27.850Z"
   },
   {
    "duration": 58,
    "start_time": "2024-05-30T03:11:27.876Z"
   },
   {
    "duration": 12,
    "start_time": "2024-05-30T03:11:27.937Z"
   },
   {
    "duration": 28,
    "start_time": "2024-05-30T03:11:27.952Z"
   },
   {
    "duration": 86,
    "start_time": "2024-05-30T03:11:27.983Z"
   },
   {
    "duration": 4,
    "start_time": "2024-05-30T03:11:28.072Z"
   },
   {
    "duration": 3,
    "start_time": "2024-05-30T03:11:28.079Z"
   },
   {
    "duration": 4,
    "start_time": "2024-05-30T03:11:28.085Z"
   },
   {
    "duration": 4,
    "start_time": "2024-05-30T03:11:28.092Z"
   },
   {
    "duration": 4,
    "start_time": "2024-05-30T03:11:28.136Z"
   },
   {
    "duration": 4,
    "start_time": "2024-05-30T03:11:28.143Z"
   },
   {
    "duration": 3,
    "start_time": "2024-05-30T03:11:28.154Z"
   },
   {
    "duration": 3,
    "start_time": "2024-05-30T03:11:28.160Z"
   },
   {
    "duration": 3,
    "start_time": "2024-05-30T03:11:28.167Z"
   },
   {
    "duration": 4,
    "start_time": "2024-05-30T03:11:28.173Z"
   },
   {
    "duration": 56,
    "start_time": "2024-05-30T03:11:28.180Z"
   },
   {
    "duration": 4,
    "start_time": "2024-05-30T03:11:28.239Z"
   },
   {
    "duration": 4,
    "start_time": "2024-05-30T03:11:28.245Z"
   },
   {
    "duration": 3,
    "start_time": "2024-05-30T03:11:28.252Z"
   },
   {
    "duration": 4,
    "start_time": "2024-05-30T03:11:28.258Z"
   },
   {
    "duration": 4,
    "start_time": "2024-05-30T03:11:28.265Z"
   },
   {
    "duration": 10,
    "start_time": "2024-05-30T03:12:35.343Z"
   },
   {
    "duration": 1286,
    "start_time": "2024-05-30T03:13:08.306Z"
   },
   {
    "duration": 273,
    "start_time": "2024-05-30T03:13:09.596Z"
   },
   {
    "duration": 15,
    "start_time": "2024-05-30T03:13:09.872Z"
   },
   {
    "duration": 16,
    "start_time": "2024-05-30T03:13:09.892Z"
   },
   {
    "duration": 24,
    "start_time": "2024-05-30T03:13:09.911Z"
   },
   {
    "duration": 6,
    "start_time": "2024-05-30T03:13:09.939Z"
   },
   {
    "duration": 16,
    "start_time": "2024-05-30T03:13:09.948Z"
   },
   {
    "duration": 14,
    "start_time": "2024-05-30T03:13:09.966Z"
   },
   {
    "duration": 51,
    "start_time": "2024-05-30T03:13:09.983Z"
   },
   {
    "duration": 9,
    "start_time": "2024-05-30T03:13:10.040Z"
   },
   {
    "duration": 24,
    "start_time": "2024-05-30T03:13:10.052Z"
   },
   {
    "duration": 13,
    "start_time": "2024-05-30T03:13:10.079Z"
   },
   {
    "duration": 123,
    "start_time": "2024-05-30T03:13:10.095Z"
   },
   {
    "duration": 25,
    "start_time": "2024-05-30T03:13:10.234Z"
   },
   {
    "duration": 19,
    "start_time": "2024-05-30T03:13:10.262Z"
   },
   {
    "duration": 10,
    "start_time": "2024-05-30T03:13:10.284Z"
   },
   {
    "duration": 54,
    "start_time": "2024-05-30T03:13:10.297Z"
   },
   {
    "duration": 17,
    "start_time": "2024-05-30T03:13:10.354Z"
   },
   {
    "duration": 22,
    "start_time": "2024-05-30T03:13:10.373Z"
   },
   {
    "duration": 45,
    "start_time": "2024-05-30T03:13:10.398Z"
   },
   {
    "duration": 30,
    "start_time": "2024-05-30T03:13:10.446Z"
   },
   {
    "duration": 94,
    "start_time": "2024-05-30T03:13:10.480Z"
   },
   {
    "duration": 3,
    "start_time": "2024-05-30T03:13:10.577Z"
   },
   {
    "duration": 4,
    "start_time": "2024-05-30T03:13:10.583Z"
   },
   {
    "duration": 4,
    "start_time": "2024-05-30T03:13:10.589Z"
   },
   {
    "duration": 3,
    "start_time": "2024-05-30T03:13:10.596Z"
   },
   {
    "duration": 4,
    "start_time": "2024-05-30T03:13:10.634Z"
   },
   {
    "duration": 3,
    "start_time": "2024-05-30T03:13:10.645Z"
   },
   {
    "duration": 4,
    "start_time": "2024-05-30T03:13:10.651Z"
   },
   {
    "duration": 4,
    "start_time": "2024-05-30T03:13:10.657Z"
   },
   {
    "duration": 3,
    "start_time": "2024-05-30T03:13:10.665Z"
   },
   {
    "duration": 3,
    "start_time": "2024-05-30T03:13:10.673Z"
   },
   {
    "duration": 4,
    "start_time": "2024-05-30T03:13:10.679Z"
   },
   {
    "duration": 3,
    "start_time": "2024-05-30T03:13:10.736Z"
   },
   {
    "duration": 3,
    "start_time": "2024-05-30T03:13:10.743Z"
   },
   {
    "duration": 4,
    "start_time": "2024-05-30T03:13:10.749Z"
   },
   {
    "duration": 4,
    "start_time": "2024-05-30T03:13:10.755Z"
   },
   {
    "duration": 4,
    "start_time": "2024-05-30T03:13:10.762Z"
   },
   {
    "duration": 4948,
    "start_time": "2024-05-30T23:49:38.212Z"
   },
   {
    "duration": 336,
    "start_time": "2024-05-30T23:49:43.163Z"
   },
   {
    "duration": 16,
    "start_time": "2024-05-30T23:49:43.501Z"
   },
   {
    "duration": 21,
    "start_time": "2024-05-30T23:49:43.521Z"
   },
   {
    "duration": 4,
    "start_time": "2024-05-30T23:49:43.545Z"
   },
   {
    "duration": 5,
    "start_time": "2024-05-30T23:49:43.552Z"
   },
   {
    "duration": 14,
    "start_time": "2024-05-30T23:49:43.560Z"
   },
   {
    "duration": 55,
    "start_time": "2024-05-30T23:49:43.577Z"
   },
   {
    "duration": 9,
    "start_time": "2024-05-30T23:49:43.637Z"
   },
   {
    "duration": 10,
    "start_time": "2024-05-30T23:49:43.652Z"
   },
   {
    "duration": 26,
    "start_time": "2024-05-30T23:49:43.664Z"
   },
   {
    "duration": 48,
    "start_time": "2024-05-30T23:49:43.693Z"
   },
   {
    "duration": 108,
    "start_time": "2024-05-30T23:49:43.745Z"
   },
   {
    "duration": 26,
    "start_time": "2024-05-30T23:49:43.856Z"
   },
   {
    "duration": 46,
    "start_time": "2024-05-30T23:49:43.885Z"
   },
   {
    "duration": 11,
    "start_time": "2024-05-30T23:49:43.933Z"
   },
   {
    "duration": 21,
    "start_time": "2024-05-30T23:49:43.947Z"
   },
   {
    "duration": 17,
    "start_time": "2024-05-30T23:49:43.971Z"
   },
   {
    "duration": 65,
    "start_time": "2024-05-30T23:49:43.991Z"
   },
   {
    "duration": 16,
    "start_time": "2024-05-30T23:49:44.060Z"
   },
   {
    "duration": 60,
    "start_time": "2024-05-30T23:49:44.080Z"
   },
   {
    "duration": 471,
    "start_time": "2024-05-30T23:49:44.143Z"
   },
   {
    "duration": 0,
    "start_time": "2024-05-30T23:49:44.618Z"
   },
   {
    "duration": 0,
    "start_time": "2024-05-30T23:49:44.620Z"
   },
   {
    "duration": 0,
    "start_time": "2024-05-30T23:49:44.631Z"
   },
   {
    "duration": 0,
    "start_time": "2024-05-30T23:49:44.635Z"
   },
   {
    "duration": 0,
    "start_time": "2024-05-30T23:49:44.637Z"
   },
   {
    "duration": 0,
    "start_time": "2024-05-30T23:49:44.639Z"
   },
   {
    "duration": 0,
    "start_time": "2024-05-30T23:49:44.642Z"
   },
   {
    "duration": 0,
    "start_time": "2024-05-30T23:49:44.644Z"
   },
   {
    "duration": 0,
    "start_time": "2024-05-30T23:49:44.647Z"
   },
   {
    "duration": 0,
    "start_time": "2024-05-30T23:49:44.650Z"
   },
   {
    "duration": 0,
    "start_time": "2024-05-30T23:49:44.651Z"
   },
   {
    "duration": 0,
    "start_time": "2024-05-30T23:49:44.653Z"
   },
   {
    "duration": 0,
    "start_time": "2024-05-30T23:49:44.655Z"
   },
   {
    "duration": 0,
    "start_time": "2024-05-30T23:49:44.657Z"
   },
   {
    "duration": 0,
    "start_time": "2024-05-30T23:49:44.659Z"
   },
   {
    "duration": 0,
    "start_time": "2024-05-30T23:49:44.660Z"
   },
   {
    "duration": 82,
    "start_time": "2024-05-31T00:35:44.578Z"
   },
   {
    "duration": 11,
    "start_time": "2024-05-31T00:41:13.229Z"
   },
   {
    "duration": 741,
    "start_time": "2024-05-31T00:59:44.237Z"
   },
   {
    "duration": 55,
    "start_time": "2024-05-31T01:00:10.614Z"
   },
   {
    "duration": 52,
    "start_time": "2024-05-31T01:00:58.899Z"
   },
   {
    "duration": 35,
    "start_time": "2024-05-31T01:04:42.868Z"
   },
   {
    "duration": 27,
    "start_time": "2024-05-31T01:05:27.097Z"
   },
   {
    "duration": 38,
    "start_time": "2024-05-31T01:05:44.835Z"
   },
   {
    "duration": 29,
    "start_time": "2024-05-31T01:25:01.723Z"
   },
   {
    "duration": 7,
    "start_time": "2024-05-31T01:25:39.647Z"
   },
   {
    "duration": 31,
    "start_time": "2024-05-31T01:25:56.038Z"
   },
   {
    "duration": 14,
    "start_time": "2024-05-31T01:26:11.146Z"
   },
   {
    "duration": 83,
    "start_time": "2024-05-31T01:36:53.121Z"
   },
   {
    "duration": 1268,
    "start_time": "2024-05-31T01:38:03.957Z"
   },
   {
    "duration": 272,
    "start_time": "2024-05-31T01:38:05.231Z"
   },
   {
    "duration": 16,
    "start_time": "2024-05-31T01:38:05.505Z"
   },
   {
    "duration": 18,
    "start_time": "2024-05-31T01:38:05.525Z"
   },
   {
    "duration": 3,
    "start_time": "2024-05-31T01:38:05.546Z"
   },
   {
    "duration": 6,
    "start_time": "2024-05-31T01:38:05.552Z"
   },
   {
    "duration": 14,
    "start_time": "2024-05-31T01:38:05.561Z"
   },
   {
    "duration": 65,
    "start_time": "2024-05-31T01:38:05.578Z"
   },
   {
    "duration": 15,
    "start_time": "2024-05-31T01:38:05.647Z"
   },
   {
    "duration": 14,
    "start_time": "2024-05-31T01:38:05.671Z"
   },
   {
    "duration": 51,
    "start_time": "2024-05-31T01:38:05.688Z"
   },
   {
    "duration": 13,
    "start_time": "2024-05-31T01:38:05.743Z"
   },
   {
    "duration": 114,
    "start_time": "2024-05-31T01:38:05.759Z"
   },
   {
    "duration": 26,
    "start_time": "2024-05-31T01:38:05.875Z"
   },
   {
    "duration": 46,
    "start_time": "2024-05-31T01:38:05.903Z"
   },
   {
    "duration": 11,
    "start_time": "2024-05-31T01:38:05.960Z"
   },
   {
    "duration": 24,
    "start_time": "2024-05-31T01:38:05.975Z"
   },
   {
    "duration": 43,
    "start_time": "2024-05-31T01:38:06.002Z"
   },
   {
    "duration": 24,
    "start_time": "2024-05-31T01:38:06.048Z"
   },
   {
    "duration": 13,
    "start_time": "2024-05-31T01:38:06.076Z"
   },
   {
    "duration": 64,
    "start_time": "2024-05-31T01:38:06.092Z"
   },
   {
    "duration": 94,
    "start_time": "2024-05-31T01:38:06.159Z"
   },
   {
    "duration": 20,
    "start_time": "2024-05-31T01:38:06.257Z"
   },
   {
    "duration": 75,
    "start_time": "2024-05-31T01:38:06.280Z"
   },
   {
    "duration": 3,
    "start_time": "2024-05-31T01:38:06.358Z"
   },
   {
    "duration": 38,
    "start_time": "2024-05-31T01:38:06.365Z"
   },
   {
    "duration": 35,
    "start_time": "2024-05-31T01:38:06.406Z"
   },
   {
    "duration": 29,
    "start_time": "2024-05-31T01:38:06.448Z"
   },
   {
    "duration": 3,
    "start_time": "2024-05-31T01:38:06.480Z"
   },
   {
    "duration": 43,
    "start_time": "2024-05-31T01:38:06.487Z"
   },
   {
    "duration": 3,
    "start_time": "2024-05-31T01:38:06.534Z"
   },
   {
    "duration": 3,
    "start_time": "2024-05-31T01:38:06.541Z"
   },
   {
    "duration": 3,
    "start_time": "2024-05-31T01:38:06.547Z"
   },
   {
    "duration": 5,
    "start_time": "2024-05-31T01:38:06.553Z"
   },
   {
    "duration": 3,
    "start_time": "2024-05-31T01:38:06.562Z"
   },
   {
    "duration": 4,
    "start_time": "2024-05-31T01:38:06.569Z"
   },
   {
    "duration": 55,
    "start_time": "2024-05-31T01:38:06.576Z"
   },
   {
    "duration": 4,
    "start_time": "2024-05-31T01:38:06.634Z"
   },
   {
    "duration": 3,
    "start_time": "2024-05-31T01:38:06.641Z"
   },
   {
    "duration": 1295,
    "start_time": "2024-05-31T01:40:11.884Z"
   },
   {
    "duration": 272,
    "start_time": "2024-05-31T01:40:13.182Z"
   },
   {
    "duration": 16,
    "start_time": "2024-05-31T01:40:13.458Z"
   },
   {
    "duration": 19,
    "start_time": "2024-05-31T01:40:13.479Z"
   },
   {
    "duration": 29,
    "start_time": "2024-05-31T01:40:13.500Z"
   },
   {
    "duration": 5,
    "start_time": "2024-05-31T01:40:13.533Z"
   },
   {
    "duration": 17,
    "start_time": "2024-05-31T01:40:13.541Z"
   },
   {
    "duration": 16,
    "start_time": "2024-05-31T01:40:13.561Z"
   },
   {
    "duration": 9,
    "start_time": "2024-05-31T01:40:13.580Z"
   },
   {
    "duration": 10,
    "start_time": "2024-05-31T01:40:13.635Z"
   },
   {
    "duration": 25,
    "start_time": "2024-05-31T01:40:13.647Z"
   },
   {
    "duration": 13,
    "start_time": "2024-05-31T01:40:13.675Z"
   },
   {
    "duration": 86,
    "start_time": "2024-05-31T01:40:13.731Z"
   },
   {
    "duration": 25,
    "start_time": "2024-05-31T01:40:13.831Z"
   },
   {
    "duration": 20,
    "start_time": "2024-05-31T01:40:13.859Z"
   },
   {
    "duration": 10,
    "start_time": "2024-05-31T01:40:13.882Z"
   },
   {
    "duration": 22,
    "start_time": "2024-05-31T01:40:13.932Z"
   },
   {
    "duration": 17,
    "start_time": "2024-05-31T01:40:13.957Z"
   },
   {
    "duration": 54,
    "start_time": "2024-05-31T01:40:13.977Z"
   },
   {
    "duration": 12,
    "start_time": "2024-05-31T01:40:14.034Z"
   },
   {
    "duration": 28,
    "start_time": "2024-05-31T01:40:14.049Z"
   },
   {
    "duration": 96,
    "start_time": "2024-05-31T01:40:14.080Z"
   },
   {
    "duration": 13,
    "start_time": "2024-05-31T01:40:14.178Z"
   },
   {
    "duration": 75,
    "start_time": "2024-05-31T01:40:14.194Z"
   },
   {
    "duration": 4,
    "start_time": "2024-05-31T01:40:14.272Z"
   },
   {
    "duration": 58,
    "start_time": "2024-05-31T01:40:14.279Z"
   },
   {
    "duration": 13,
    "start_time": "2024-05-31T01:40:14.340Z"
   },
   {
    "duration": 30,
    "start_time": "2024-05-31T01:40:14.361Z"
   },
   {
    "duration": 4,
    "start_time": "2024-05-31T01:40:14.394Z"
   },
   {
    "duration": 4,
    "start_time": "2024-05-31T01:40:14.431Z"
   },
   {
    "duration": 3,
    "start_time": "2024-05-31T01:40:14.439Z"
   },
   {
    "duration": 3,
    "start_time": "2024-05-31T01:40:14.446Z"
   },
   {
    "duration": 4,
    "start_time": "2024-05-31T01:40:14.452Z"
   },
   {
    "duration": 4,
    "start_time": "2024-05-31T01:40:14.460Z"
   },
   {
    "duration": 3,
    "start_time": "2024-05-31T01:40:14.468Z"
   },
   {
    "duration": 55,
    "start_time": "2024-05-31T01:40:14.475Z"
   },
   {
    "duration": 4,
    "start_time": "2024-05-31T01:40:14.533Z"
   },
   {
    "duration": 4,
    "start_time": "2024-05-31T01:40:14.540Z"
   },
   {
    "duration": 3,
    "start_time": "2024-05-31T01:40:14.547Z"
   },
   {
    "duration": 1362,
    "start_time": "2024-05-31T01:40:50.933Z"
   },
   {
    "duration": 104,
    "start_time": "2024-05-31T01:41:35.386Z"
   },
   {
    "duration": 1278,
    "start_time": "2024-05-31T01:41:59.306Z"
   },
   {
    "duration": 265,
    "start_time": "2024-05-31T01:42:00.587Z"
   },
   {
    "duration": 16,
    "start_time": "2024-05-31T01:42:00.855Z"
   },
   {
    "duration": 16,
    "start_time": "2024-05-31T01:42:00.876Z"
   },
   {
    "duration": 3,
    "start_time": "2024-05-31T01:42:00.896Z"
   },
   {
    "duration": 28,
    "start_time": "2024-05-31T01:42:00.902Z"
   },
   {
    "duration": 14,
    "start_time": "2024-05-31T01:42:00.934Z"
   },
   {
    "duration": 15,
    "start_time": "2024-05-31T01:42:00.951Z"
   },
   {
    "duration": 10,
    "start_time": "2024-05-31T01:42:00.968Z"
   },
   {
    "duration": 12,
    "start_time": "2024-05-31T01:42:01.030Z"
   },
   {
    "duration": 27,
    "start_time": "2024-05-31T01:42:01.046Z"
   },
   {
    "duration": 13,
    "start_time": "2024-05-31T01:42:01.076Z"
   },
   {
    "duration": 119,
    "start_time": "2024-05-31T01:42:01.092Z"
   },
   {
    "duration": 38,
    "start_time": "2024-05-31T01:42:01.214Z"
   },
   {
    "duration": 20,
    "start_time": "2024-05-31T01:42:01.254Z"
   },
   {
    "duration": 11,
    "start_time": "2024-05-31T01:42:01.277Z"
   },
   {
    "duration": 59,
    "start_time": "2024-05-31T01:42:01.292Z"
   },
   {
    "duration": 17,
    "start_time": "2024-05-31T01:42:01.354Z"
   },
   {
    "duration": 23,
    "start_time": "2024-05-31T01:42:01.374Z"
   },
   {
    "duration": 40,
    "start_time": "2024-05-31T01:42:01.400Z"
   },
   {
    "duration": 30,
    "start_time": "2024-05-31T01:42:01.443Z"
   },
   {
    "duration": 100,
    "start_time": "2024-05-31T01:42:01.476Z"
   },
   {
    "duration": 12,
    "start_time": "2024-05-31T01:42:01.579Z"
   },
   {
    "duration": 72,
    "start_time": "2024-05-31T01:42:01.594Z"
   },
   {
    "duration": 4,
    "start_time": "2024-05-31T01:42:01.669Z"
   },
   {
    "duration": 59,
    "start_time": "2024-05-31T01:42:01.676Z"
   },
   {
    "duration": 14,
    "start_time": "2024-05-31T01:42:01.738Z"
   },
   {
    "duration": 1371,
    "start_time": "2024-05-31T01:42:01.761Z"
   },
   {
    "duration": 0,
    "start_time": "2024-05-31T01:42:03.134Z"
   },
   {
    "duration": 0,
    "start_time": "2024-05-31T01:42:03.136Z"
   },
   {
    "duration": 0,
    "start_time": "2024-05-31T01:42:03.139Z"
   },
   {
    "duration": 0,
    "start_time": "2024-05-31T01:42:03.141Z"
   },
   {
    "duration": 1,
    "start_time": "2024-05-31T01:42:03.143Z"
   },
   {
    "duration": 0,
    "start_time": "2024-05-31T01:42:03.146Z"
   },
   {
    "duration": 0,
    "start_time": "2024-05-31T01:42:03.147Z"
   },
   {
    "duration": 0,
    "start_time": "2024-05-31T01:42:03.150Z"
   },
   {
    "duration": 0,
    "start_time": "2024-05-31T01:42:03.152Z"
   },
   {
    "duration": 0,
    "start_time": "2024-05-31T01:42:03.154Z"
   },
   {
    "duration": 0,
    "start_time": "2024-05-31T01:42:03.156Z"
   },
   {
    "duration": 31,
    "start_time": "2024-05-31T01:42:22.529Z"
   },
   {
    "duration": 45,
    "start_time": "2024-05-31T01:47:10.673Z"
   },
   {
    "duration": 24,
    "start_time": "2024-05-31T01:50:22.297Z"
   },
   {
    "duration": 298,
    "start_time": "2024-05-31T01:50:30.867Z"
   },
   {
    "duration": 11,
    "start_time": "2024-05-31T01:50:56.939Z"
   },
   {
    "duration": 20,
    "start_time": "2024-05-31T01:51:15.081Z"
   },
   {
    "duration": 25,
    "start_time": "2024-05-31T01:52:58.350Z"
   },
   {
    "duration": 10,
    "start_time": "2024-05-31T02:04:22.734Z"
   },
   {
    "duration": 23,
    "start_time": "2024-05-31T02:04:55.043Z"
   },
   {
    "duration": 35,
    "start_time": "2024-05-31T02:06:40.683Z"
   },
   {
    "duration": 8,
    "start_time": "2024-05-31T02:16:09.171Z"
   },
   {
    "duration": 36,
    "start_time": "2024-05-31T02:16:22.323Z"
   },
   {
    "duration": 33,
    "start_time": "2024-05-31T02:20:33.451Z"
   },
   {
    "duration": 13,
    "start_time": "2024-05-31T02:31:44.830Z"
   },
   {
    "duration": 21,
    "start_time": "2024-05-31T02:35:42.028Z"
   },
   {
    "duration": 51,
    "start_time": "2024-05-31T02:35:55.828Z"
   },
   {
    "duration": 54,
    "start_time": "2024-05-31T02:39:18.673Z"
   },
   {
    "duration": 42,
    "start_time": "2024-05-31T02:40:48.728Z"
   },
   {
    "duration": 42,
    "start_time": "2024-05-31T02:50:04.193Z"
   },
   {
    "duration": 54,
    "start_time": "2024-05-31T02:50:18.367Z"
   },
   {
    "duration": 4901,
    "start_time": "2024-06-04T01:32:54.027Z"
   },
   {
    "duration": 360,
    "start_time": "2024-06-04T01:32:58.934Z"
   },
   {
    "duration": 15,
    "start_time": "2024-06-04T01:32:59.297Z"
   },
   {
    "duration": 20,
    "start_time": "2024-06-04T01:32:59.316Z"
   },
   {
    "duration": 3,
    "start_time": "2024-06-04T01:32:59.339Z"
   },
   {
    "duration": 5,
    "start_time": "2024-06-04T01:32:59.346Z"
   },
   {
    "duration": 14,
    "start_time": "2024-06-04T01:32:59.355Z"
   },
   {
    "duration": 15,
    "start_time": "2024-06-04T01:32:59.375Z"
   },
   {
    "duration": 10,
    "start_time": "2024-06-04T01:32:59.436Z"
   },
   {
    "duration": 13,
    "start_time": "2024-06-04T01:32:59.452Z"
   },
   {
    "duration": 26,
    "start_time": "2024-06-04T01:32:59.469Z"
   },
   {
    "duration": 12,
    "start_time": "2024-06-04T01:32:59.532Z"
   },
   {
    "duration": 106,
    "start_time": "2024-06-04T01:32:59.548Z"
   },
   {
    "duration": 24,
    "start_time": "2024-06-04T01:32:59.657Z"
   },
   {
    "duration": 20,
    "start_time": "2024-06-04T01:32:59.685Z"
   },
   {
    "duration": 10,
    "start_time": "2024-06-04T01:32:59.734Z"
   },
   {
    "duration": 22,
    "start_time": "2024-06-04T01:32:59.748Z"
   },
   {
    "duration": 17,
    "start_time": "2024-06-04T01:32:59.773Z"
   },
   {
    "duration": 58,
    "start_time": "2024-06-04T01:32:59.792Z"
   },
   {
    "duration": 13,
    "start_time": "2024-06-04T01:32:59.853Z"
   },
   {
    "duration": 30,
    "start_time": "2024-06-04T01:32:59.869Z"
   },
   {
    "duration": 95,
    "start_time": "2024-06-04T01:32:59.901Z"
   },
   {
    "duration": 12,
    "start_time": "2024-06-04T01:32:59.999Z"
   },
   {
    "duration": 42,
    "start_time": "2024-06-04T01:33:00.034Z"
   },
   {
    "duration": 55,
    "start_time": "2024-06-04T01:33:00.079Z"
   },
   {
    "duration": 29,
    "start_time": "2024-06-04T01:33:00.136Z"
   },
   {
    "duration": 16,
    "start_time": "2024-06-04T01:33:00.167Z"
   },
   {
    "duration": 50,
    "start_time": "2024-06-04T01:33:00.191Z"
   },
   {
    "duration": 58,
    "start_time": "2024-06-04T01:33:00.244Z"
   },
   {
    "duration": 28,
    "start_time": "2024-06-04T01:33:00.305Z"
   },
   {
    "duration": 3,
    "start_time": "2024-06-04T01:33:00.336Z"
   },
   {
    "duration": 4,
    "start_time": "2024-06-04T01:33:00.342Z"
   },
   {
    "duration": 3,
    "start_time": "2024-06-04T01:33:00.350Z"
   },
   {
    "duration": 4,
    "start_time": "2024-06-04T01:33:00.356Z"
   },
   {
    "duration": 4,
    "start_time": "2024-06-04T01:33:00.362Z"
   },
   {
    "duration": 3,
    "start_time": "2024-06-04T01:33:00.368Z"
   },
   {
    "duration": 3,
    "start_time": "2024-06-04T01:33:00.375Z"
   },
   {
    "duration": 1300,
    "start_time": "2024-06-04T01:33:23.686Z"
   },
   {
    "duration": 11,
    "start_time": "2024-06-04T01:34:28.524Z"
   },
   {
    "duration": 6,
    "start_time": "2024-06-04T01:35:18.904Z"
   },
   {
    "duration": 5,
    "start_time": "2024-06-04T02:47:55.872Z"
   },
   {
    "duration": 35,
    "start_time": "2024-06-04T02:48:28.667Z"
   },
   {
    "duration": 8,
    "start_time": "2024-06-04T02:48:50.256Z"
   },
   {
    "duration": 7,
    "start_time": "2024-06-04T02:49:05.418Z"
   },
   {
    "duration": 6,
    "start_time": "2024-06-04T02:51:02.013Z"
   },
   {
    "duration": 11,
    "start_time": "2024-06-04T03:16:49.847Z"
   },
   {
    "duration": 55,
    "start_time": "2024-06-04T03:18:46.764Z"
   },
   {
    "duration": 13,
    "start_time": "2024-06-04T03:20:14.601Z"
   },
   {
    "duration": 1274,
    "start_time": "2024-06-04T03:35:42.579Z"
   },
   {
    "duration": 304,
    "start_time": "2024-06-04T03:35:43.856Z"
   },
   {
    "duration": 16,
    "start_time": "2024-06-04T03:35:44.163Z"
   },
   {
    "duration": 16,
    "start_time": "2024-06-04T03:35:44.183Z"
   },
   {
    "duration": 3,
    "start_time": "2024-06-04T03:35:44.203Z"
   },
   {
    "duration": 6,
    "start_time": "2024-06-04T03:35:44.234Z"
   },
   {
    "duration": 15,
    "start_time": "2024-06-04T03:35:44.243Z"
   },
   {
    "duration": 17,
    "start_time": "2024-06-04T03:35:44.261Z"
   },
   {
    "duration": 9,
    "start_time": "2024-06-04T03:35:44.281Z"
   },
   {
    "duration": 10,
    "start_time": "2024-06-04T03:35:44.335Z"
   },
   {
    "duration": 26,
    "start_time": "2024-06-04T03:35:44.348Z"
   },
   {
    "duration": 12,
    "start_time": "2024-06-04T03:35:44.377Z"
   },
   {
    "duration": 122,
    "start_time": "2024-06-04T03:35:44.392Z"
   },
   {
    "duration": 32,
    "start_time": "2024-06-04T03:35:44.517Z"
   },
   {
    "duration": 21,
    "start_time": "2024-06-04T03:35:44.552Z"
   },
   {
    "duration": 11,
    "start_time": "2024-06-04T03:35:44.576Z"
   },
   {
    "duration": 58,
    "start_time": "2024-06-04T03:35:44.591Z"
   },
   {
    "duration": 17,
    "start_time": "2024-06-04T03:35:44.652Z"
   },
   {
    "duration": 22,
    "start_time": "2024-06-04T03:35:44.672Z"
   },
   {
    "duration": 44,
    "start_time": "2024-06-04T03:35:44.697Z"
   },
   {
    "duration": 30,
    "start_time": "2024-06-04T03:35:44.744Z"
   },
   {
    "duration": 97,
    "start_time": "2024-06-04T03:35:44.777Z"
   },
   {
    "duration": 14,
    "start_time": "2024-06-04T03:35:44.878Z"
   },
   {
    "duration": 72,
    "start_time": "2024-06-04T03:35:44.896Z"
   },
   {
    "duration": 43,
    "start_time": "2024-06-04T03:35:44.971Z"
   },
   {
    "duration": 46,
    "start_time": "2024-06-04T03:35:45.016Z"
   },
   {
    "duration": 19,
    "start_time": "2024-06-04T03:35:45.065Z"
   },
   {
    "duration": 48,
    "start_time": "2024-06-04T03:35:45.091Z"
   },
   {
    "duration": 62,
    "start_time": "2024-06-04T03:35:45.142Z"
   },
   {
    "duration": 26,
    "start_time": "2024-06-04T03:35:45.208Z"
   },
   {
    "duration": 4,
    "start_time": "2024-06-04T03:35:45.236Z"
   },
   {
    "duration": 4,
    "start_time": "2024-06-04T03:35:45.243Z"
   },
   {
    "duration": 4,
    "start_time": "2024-06-04T03:35:45.250Z"
   },
   {
    "duration": 4,
    "start_time": "2024-06-04T03:35:45.256Z"
   },
   {
    "duration": 3,
    "start_time": "2024-06-04T03:35:45.264Z"
   },
   {
    "duration": 63,
    "start_time": "2024-06-04T03:35:45.271Z"
   },
   {
    "duration": 12,
    "start_time": "2024-06-04T03:35:45.336Z"
   },
   {
    "duration": 11,
    "start_time": "2024-06-04T03:35:45.351Z"
   },
   {
    "duration": 1334,
    "start_time": "2024-06-04T03:51:51.055Z"
   },
   {
    "duration": 273,
    "start_time": "2024-06-04T03:51:52.392Z"
   },
   {
    "duration": 16,
    "start_time": "2024-06-04T03:51:52.667Z"
   },
   {
    "duration": 17,
    "start_time": "2024-06-04T03:51:52.687Z"
   },
   {
    "duration": 25,
    "start_time": "2024-06-04T03:51:52.708Z"
   },
   {
    "duration": 7,
    "start_time": "2024-06-04T03:51:52.736Z"
   },
   {
    "duration": 15,
    "start_time": "2024-06-04T03:51:52.747Z"
   },
   {
    "duration": 15,
    "start_time": "2024-06-04T03:51:52.765Z"
   },
   {
    "duration": 50,
    "start_time": "2024-06-04T03:51:52.783Z"
   },
   {
    "duration": 13,
    "start_time": "2024-06-04T03:51:52.836Z"
   },
   {
    "duration": 26,
    "start_time": "2024-06-04T03:51:52.852Z"
   },
   {
    "duration": 13,
    "start_time": "2024-06-04T03:51:52.881Z"
   },
   {
    "duration": 98,
    "start_time": "2024-06-04T03:51:52.936Z"
   },
   {
    "duration": 25,
    "start_time": "2024-06-04T03:51:53.040Z"
   },
   {
    "duration": 19,
    "start_time": "2024-06-04T03:51:53.068Z"
   },
   {
    "duration": 43,
    "start_time": "2024-06-04T03:51:53.090Z"
   },
   {
    "duration": 23,
    "start_time": "2024-06-04T03:51:53.136Z"
   },
   {
    "duration": 18,
    "start_time": "2024-06-04T03:51:53.162Z"
   },
   {
    "duration": 54,
    "start_time": "2024-06-04T03:51:53.183Z"
   },
   {
    "duration": 13,
    "start_time": "2024-06-04T03:51:53.241Z"
   },
   {
    "duration": 30,
    "start_time": "2024-06-04T03:51:53.257Z"
   },
   {
    "duration": 109,
    "start_time": "2024-06-04T03:51:53.289Z"
   },
   {
    "duration": 30,
    "start_time": "2024-06-04T03:51:53.403Z"
   },
   {
    "duration": 48,
    "start_time": "2024-06-04T03:51:53.436Z"
   },
   {
    "duration": 57,
    "start_time": "2024-06-04T03:51:53.488Z"
   },
   {
    "duration": 30,
    "start_time": "2024-06-04T03:51:53.548Z"
   },
   {
    "duration": 17,
    "start_time": "2024-06-04T03:51:53.581Z"
   },
   {
    "duration": 56,
    "start_time": "2024-06-04T03:51:53.601Z"
   },
   {
    "duration": 74,
    "start_time": "2024-06-04T03:51:53.660Z"
   },
   {
    "duration": 3,
    "start_time": "2024-06-04T03:51:53.737Z"
   },
   {
    "duration": 3,
    "start_time": "2024-06-04T03:51:53.743Z"
   },
   {
    "duration": 4,
    "start_time": "2024-06-04T03:51:53.749Z"
   },
   {
    "duration": 3,
    "start_time": "2024-06-04T03:51:53.756Z"
   },
   {
    "duration": 4,
    "start_time": "2024-06-04T03:51:53.762Z"
   },
   {
    "duration": 3,
    "start_time": "2024-06-04T03:51:53.769Z"
   },
   {
    "duration": 58,
    "start_time": "2024-06-04T03:51:53.775Z"
   },
   {
    "duration": 12,
    "start_time": "2024-06-04T03:51:53.837Z"
   },
   {
    "duration": 11,
    "start_time": "2024-06-04T03:51:53.852Z"
   },
   {
    "duration": 407,
    "start_time": "2024-06-04T03:55:13.837Z"
   },
   {
    "duration": 469,
    "start_time": "2024-06-04T04:02:17.209Z"
   },
   {
    "duration": 405,
    "start_time": "2024-06-04T04:02:54.163Z"
   },
   {
    "duration": 407,
    "start_time": "2024-06-04T04:03:17.508Z"
   },
   {
    "duration": 12,
    "start_time": "2024-06-04T04:04:52.326Z"
   },
   {
    "duration": 12,
    "start_time": "2024-06-04T04:05:34.858Z"
   },
   {
    "duration": 211,
    "start_time": "2024-06-04T04:09:14.638Z"
   },
   {
    "duration": 205,
    "start_time": "2024-06-04T04:10:13.896Z"
   },
   {
    "duration": 1341,
    "start_time": "2024-06-04T04:13:52.319Z"
   },
   {
    "duration": 271,
    "start_time": "2024-06-04T04:13:53.664Z"
   },
   {
    "duration": 17,
    "start_time": "2024-06-04T04:13:53.938Z"
   },
   {
    "duration": 15,
    "start_time": "2024-06-04T04:13:53.959Z"
   },
   {
    "duration": 4,
    "start_time": "2024-06-04T04:13:53.977Z"
   },
   {
    "duration": 5,
    "start_time": "2024-06-04T04:13:53.984Z"
   },
   {
    "duration": 50,
    "start_time": "2024-06-04T04:13:53.992Z"
   },
   {
    "duration": 14,
    "start_time": "2024-06-04T04:13:54.045Z"
   },
   {
    "duration": 9,
    "start_time": "2024-06-04T04:13:54.061Z"
   },
   {
    "duration": 10,
    "start_time": "2024-06-04T04:13:54.078Z"
   },
   {
    "duration": 65,
    "start_time": "2024-06-04T04:13:54.091Z"
   },
   {
    "duration": 13,
    "start_time": "2024-06-04T04:13:54.160Z"
   },
   {
    "duration": 122,
    "start_time": "2024-06-04T04:13:54.177Z"
   },
   {
    "duration": 37,
    "start_time": "2024-06-04T04:13:54.302Z"
   },
   {
    "duration": 20,
    "start_time": "2024-06-04T04:13:54.342Z"
   },
   {
    "duration": 12,
    "start_time": "2024-06-04T04:13:54.364Z"
   },
   {
    "duration": 54,
    "start_time": "2024-06-04T04:13:54.381Z"
   },
   {
    "duration": 17,
    "start_time": "2024-06-04T04:13:54.438Z"
   },
   {
    "duration": 26,
    "start_time": "2024-06-04T04:13:54.457Z"
   },
   {
    "duration": 12,
    "start_time": "2024-06-04T04:13:54.486Z"
   },
   {
    "duration": 60,
    "start_time": "2024-06-04T04:13:54.501Z"
   },
   {
    "duration": 93,
    "start_time": "2024-06-04T04:13:54.564Z"
   },
   {
    "duration": 11,
    "start_time": "2024-06-04T04:13:54.660Z"
   },
   {
    "duration": 63,
    "start_time": "2024-06-04T04:13:54.675Z"
   },
   {
    "duration": 33,
    "start_time": "2024-06-04T04:13:54.740Z"
   },
   {
    "duration": 29,
    "start_time": "2024-06-04T04:13:54.776Z"
   },
   {
    "duration": 43,
    "start_time": "2024-06-04T04:13:54.807Z"
   },
   {
    "duration": 19,
    "start_time": "2024-06-04T04:13:54.856Z"
   },
   {
    "duration": 92,
    "start_time": "2024-06-04T04:13:54.878Z"
   },
   {
    "duration": 424,
    "start_time": "2024-06-04T04:13:54.973Z"
   },
   {
    "duration": 471,
    "start_time": "2024-06-04T04:13:55.399Z"
   },
   {
    "duration": 10,
    "start_time": "2024-06-04T04:13:55.874Z"
   },
   {
    "duration": 217,
    "start_time": "2024-06-04T04:13:55.889Z"
   },
   {
    "duration": 3,
    "start_time": "2024-06-04T04:13:56.109Z"
   },
   {
    "duration": 17,
    "start_time": "2024-06-04T04:13:56.116Z"
   },
   {
    "duration": 9,
    "start_time": "2024-06-04T04:13:56.137Z"
   },
   {
    "duration": 12,
    "start_time": "2024-06-04T04:13:56.148Z"
   },
   {
    "duration": 11,
    "start_time": "2024-06-04T04:13:56.162Z"
   },
   {
    "duration": 197,
    "start_time": "2024-06-04T04:14:52.771Z"
   },
   {
    "duration": 216,
    "start_time": "2024-06-04T04:16:22.231Z"
   },
   {
    "duration": 1238,
    "start_time": "2024-06-04T04:26:05.421Z"
   },
   {
    "duration": 194,
    "start_time": "2024-06-04T04:26:18.680Z"
   },
   {
    "duration": 11,
    "start_time": "2024-06-04T04:33:29.216Z"
   },
   {
    "duration": 673,
    "start_time": "2024-06-04T04:37:37.753Z"
   },
   {
    "duration": 20,
    "start_time": "2024-06-04T04:44:31.976Z"
   },
   {
    "duration": 14,
    "start_time": "2024-06-04T04:44:52.041Z"
   },
   {
    "duration": 1278,
    "start_time": "2024-06-04T04:45:05.824Z"
   },
   {
    "duration": 281,
    "start_time": "2024-06-04T04:45:07.106Z"
   },
   {
    "duration": 14,
    "start_time": "2024-06-04T04:45:07.391Z"
   },
   {
    "duration": 29,
    "start_time": "2024-06-04T04:45:07.408Z"
   },
   {
    "duration": 3,
    "start_time": "2024-06-04T04:45:07.442Z"
   },
   {
    "duration": 5,
    "start_time": "2024-06-04T04:45:07.449Z"
   },
   {
    "duration": 15,
    "start_time": "2024-06-04T04:45:07.456Z"
   },
   {
    "duration": 14,
    "start_time": "2024-06-04T04:45:07.474Z"
   },
   {
    "duration": 49,
    "start_time": "2024-06-04T04:45:07.491Z"
   },
   {
    "duration": 14,
    "start_time": "2024-06-04T04:45:07.543Z"
   },
   {
    "duration": 25,
    "start_time": "2024-06-04T04:45:07.560Z"
   },
   {
    "duration": 49,
    "start_time": "2024-06-04T04:45:07.588Z"
   },
   {
    "duration": 103,
    "start_time": "2024-06-04T04:45:07.640Z"
   },
   {
    "duration": 25,
    "start_time": "2024-06-04T04:45:07.750Z"
   },
   {
    "duration": 20,
    "start_time": "2024-06-04T04:45:07.777Z"
   },
   {
    "duration": 42,
    "start_time": "2024-06-04T04:45:07.799Z"
   },
   {
    "duration": 26,
    "start_time": "2024-06-04T04:45:07.844Z"
   },
   {
    "duration": 19,
    "start_time": "2024-06-04T04:45:07.874Z"
   },
   {
    "duration": 56,
    "start_time": "2024-06-04T04:45:07.896Z"
   },
   {
    "duration": 13,
    "start_time": "2024-06-04T04:45:07.956Z"
   },
   {
    "duration": 61,
    "start_time": "2024-06-04T04:45:07.972Z"
   },
   {
    "duration": 68,
    "start_time": "2024-06-04T04:45:08.035Z"
   },
   {
    "duration": 27,
    "start_time": "2024-06-04T04:45:08.106Z"
   },
   {
    "duration": 46,
    "start_time": "2024-06-04T04:45:08.135Z"
   },
   {
    "duration": 54,
    "start_time": "2024-06-04T04:45:08.183Z"
   },
   {
    "duration": 30,
    "start_time": "2024-06-04T04:45:08.240Z"
   },
   {
    "duration": 19,
    "start_time": "2024-06-04T04:45:08.272Z"
   },
   {
    "duration": 54,
    "start_time": "2024-06-04T04:45:08.294Z"
   },
   {
    "duration": 58,
    "start_time": "2024-06-04T04:45:08.351Z"
   },
   {
    "duration": 386,
    "start_time": "2024-06-04T04:45:08.432Z"
   },
   {
    "duration": 495,
    "start_time": "2024-06-04T04:45:08.821Z"
   },
   {
    "duration": 20,
    "start_time": "2024-06-04T04:45:09.319Z"
   },
   {
    "duration": 216,
    "start_time": "2024-06-04T04:45:09.342Z"
   },
   {
    "duration": 4,
    "start_time": "2024-06-04T04:45:09.560Z"
   },
   {
    "duration": 3,
    "start_time": "2024-06-04T04:45:09.567Z"
   },
   {
    "duration": 8,
    "start_time": "2024-06-04T04:45:09.574Z"
   },
   {
    "duration": 47,
    "start_time": "2024-06-04T04:45:09.587Z"
   },
   {
    "duration": 10,
    "start_time": "2024-06-04T04:45:09.637Z"
   },
   {
    "duration": 232,
    "start_time": "2024-06-04T04:46:53.431Z"
   },
   {
    "duration": 200,
    "start_time": "2024-06-04T04:47:12.568Z"
   },
   {
    "duration": 9,
    "start_time": "2024-06-04T04:47:42.553Z"
   },
   {
    "duration": 1292,
    "start_time": "2024-06-04T04:47:50.883Z"
   },
   {
    "duration": 285,
    "start_time": "2024-06-04T04:47:52.179Z"
   },
   {
    "duration": 17,
    "start_time": "2024-06-04T04:47:52.467Z"
   },
   {
    "duration": 16,
    "start_time": "2024-06-04T04:47:52.487Z"
   },
   {
    "duration": 3,
    "start_time": "2024-06-04T04:47:52.534Z"
   },
   {
    "duration": 5,
    "start_time": "2024-06-04T04:47:52.543Z"
   },
   {
    "duration": 15,
    "start_time": "2024-06-04T04:47:52.551Z"
   },
   {
    "duration": 14,
    "start_time": "2024-06-04T04:47:52.569Z"
   },
   {
    "duration": 47,
    "start_time": "2024-06-04T04:47:52.586Z"
   },
   {
    "duration": 11,
    "start_time": "2024-06-04T04:47:52.636Z"
   },
   {
    "duration": 25,
    "start_time": "2024-06-04T04:47:52.651Z"
   },
   {
    "duration": 13,
    "start_time": "2024-06-04T04:47:52.680Z"
   },
   {
    "duration": 102,
    "start_time": "2024-06-04T04:47:52.732Z"
   },
   {
    "duration": 25,
    "start_time": "2024-06-04T04:47:52.840Z"
   },
   {
    "duration": 19,
    "start_time": "2024-06-04T04:47:52.868Z"
   },
   {
    "duration": 42,
    "start_time": "2024-06-04T04:47:52.891Z"
   },
   {
    "duration": 22,
    "start_time": "2024-06-04T04:47:52.936Z"
   },
   {
    "duration": 18,
    "start_time": "2024-06-04T04:47:52.961Z"
   },
   {
    "duration": 58,
    "start_time": "2024-06-04T04:47:52.981Z"
   },
   {
    "duration": 12,
    "start_time": "2024-06-04T04:47:53.043Z"
   },
   {
    "duration": 28,
    "start_time": "2024-06-04T04:47:53.058Z"
   },
   {
    "duration": 96,
    "start_time": "2024-06-04T04:47:53.088Z"
   },
   {
    "duration": 12,
    "start_time": "2024-06-04T04:47:53.187Z"
   },
   {
    "duration": 66,
    "start_time": "2024-06-04T04:47:53.202Z"
   },
   {
    "duration": 39,
    "start_time": "2024-06-04T04:47:53.270Z"
   },
   {
    "duration": 40,
    "start_time": "2024-06-04T04:47:53.334Z"
   },
   {
    "duration": 23,
    "start_time": "2024-06-04T04:47:53.377Z"
   },
   {
    "duration": 39,
    "start_time": "2024-06-04T04:47:53.404Z"
   },
   {
    "duration": 57,
    "start_time": "2024-06-04T04:47:53.446Z"
   },
   {
    "duration": 403,
    "start_time": "2024-06-04T04:47:53.506Z"
   },
   {
    "duration": 483,
    "start_time": "2024-06-04T04:47:53.913Z"
   },
   {
    "duration": 13,
    "start_time": "2024-06-04T04:47:54.399Z"
   },
   {
    "duration": 411,
    "start_time": "2024-06-04T04:47:54.437Z"
   },
   {
    "duration": 0,
    "start_time": "2024-06-04T04:47:54.850Z"
   },
   {
    "duration": 0,
    "start_time": "2024-06-04T04:47:54.852Z"
   },
   {
    "duration": 0,
    "start_time": "2024-06-04T04:47:54.855Z"
   },
   {
    "duration": 0,
    "start_time": "2024-06-04T04:47:54.857Z"
   },
   {
    "duration": 0,
    "start_time": "2024-06-04T04:47:54.859Z"
   },
   {
    "duration": 212,
    "start_time": "2024-06-04T04:48:35.530Z"
   },
   {
    "duration": 384,
    "start_time": "2024-06-04T04:50:25.331Z"
   },
   {
    "duration": 397,
    "start_time": "2024-06-04T04:50:58.235Z"
   },
   {
    "duration": 443,
    "start_time": "2024-06-04T04:53:57.381Z"
   },
   {
    "duration": 390,
    "start_time": "2024-06-04T05:06:13.522Z"
   },
   {
    "duration": 202,
    "start_time": "2024-06-04T05:09:53.971Z"
   },
   {
    "duration": 379,
    "start_time": "2024-06-04T05:11:30.667Z"
   },
   {
    "duration": 393,
    "start_time": "2024-06-04T05:12:53.415Z"
   },
   {
    "duration": 404,
    "start_time": "2024-06-04T05:13:52.175Z"
   },
   {
    "duration": 195,
    "start_time": "2024-06-04T05:14:12.762Z"
   },
   {
    "duration": 289,
    "start_time": "2024-06-04T05:14:19.297Z"
   },
   {
    "duration": 393,
    "start_time": "2024-06-04T05:14:33.956Z"
   },
   {
    "duration": 398,
    "start_time": "2024-06-04T05:15:22.715Z"
   },
   {
    "duration": 490,
    "start_time": "2024-06-04T05:15:54.882Z"
   },
   {
    "duration": 213,
    "start_time": "2024-06-04T05:16:47.926Z"
   },
   {
    "duration": 21,
    "start_time": "2024-06-04T05:30:20.241Z"
   },
   {
    "duration": 5280,
    "start_time": "2024-06-05T01:37:26.778Z"
   },
   {
    "duration": 364,
    "start_time": "2024-06-05T01:37:32.062Z"
   },
   {
    "duration": 16,
    "start_time": "2024-06-05T01:37:32.429Z"
   },
   {
    "duration": 17,
    "start_time": "2024-06-05T01:37:32.448Z"
   },
   {
    "duration": 4,
    "start_time": "2024-06-05T01:37:32.470Z"
   },
   {
    "duration": 46,
    "start_time": "2024-06-05T01:37:32.477Z"
   },
   {
    "duration": 14,
    "start_time": "2024-06-05T01:37:32.527Z"
   },
   {
    "duration": 14,
    "start_time": "2024-06-05T01:37:32.544Z"
   },
   {
    "duration": 11,
    "start_time": "2024-06-05T01:37:32.561Z"
   },
   {
    "duration": 49,
    "start_time": "2024-06-05T01:37:32.575Z"
   },
   {
    "duration": 27,
    "start_time": "2024-06-05T01:37:32.627Z"
   },
   {
    "duration": 13,
    "start_time": "2024-06-05T01:37:32.657Z"
   },
   {
    "duration": 127,
    "start_time": "2024-06-05T01:37:32.673Z"
   },
   {
    "duration": 30,
    "start_time": "2024-06-05T01:37:32.823Z"
   },
   {
    "duration": 23,
    "start_time": "2024-06-05T01:37:32.856Z"
   },
   {
    "duration": 38,
    "start_time": "2024-06-05T01:37:32.887Z"
   },
   {
    "duration": 23,
    "start_time": "2024-06-05T01:37:32.928Z"
   },
   {
    "duration": 18,
    "start_time": "2024-06-05T01:37:32.954Z"
   },
   {
    "duration": 63,
    "start_time": "2024-06-05T01:37:32.976Z"
   },
   {
    "duration": 13,
    "start_time": "2024-06-05T01:37:33.042Z"
   },
   {
    "duration": 30,
    "start_time": "2024-06-05T01:37:33.058Z"
   },
   {
    "duration": 104,
    "start_time": "2024-06-05T01:37:33.092Z"
   },
   {
    "duration": 28,
    "start_time": "2024-06-05T01:37:33.199Z"
   },
   {
    "duration": 45,
    "start_time": "2024-06-05T01:37:33.230Z"
   },
   {
    "duration": 64,
    "start_time": "2024-06-05T01:37:33.278Z"
   },
   {
    "duration": 30,
    "start_time": "2024-06-05T01:37:33.345Z"
   },
   {
    "duration": 46,
    "start_time": "2024-06-05T01:37:33.378Z"
   },
   {
    "duration": 21,
    "start_time": "2024-06-05T01:37:33.427Z"
   },
   {
    "duration": 85,
    "start_time": "2024-06-05T01:37:33.451Z"
   },
   {
    "duration": 440,
    "start_time": "2024-06-05T01:37:33.539Z"
   },
   {
    "duration": 447,
    "start_time": "2024-06-05T01:37:33.983Z"
   },
   {
    "duration": 11,
    "start_time": "2024-06-05T01:37:34.439Z"
   },
   {
    "duration": 244,
    "start_time": "2024-06-05T01:37:34.456Z"
   },
   {
    "duration": 398,
    "start_time": "2024-06-05T01:37:34.704Z"
   },
   {
    "duration": 495,
    "start_time": "2024-06-05T01:37:35.106Z"
   },
   {
    "duration": 225,
    "start_time": "2024-06-05T01:37:35.605Z"
   },
   {
    "duration": 416,
    "start_time": "2024-06-05T01:37:35.833Z"
   },
   {
    "duration": 418,
    "start_time": "2024-06-05T01:37:36.252Z"
   },
   {
    "duration": 232,
    "start_time": "2024-06-05T01:37:36.673Z"
   },
   {
    "duration": 28,
    "start_time": "2024-06-05T01:37:36.908Z"
   },
   {
    "duration": 9,
    "start_time": "2024-06-05T01:37:36.945Z"
   },
   {
    "duration": 12,
    "start_time": "2024-06-05T01:37:36.957Z"
   },
   {
    "duration": 56,
    "start_time": "2024-06-05T01:37:36.973Z"
   },
   {
    "duration": 11,
    "start_time": "2024-06-05T02:36:55.658Z"
   },
   {
    "duration": 12,
    "start_time": "2024-06-05T02:44:45.132Z"
   },
   {
    "duration": 414,
    "start_time": "2024-06-05T02:55:16.803Z"
   },
   {
    "duration": 496,
    "start_time": "2024-06-05T02:55:33.913Z"
   },
   {
    "duration": 420,
    "start_time": "2024-06-05T03:14:10.978Z"
   },
   {
    "duration": 439,
    "start_time": "2024-06-05T03:16:01.436Z"
   },
   {
    "duration": 472,
    "start_time": "2024-06-05T03:16:39.206Z"
   },
   {
    "duration": 10,
    "start_time": "2024-06-05T03:22:00.506Z"
   },
   {
    "duration": 251,
    "start_time": "2024-06-05T03:22:09.536Z"
   },
   {
    "duration": 1367,
    "start_time": "2024-06-05T03:35:48.028Z"
   },
   {
    "duration": 323,
    "start_time": "2024-06-05T03:35:49.399Z"
   },
   {
    "duration": 27,
    "start_time": "2024-06-05T03:35:49.725Z"
   },
   {
    "duration": 17,
    "start_time": "2024-06-05T03:35:49.757Z"
   },
   {
    "duration": 4,
    "start_time": "2024-06-05T03:35:49.777Z"
   },
   {
    "duration": 39,
    "start_time": "2024-06-05T03:35:49.785Z"
   },
   {
    "duration": 16,
    "start_time": "2024-06-05T03:35:49.829Z"
   },
   {
    "duration": 14,
    "start_time": "2024-06-05T03:35:49.849Z"
   },
   {
    "duration": 12,
    "start_time": "2024-06-05T03:35:49.867Z"
   },
   {
    "duration": 11,
    "start_time": "2024-06-05T03:35:49.925Z"
   },
   {
    "duration": 30,
    "start_time": "2024-06-05T03:35:49.939Z"
   },
   {
    "duration": 51,
    "start_time": "2024-06-05T03:35:49.977Z"
   },
   {
    "duration": 122,
    "start_time": "2024-06-05T03:35:50.032Z"
   },
   {
    "duration": 27,
    "start_time": "2024-06-05T03:35:50.158Z"
   },
   {
    "duration": 43,
    "start_time": "2024-06-05T03:35:50.188Z"
   },
   {
    "duration": 12,
    "start_time": "2024-06-05T03:35:50.235Z"
   },
   {
    "duration": 24,
    "start_time": "2024-06-05T03:35:50.251Z"
   },
   {
    "duration": 60,
    "start_time": "2024-06-05T03:35:50.279Z"
   },
   {
    "duration": 25,
    "start_time": "2024-06-05T03:35:50.342Z"
   },
   {
    "duration": 14,
    "start_time": "2024-06-05T03:35:50.371Z"
   },
   {
    "duration": 32,
    "start_time": "2024-06-05T03:35:50.424Z"
   },
   {
    "duration": 106,
    "start_time": "2024-06-05T03:35:50.459Z"
   },
   {
    "duration": 15,
    "start_time": "2024-06-05T03:35:50.568Z"
   },
   {
    "duration": 79,
    "start_time": "2024-06-05T03:35:50.586Z"
   },
   {
    "duration": 52,
    "start_time": "2024-06-05T03:35:50.673Z"
   },
   {
    "duration": 36,
    "start_time": "2024-06-05T03:35:50.728Z"
   },
   {
    "duration": 20,
    "start_time": "2024-06-05T03:35:50.767Z"
   },
   {
    "duration": 24,
    "start_time": "2024-06-05T03:35:50.829Z"
   },
   {
    "duration": 99,
    "start_time": "2024-06-05T03:35:50.856Z"
   },
   {
    "duration": 447,
    "start_time": "2024-06-05T03:35:50.959Z"
   },
   {
    "duration": 493,
    "start_time": "2024-06-05T03:35:51.410Z"
   },
   {
    "duration": 19,
    "start_time": "2024-06-05T03:35:51.906Z"
   },
   {
    "duration": 239,
    "start_time": "2024-06-05T03:35:51.929Z"
   },
   {
    "duration": 384,
    "start_time": "2024-06-05T03:35:52.171Z"
   },
   {
    "duration": 10,
    "start_time": "2024-06-05T03:35:52.559Z"
   },
   {
    "duration": 432,
    "start_time": "2024-06-05T03:35:52.572Z"
   },
   {
    "duration": 221,
    "start_time": "2024-06-05T03:35:53.007Z"
   },
   {
    "duration": 409,
    "start_time": "2024-06-05T03:35:53.232Z"
   },
   {
    "duration": 11,
    "start_time": "2024-06-05T03:35:53.644Z"
   },
   {
    "duration": 510,
    "start_time": "2024-06-05T03:35:53.659Z"
   },
   {
    "duration": 234,
    "start_time": "2024-06-05T03:35:54.172Z"
   },
   {
    "duration": 31,
    "start_time": "2024-06-05T03:35:54.410Z"
   },
   {
    "duration": 9,
    "start_time": "2024-06-05T03:35:54.445Z"
   },
   {
    "duration": 14,
    "start_time": "2024-06-05T03:35:54.458Z"
   },
   {
    "duration": 53,
    "start_time": "2024-06-05T03:35:54.476Z"
   },
   {
    "duration": 12,
    "start_time": "2024-06-06T00:48:34.677Z"
   },
   {
    "duration": 326,
    "start_time": "2024-06-06T00:57:21.921Z"
   },
   {
    "duration": 4930,
    "start_time": "2024-06-06T00:57:34.128Z"
   },
   {
    "duration": 377,
    "start_time": "2024-06-06T00:57:39.062Z"
   },
   {
    "duration": 16,
    "start_time": "2024-06-06T00:57:39.441Z"
   },
   {
    "duration": 17,
    "start_time": "2024-06-06T00:57:39.460Z"
   },
   {
    "duration": 4,
    "start_time": "2024-06-06T00:57:39.480Z"
   },
   {
    "duration": 4,
    "start_time": "2024-06-06T00:57:39.488Z"
   },
   {
    "duration": 49,
    "start_time": "2024-06-06T00:57:39.495Z"
   },
   {
    "duration": 14,
    "start_time": "2024-06-06T00:57:39.547Z"
   },
   {
    "duration": 9,
    "start_time": "2024-06-06T00:57:39.564Z"
   },
   {
    "duration": 51,
    "start_time": "2024-06-06T00:57:39.581Z"
   },
   {
    "duration": 25,
    "start_time": "2024-06-06T00:57:39.635Z"
   },
   {
    "duration": 13,
    "start_time": "2024-06-06T00:57:39.664Z"
   },
   {
    "duration": 124,
    "start_time": "2024-06-06T00:57:39.680Z"
   },
   {
    "duration": 37,
    "start_time": "2024-06-06T00:57:39.807Z"
   },
   {
    "duration": 23,
    "start_time": "2024-06-06T00:57:39.847Z"
   },
   {
    "duration": 12,
    "start_time": "2024-06-06T00:57:39.874Z"
   },
   {
    "duration": 58,
    "start_time": "2024-06-06T00:57:39.889Z"
   },
   {
    "duration": 18,
    "start_time": "2024-06-06T00:57:39.949Z"
   },
   {
    "duration": 22,
    "start_time": "2024-06-06T00:57:39.970Z"
   },
   {
    "duration": 44,
    "start_time": "2024-06-06T00:57:39.995Z"
   },
   {
    "duration": 31,
    "start_time": "2024-06-06T00:57:40.042Z"
   },
   {
    "duration": 107,
    "start_time": "2024-06-06T00:57:40.076Z"
   },
   {
    "duration": 18,
    "start_time": "2024-06-06T00:57:40.190Z"
   },
   {
    "duration": 60,
    "start_time": "2024-06-06T00:57:40.212Z"
   },
   {
    "duration": 34,
    "start_time": "2024-06-06T00:57:40.276Z"
   },
   {
    "duration": 29,
    "start_time": "2024-06-06T00:57:40.329Z"
   },
   {
    "duration": 16,
    "start_time": "2024-06-06T00:57:40.361Z"
   },
   {
    "duration": 49,
    "start_time": "2024-06-06T00:57:40.385Z"
   },
   {
    "duration": 70,
    "start_time": "2024-06-06T00:57:40.437Z"
   },
   {
    "duration": 414,
    "start_time": "2024-06-06T00:57:40.510Z"
   },
   {
    "duration": 455,
    "start_time": "2024-06-06T00:57:40.931Z"
   },
   {
    "duration": 12,
    "start_time": "2024-06-06T00:57:41.390Z"
   },
   {
    "duration": 329,
    "start_time": "2024-06-06T00:57:41.406Z"
   },
   {
    "duration": 442,
    "start_time": "2024-06-06T00:57:41.739Z"
   },
   {
    "duration": 12,
    "start_time": "2024-06-06T00:57:42.183Z"
   },
   {
    "duration": 509,
    "start_time": "2024-06-06T00:57:42.200Z"
   },
   {
    "duration": 244,
    "start_time": "2024-06-06T00:57:42.712Z"
   },
   {
    "duration": 475,
    "start_time": "2024-06-06T00:57:42.959Z"
   },
   {
    "duration": 12,
    "start_time": "2024-06-06T00:57:43.437Z"
   },
   {
    "duration": 477,
    "start_time": "2024-06-06T00:57:43.453Z"
   },
   {
    "duration": 239,
    "start_time": "2024-06-06T00:57:43.933Z"
   },
   {
    "duration": 21,
    "start_time": "2024-06-06T00:57:44.176Z"
   },
   {
    "duration": 24,
    "start_time": "2024-06-06T00:57:44.206Z"
   },
   {
    "duration": 115,
    "start_time": "2024-06-06T00:57:44.234Z"
   },
   {
    "duration": 10,
    "start_time": "2024-06-06T00:57:44.354Z"
   },
   {
    "duration": 4,
    "start_time": "2024-06-06T00:58:45.760Z"
   },
   {
    "duration": 408,
    "start_time": "2024-06-06T01:34:06.934Z"
   },
   {
    "duration": 7,
    "start_time": "2024-06-06T01:34:13.525Z"
   },
   {
    "duration": 29,
    "start_time": "2024-06-06T01:34:21.966Z"
   },
   {
    "duration": 1320,
    "start_time": "2024-06-06T01:34:29.510Z"
   },
   {
    "duration": 291,
    "start_time": "2024-06-06T01:34:30.833Z"
   },
   {
    "duration": 16,
    "start_time": "2024-06-06T01:34:31.127Z"
   },
   {
    "duration": 15,
    "start_time": "2024-06-06T01:34:31.149Z"
   },
   {
    "duration": 4,
    "start_time": "2024-06-06T01:34:31.167Z"
   },
   {
    "duration": 5,
    "start_time": "2024-06-06T01:34:31.174Z"
   },
   {
    "duration": 55,
    "start_time": "2024-06-06T01:34:31.183Z"
   },
   {
    "duration": 16,
    "start_time": "2024-06-06T01:34:31.243Z"
   },
   {
    "duration": 10,
    "start_time": "2024-06-06T01:34:31.263Z"
   },
   {
    "duration": 10,
    "start_time": "2024-06-06T01:34:31.279Z"
   },
   {
    "duration": 62,
    "start_time": "2024-06-06T01:34:31.292Z"
   },
   {
    "duration": 15,
    "start_time": "2024-06-06T01:34:31.357Z"
   },
   {
    "duration": 121,
    "start_time": "2024-06-06T01:34:31.375Z"
   },
   {
    "duration": 37,
    "start_time": "2024-06-06T01:34:31.499Z"
   },
   {
    "duration": 20,
    "start_time": "2024-06-06T01:34:31.540Z"
   },
   {
    "duration": 11,
    "start_time": "2024-06-06T01:34:31.563Z"
   },
   {
    "duration": 55,
    "start_time": "2024-06-06T01:34:31.577Z"
   },
   {
    "duration": 17,
    "start_time": "2024-06-06T01:34:31.635Z"
   },
   {
    "duration": 24,
    "start_time": "2024-06-06T01:34:31.655Z"
   },
   {
    "duration": 12,
    "start_time": "2024-06-06T01:34:31.682Z"
   },
   {
    "duration": 31,
    "start_time": "2024-06-06T01:34:31.734Z"
   },
   {
    "duration": 101,
    "start_time": "2024-06-06T01:34:31.768Z"
   },
   {
    "duration": 12,
    "start_time": "2024-06-06T01:34:31.873Z"
   },
   {
    "duration": 65,
    "start_time": "2024-06-06T01:34:31.888Z"
   },
   {
    "duration": 35,
    "start_time": "2024-06-06T01:34:31.956Z"
   },
   {
    "duration": 71,
    "start_time": "2024-06-06T01:34:31.993Z"
   },
   {
    "duration": 21,
    "start_time": "2024-06-06T01:34:32.068Z"
   },
   {
    "duration": 39,
    "start_time": "2024-06-06T01:34:32.100Z"
   },
   {
    "duration": 61,
    "start_time": "2024-06-06T01:34:32.143Z"
   },
   {
    "duration": 430,
    "start_time": "2024-06-06T01:34:32.207Z"
   },
   {
    "duration": 540,
    "start_time": "2024-06-06T01:34:32.643Z"
   },
   {
    "duration": 12,
    "start_time": "2024-06-06T01:34:33.231Z"
   },
   {
    "duration": 249,
    "start_time": "2024-06-06T01:34:33.246Z"
   },
   {
    "duration": 368,
    "start_time": "2024-06-06T01:34:33.498Z"
   },
   {
    "duration": 11,
    "start_time": "2024-06-06T01:34:33.869Z"
   },
   {
    "duration": 422,
    "start_time": "2024-06-06T01:34:33.883Z"
   },
   {
    "duration": 230,
    "start_time": "2024-06-06T01:34:34.308Z"
   },
   {
    "duration": 399,
    "start_time": "2024-06-06T01:34:34.541Z"
   },
   {
    "duration": 10,
    "start_time": "2024-06-06T01:34:34.943Z"
   },
   {
    "duration": 493,
    "start_time": "2024-06-06T01:34:34.956Z"
   },
   {
    "duration": 255,
    "start_time": "2024-06-06T01:34:35.452Z"
   },
   {
    "duration": 26,
    "start_time": "2024-06-06T01:34:35.714Z"
   },
   {
    "duration": 14,
    "start_time": "2024-06-06T01:34:35.747Z"
   },
   {
    "duration": 415,
    "start_time": "2024-06-06T01:34:35.764Z"
   },
   {
    "duration": 0,
    "start_time": "2024-06-06T01:34:36.181Z"
   },
   {
    "duration": 0,
    "start_time": "2024-06-06T01:34:36.184Z"
   },
   {
    "duration": 30,
    "start_time": "2024-06-06T01:38:28.274Z"
   },
   {
    "duration": 12,
    "start_time": "2024-06-06T01:39:42.732Z"
   },
   {
    "duration": 26,
    "start_time": "2024-06-06T01:39:48.897Z"
   },
   {
    "duration": 7,
    "start_time": "2024-06-06T01:40:09.534Z"
   },
   {
    "duration": 30,
    "start_time": "2024-06-06T01:40:19.227Z"
   },
   {
    "duration": 11,
    "start_time": "2024-06-06T01:43:03.344Z"
   },
   {
    "duration": 12,
    "start_time": "2024-06-06T01:44:09.362Z"
   },
   {
    "duration": 16,
    "start_time": "2024-06-06T01:46:21.754Z"
   },
   {
    "duration": 1358,
    "start_time": "2024-06-06T01:46:28.348Z"
   },
   {
    "duration": 321,
    "start_time": "2024-06-06T01:46:29.710Z"
   },
   {
    "duration": 31,
    "start_time": "2024-06-06T01:46:30.034Z"
   },
   {
    "duration": 22,
    "start_time": "2024-06-06T01:46:30.072Z"
   },
   {
    "duration": 4,
    "start_time": "2024-06-06T01:46:30.097Z"
   },
   {
    "duration": 27,
    "start_time": "2024-06-06T01:46:30.104Z"
   },
   {
    "duration": 28,
    "start_time": "2024-06-06T01:46:30.135Z"
   },
   {
    "duration": 20,
    "start_time": "2024-06-06T01:46:30.168Z"
   },
   {
    "duration": 12,
    "start_time": "2024-06-06T01:46:30.192Z"
   },
   {
    "duration": 13,
    "start_time": "2024-06-06T01:46:30.239Z"
   },
   {
    "duration": 37,
    "start_time": "2024-06-06T01:46:30.258Z"
   },
   {
    "duration": 39,
    "start_time": "2024-06-06T01:46:30.298Z"
   },
   {
    "duration": 110,
    "start_time": "2024-06-06T01:46:30.342Z"
   },
   {
    "duration": 31,
    "start_time": "2024-06-06T01:46:30.456Z"
   },
   {
    "duration": 44,
    "start_time": "2024-06-06T01:46:30.490Z"
   },
   {
    "duration": 11,
    "start_time": "2024-06-06T01:46:30.537Z"
   },
   {
    "duration": 23,
    "start_time": "2024-06-06T01:46:30.552Z"
   },
   {
    "duration": 58,
    "start_time": "2024-06-06T01:46:30.579Z"
   },
   {
    "duration": 23,
    "start_time": "2024-06-06T01:46:30.640Z"
   },
   {
    "duration": 13,
    "start_time": "2024-06-06T01:46:30.666Z"
   },
   {
    "duration": 67,
    "start_time": "2024-06-06T01:46:30.683Z"
   },
   {
    "duration": 81,
    "start_time": "2024-06-06T01:46:30.753Z"
   },
   {
    "duration": 13,
    "start_time": "2024-06-06T01:46:30.837Z"
   },
   {
    "duration": 45,
    "start_time": "2024-06-06T01:46:30.853Z"
   },
   {
    "duration": 60,
    "start_time": "2024-06-06T01:46:30.901Z"
   },
   {
    "duration": 30,
    "start_time": "2024-06-06T01:46:30.963Z"
   },
   {
    "duration": 41,
    "start_time": "2024-06-06T01:46:30.996Z"
   },
   {
    "duration": 17,
    "start_time": "2024-06-06T01:46:31.045Z"
   },
   {
    "duration": 90,
    "start_time": "2024-06-06T01:46:31.065Z"
   },
   {
    "duration": 419,
    "start_time": "2024-06-06T01:46:31.158Z"
   },
   {
    "duration": 529,
    "start_time": "2024-06-06T01:46:31.580Z"
   },
   {
    "duration": 30,
    "start_time": "2024-06-06T01:46:32.111Z"
   },
   {
    "duration": 234,
    "start_time": "2024-06-06T01:46:32.144Z"
   },
   {
    "duration": 319,
    "start_time": "2024-06-06T23:49:47.442Z"
   },
   {
    "duration": 5082,
    "start_time": "2024-06-06T23:49:55.660Z"
   },
   {
    "duration": 378,
    "start_time": "2024-06-06T23:50:00.747Z"
   },
   {
    "duration": 18,
    "start_time": "2024-06-06T23:50:01.130Z"
   },
   {
    "duration": 17,
    "start_time": "2024-06-06T23:50:01.152Z"
   },
   {
    "duration": 3,
    "start_time": "2024-06-06T23:50:01.172Z"
   },
   {
    "duration": 5,
    "start_time": "2024-06-06T23:50:01.179Z"
   },
   {
    "duration": 59,
    "start_time": "2024-06-06T23:50:01.186Z"
   },
   {
    "duration": 18,
    "start_time": "2024-06-06T23:50:01.249Z"
   },
   {
    "duration": 10,
    "start_time": "2024-06-06T23:50:01.270Z"
   },
   {
    "duration": 9,
    "start_time": "2024-06-06T23:50:01.287Z"
   },
   {
    "duration": 26,
    "start_time": "2024-06-06T23:50:01.331Z"
   },
   {
    "duration": 14,
    "start_time": "2024-06-06T23:50:01.361Z"
   },
   {
    "duration": 148,
    "start_time": "2024-06-06T23:50:01.378Z"
   },
   {
    "duration": 27,
    "start_time": "2024-06-06T23:50:01.529Z"
   },
   {
    "duration": 23,
    "start_time": "2024-06-06T23:50:01.559Z"
   },
   {
    "duration": 11,
    "start_time": "2024-06-06T23:50:01.586Z"
   },
   {
    "duration": 28,
    "start_time": "2024-06-06T23:50:01.630Z"
   },
   {
    "duration": 19,
    "start_time": "2024-06-06T23:50:01.661Z"
   },
   {
    "duration": 47,
    "start_time": "2024-06-06T23:50:01.683Z"
   },
   {
    "duration": 13,
    "start_time": "2024-06-06T23:50:01.734Z"
   },
   {
    "duration": 44,
    "start_time": "2024-06-06T23:50:01.750Z"
   },
   {
    "duration": 526,
    "start_time": "2024-06-06T23:50:01.797Z"
   },
   {
    "duration": 0,
    "start_time": "2024-06-06T23:50:02.332Z"
   },
   {
    "duration": 0,
    "start_time": "2024-06-06T23:50:02.334Z"
   },
   {
    "duration": 0,
    "start_time": "2024-06-06T23:50:02.338Z"
   },
   {
    "duration": 0,
    "start_time": "2024-06-06T23:50:02.340Z"
   },
   {
    "duration": 0,
    "start_time": "2024-06-06T23:50:02.342Z"
   },
   {
    "duration": 0,
    "start_time": "2024-06-06T23:50:02.347Z"
   },
   {
    "duration": 0,
    "start_time": "2024-06-06T23:50:02.349Z"
   },
   {
    "duration": 0,
    "start_time": "2024-06-06T23:50:02.351Z"
   },
   {
    "duration": 0,
    "start_time": "2024-06-06T23:50:02.353Z"
   },
   {
    "duration": 0,
    "start_time": "2024-06-06T23:50:02.355Z"
   },
   {
    "duration": 0,
    "start_time": "2024-06-06T23:50:02.356Z"
   },
   {
    "duration": 0,
    "start_time": "2024-06-06T23:50:02.360Z"
   },
   {
    "duration": 0,
    "start_time": "2024-06-06T23:50:02.361Z"
   },
   {
    "duration": 0,
    "start_time": "2024-06-06T23:50:02.363Z"
   },
   {
    "duration": 0,
    "start_time": "2024-06-06T23:50:02.365Z"
   },
   {
    "duration": 0,
    "start_time": "2024-06-06T23:50:02.367Z"
   },
   {
    "duration": 0,
    "start_time": "2024-06-06T23:50:02.370Z"
   },
   {
    "duration": 0,
    "start_time": "2024-06-06T23:50:02.372Z"
   },
   {
    "duration": 0,
    "start_time": "2024-06-06T23:50:02.375Z"
   },
   {
    "duration": 0,
    "start_time": "2024-06-06T23:50:02.376Z"
   },
   {
    "duration": 0,
    "start_time": "2024-06-06T23:50:02.432Z"
   },
   {
    "duration": 0,
    "start_time": "2024-06-06T23:50:02.434Z"
   },
   {
    "duration": 0,
    "start_time": "2024-06-06T23:50:02.436Z"
   },
   {
    "duration": 0,
    "start_time": "2024-06-06T23:50:02.439Z"
   },
   {
    "duration": 1282,
    "start_time": "2024-06-06T23:51:14.394Z"
   },
   {
    "duration": 306,
    "start_time": "2024-06-06T23:51:15.679Z"
   },
   {
    "duration": 16,
    "start_time": "2024-06-06T23:51:15.988Z"
   },
   {
    "duration": 28,
    "start_time": "2024-06-06T23:51:16.009Z"
   },
   {
    "duration": 4,
    "start_time": "2024-06-06T23:51:16.040Z"
   },
   {
    "duration": 6,
    "start_time": "2024-06-06T23:51:16.047Z"
   },
   {
    "duration": 17,
    "start_time": "2024-06-06T23:51:16.057Z"
   },
   {
    "duration": 54,
    "start_time": "2024-06-06T23:51:16.077Z"
   },
   {
    "duration": 10,
    "start_time": "2024-06-06T23:51:16.135Z"
   },
   {
    "duration": 10,
    "start_time": "2024-06-06T23:51:16.153Z"
   },
   {
    "duration": 27,
    "start_time": "2024-06-06T23:51:16.166Z"
   },
   {
    "duration": 14,
    "start_time": "2024-06-06T23:51:16.231Z"
   },
   {
    "duration": 109,
    "start_time": "2024-06-06T23:51:16.248Z"
   },
   {
    "duration": 30,
    "start_time": "2024-06-06T23:51:16.360Z"
   },
   {
    "duration": 37,
    "start_time": "2024-06-06T23:51:16.394Z"
   },
   {
    "duration": 14,
    "start_time": "2024-06-06T23:51:16.438Z"
   },
   {
    "duration": 26,
    "start_time": "2024-06-06T23:51:16.455Z"
   },
   {
    "duration": 19,
    "start_time": "2024-06-06T23:51:16.484Z"
   },
   {
    "duration": 27,
    "start_time": "2024-06-06T23:51:16.532Z"
   },
   {
    "duration": 14,
    "start_time": "2024-06-06T23:51:16.562Z"
   },
   {
    "duration": 62,
    "start_time": "2024-06-06T23:51:16.579Z"
   },
   {
    "duration": 1401,
    "start_time": "2024-06-06T23:51:16.644Z"
   },
   {
    "duration": 0,
    "start_time": "2024-06-06T23:51:18.049Z"
   },
   {
    "duration": 0,
    "start_time": "2024-06-06T23:51:18.052Z"
   },
   {
    "duration": 0,
    "start_time": "2024-06-06T23:51:18.053Z"
   },
   {
    "duration": 0,
    "start_time": "2024-06-06T23:51:18.055Z"
   },
   {
    "duration": 0,
    "start_time": "2024-06-06T23:51:18.057Z"
   },
   {
    "duration": 0,
    "start_time": "2024-06-06T23:51:18.060Z"
   },
   {
    "duration": 0,
    "start_time": "2024-06-06T23:51:18.062Z"
   },
   {
    "duration": 0,
    "start_time": "2024-06-06T23:51:18.064Z"
   },
   {
    "duration": 0,
    "start_time": "2024-06-06T23:51:18.066Z"
   },
   {
    "duration": 0,
    "start_time": "2024-06-06T23:51:18.068Z"
   },
   {
    "duration": 0,
    "start_time": "2024-06-06T23:51:18.070Z"
   },
   {
    "duration": 0,
    "start_time": "2024-06-06T23:51:18.072Z"
   },
   {
    "duration": 0,
    "start_time": "2024-06-06T23:51:18.075Z"
   },
   {
    "duration": 0,
    "start_time": "2024-06-06T23:51:18.076Z"
   },
   {
    "duration": 0,
    "start_time": "2024-06-06T23:51:18.078Z"
   },
   {
    "duration": 0,
    "start_time": "2024-06-06T23:51:18.081Z"
   },
   {
    "duration": 0,
    "start_time": "2024-06-06T23:51:18.083Z"
   },
   {
    "duration": 0,
    "start_time": "2024-06-06T23:51:18.085Z"
   },
   {
    "duration": 0,
    "start_time": "2024-06-06T23:51:18.087Z"
   },
   {
    "duration": 0,
    "start_time": "2024-06-06T23:51:18.089Z"
   },
   {
    "duration": 0,
    "start_time": "2024-06-06T23:51:18.091Z"
   },
   {
    "duration": 0,
    "start_time": "2024-06-06T23:51:18.093Z"
   },
   {
    "duration": 0,
    "start_time": "2024-06-06T23:51:18.131Z"
   },
   {
    "duration": 0,
    "start_time": "2024-06-06T23:51:18.133Z"
   },
   {
    "duration": 29,
    "start_time": "2024-06-06T23:51:46.791Z"
   },
   {
    "duration": 1339,
    "start_time": "2024-06-06T23:52:17.983Z"
   },
   {
    "duration": 282,
    "start_time": "2024-06-06T23:52:19.331Z"
   },
   {
    "duration": 19,
    "start_time": "2024-06-06T23:52:19.616Z"
   },
   {
    "duration": 18,
    "start_time": "2024-06-06T23:52:19.640Z"
   },
   {
    "duration": 4,
    "start_time": "2024-06-06T23:52:19.663Z"
   },
   {
    "duration": 6,
    "start_time": "2024-06-06T23:52:19.670Z"
   },
   {
    "duration": 16,
    "start_time": "2024-06-06T23:52:19.679Z"
   },
   {
    "duration": 16,
    "start_time": "2024-06-06T23:52:19.732Z"
   },
   {
    "duration": 10,
    "start_time": "2024-06-06T23:52:19.750Z"
   },
   {
    "duration": 10,
    "start_time": "2024-06-06T23:52:19.767Z"
   },
   {
    "duration": 67,
    "start_time": "2024-06-06T23:52:19.780Z"
   },
   {
    "duration": 14,
    "start_time": "2024-06-06T23:52:19.850Z"
   },
   {
    "duration": 115,
    "start_time": "2024-06-06T23:52:19.867Z"
   },
   {
    "duration": 24,
    "start_time": "2024-06-06T23:52:19.985Z"
   },
   {
    "duration": 37,
    "start_time": "2024-06-06T23:52:20.012Z"
   },
   {
    "duration": 16,
    "start_time": "2024-06-06T23:52:20.052Z"
   },
   {
    "duration": 23,
    "start_time": "2024-06-06T23:52:20.070Z"
   },
   {
    "duration": 42,
    "start_time": "2024-06-06T23:52:20.096Z"
   },
   {
    "duration": 24,
    "start_time": "2024-06-06T23:52:20.141Z"
   },
   {
    "duration": 15,
    "start_time": "2024-06-06T23:52:20.168Z"
   },
   {
    "duration": 68,
    "start_time": "2024-06-06T23:52:20.186Z"
   },
   {
    "duration": 90,
    "start_time": "2024-06-06T23:52:20.257Z"
   },
   {
    "duration": 12,
    "start_time": "2024-06-06T23:52:20.351Z"
   },
   {
    "duration": 66,
    "start_time": "2024-06-06T23:52:20.367Z"
   },
   {
    "duration": 32,
    "start_time": "2024-06-06T23:52:20.436Z"
   },
   {
    "duration": 30,
    "start_time": "2024-06-06T23:52:20.474Z"
   },
   {
    "duration": 41,
    "start_time": "2024-06-06T23:52:20.507Z"
   },
   {
    "duration": 24,
    "start_time": "2024-06-06T23:52:20.558Z"
   },
   {
    "duration": 92,
    "start_time": "2024-06-06T23:52:20.585Z"
   },
   {
    "duration": 398,
    "start_time": "2024-06-06T23:52:20.680Z"
   },
   {
    "duration": 481,
    "start_time": "2024-06-06T23:52:21.082Z"
   },
   {
    "duration": 10,
    "start_time": "2024-06-06T23:52:21.567Z"
   },
   {
    "duration": 268,
    "start_time": "2024-06-06T23:52:21.582Z"
   },
   {
    "duration": 397,
    "start_time": "2024-06-06T23:52:21.853Z"
   },
   {
    "duration": 12,
    "start_time": "2024-06-06T23:52:22.253Z"
   },
   {
    "duration": 433,
    "start_time": "2024-06-06T23:52:22.269Z"
   },
   {
    "duration": 237,
    "start_time": "2024-06-06T23:52:22.707Z"
   },
   {
    "duration": 392,
    "start_time": "2024-06-06T23:52:22.947Z"
   },
   {
    "duration": 10,
    "start_time": "2024-06-06T23:52:23.342Z"
   },
   {
    "duration": 504,
    "start_time": "2024-06-06T23:52:23.354Z"
   },
   {
    "duration": 233,
    "start_time": "2024-06-06T23:52:23.862Z"
   },
   {
    "duration": 19,
    "start_time": "2024-06-06T23:52:24.098Z"
   },
   {
    "duration": 8,
    "start_time": "2024-06-06T23:52:24.132Z"
   },
   {
    "duration": 10,
    "start_time": "2024-06-06T23:52:24.144Z"
   },
   {
    "duration": 7,
    "start_time": "2024-06-06T23:52:24.157Z"
   },
   {
    "duration": 13,
    "start_time": "2024-06-06T23:52:24.167Z"
   },
   {
    "duration": 10,
    "start_time": "2024-06-06T23:54:29.315Z"
   },
   {
    "duration": 79,
    "start_time": "2024-06-06T23:56:23.397Z"
   },
   {
    "duration": 73,
    "start_time": "2024-06-06T23:58:08.298Z"
   },
   {
    "duration": 66,
    "start_time": "2024-06-06T23:58:23.502Z"
   },
   {
    "duration": 1349,
    "start_time": "2024-06-06T23:58:42.242Z"
   },
   {
    "duration": 274,
    "start_time": "2024-06-06T23:58:43.595Z"
   },
   {
    "duration": 18,
    "start_time": "2024-06-06T23:58:43.872Z"
   },
   {
    "duration": 17,
    "start_time": "2024-06-06T23:58:43.895Z"
   },
   {
    "duration": 17,
    "start_time": "2024-06-06T23:58:43.914Z"
   },
   {
    "duration": 6,
    "start_time": "2024-06-06T23:58:43.935Z"
   },
   {
    "duration": 18,
    "start_time": "2024-06-06T23:58:43.944Z"
   },
   {
    "duration": 14,
    "start_time": "2024-06-06T23:58:43.966Z"
   },
   {
    "duration": 10,
    "start_time": "2024-06-06T23:58:44.029Z"
   },
   {
    "duration": 10,
    "start_time": "2024-06-06T23:58:44.046Z"
   },
   {
    "duration": 30,
    "start_time": "2024-06-06T23:58:44.059Z"
   },
   {
    "duration": 47,
    "start_time": "2024-06-06T23:58:44.092Z"
   },
   {
    "duration": 112,
    "start_time": "2024-06-06T23:58:44.142Z"
   },
   {
    "duration": 27,
    "start_time": "2024-06-06T23:58:44.258Z"
   },
   {
    "duration": 41,
    "start_time": "2024-06-06T23:58:44.290Z"
   },
   {
    "duration": 12,
    "start_time": "2024-06-06T23:58:44.336Z"
   },
   {
    "duration": 23,
    "start_time": "2024-06-06T23:58:44.353Z"
   },
   {
    "duration": 51,
    "start_time": "2024-06-06T23:58:44.380Z"
   },
   {
    "duration": 23,
    "start_time": "2024-06-06T23:58:44.435Z"
   },
   {
    "duration": 15,
    "start_time": "2024-06-06T23:58:44.462Z"
   },
   {
    "duration": 59,
    "start_time": "2024-06-06T23:58:44.483Z"
   },
   {
    "duration": 101,
    "start_time": "2024-06-06T23:58:44.544Z"
   },
   {
    "duration": 13,
    "start_time": "2024-06-06T23:58:44.651Z"
   },
   {
    "duration": 69,
    "start_time": "2024-06-06T23:58:44.667Z"
   },
   {
    "duration": 34,
    "start_time": "2024-06-06T23:58:44.742Z"
   },
   {
    "duration": 30,
    "start_time": "2024-06-06T23:58:44.780Z"
   },
   {
    "duration": 17,
    "start_time": "2024-06-06T23:58:44.832Z"
   },
   {
    "duration": 20,
    "start_time": "2024-06-06T23:58:44.857Z"
   },
   {
    "duration": 94,
    "start_time": "2024-06-06T23:58:44.879Z"
   },
   {
    "duration": 409,
    "start_time": "2024-06-06T23:58:44.977Z"
   },
   {
    "duration": 516,
    "start_time": "2024-06-06T23:58:45.389Z"
   },
   {
    "duration": 22,
    "start_time": "2024-06-06T23:58:45.909Z"
   },
   {
    "duration": 239,
    "start_time": "2024-06-06T23:58:45.935Z"
   },
   {
    "duration": 396,
    "start_time": "2024-06-06T23:58:46.177Z"
   },
   {
    "duration": 14,
    "start_time": "2024-06-06T23:58:46.576Z"
   },
   {
    "duration": 437,
    "start_time": "2024-06-06T23:58:46.593Z"
   },
   {
    "duration": 214,
    "start_time": "2024-06-06T23:58:47.032Z"
   },
   {
    "duration": 370,
    "start_time": "2024-06-06T23:58:47.250Z"
   },
   {
    "duration": 16,
    "start_time": "2024-06-06T23:58:47.625Z"
   },
   {
    "duration": 523,
    "start_time": "2024-06-06T23:58:47.646Z"
   },
   {
    "duration": 220,
    "start_time": "2024-06-06T23:58:48.172Z"
   },
   {
    "duration": 18,
    "start_time": "2024-06-06T23:58:48.396Z"
   },
   {
    "duration": 7,
    "start_time": "2024-06-06T23:58:48.431Z"
   },
   {
    "duration": 12,
    "start_time": "2024-06-06T23:58:48.442Z"
   },
   {
    "duration": 7,
    "start_time": "2024-06-06T23:58:48.457Z"
   },
   {
    "duration": 13,
    "start_time": "2024-06-06T23:58:48.468Z"
   },
   {
    "duration": 64,
    "start_time": "2024-06-07T00:03:01.125Z"
   },
   {
    "duration": 1322,
    "start_time": "2024-06-07T00:03:08.262Z"
   },
   {
    "duration": 279,
    "start_time": "2024-06-07T00:03:09.588Z"
   },
   {
    "duration": 18,
    "start_time": "2024-06-07T00:03:09.870Z"
   },
   {
    "duration": 16,
    "start_time": "2024-06-07T00:03:09.893Z"
   },
   {
    "duration": 3,
    "start_time": "2024-06-07T00:03:09.930Z"
   },
   {
    "duration": 5,
    "start_time": "2024-06-07T00:03:09.937Z"
   },
   {
    "duration": 18,
    "start_time": "2024-06-07T00:03:09.944Z"
   },
   {
    "duration": 18,
    "start_time": "2024-06-07T00:03:09.965Z"
   },
   {
    "duration": 52,
    "start_time": "2024-06-07T00:03:09.986Z"
   },
   {
    "duration": 10,
    "start_time": "2024-06-07T00:03:10.044Z"
   },
   {
    "duration": 32,
    "start_time": "2024-06-07T00:03:10.057Z"
   },
   {
    "duration": 42,
    "start_time": "2024-06-07T00:03:10.092Z"
   },
   {
    "duration": 110,
    "start_time": "2024-06-07T00:03:10.136Z"
   },
   {
    "duration": 26,
    "start_time": "2024-06-07T00:03:10.250Z"
   },
   {
    "duration": 23,
    "start_time": "2024-06-07T00:03:10.279Z"
   },
   {
    "duration": 11,
    "start_time": "2024-06-07T00:03:10.332Z"
   },
   {
    "duration": 23,
    "start_time": "2024-06-07T00:03:10.345Z"
   },
   {
    "duration": 19,
    "start_time": "2024-06-07T00:03:10.370Z"
   },
   {
    "duration": 59,
    "start_time": "2024-06-07T00:03:10.392Z"
   },
   {
    "duration": 13,
    "start_time": "2024-06-07T00:03:10.454Z"
   },
   {
    "duration": 31,
    "start_time": "2024-06-07T00:03:10.470Z"
   },
   {
    "duration": 83,
    "start_time": "2024-06-07T00:03:10.532Z"
   },
   {
    "duration": 22,
    "start_time": "2024-06-07T00:03:10.618Z"
   },
   {
    "duration": 47,
    "start_time": "2024-06-07T00:03:10.644Z"
   },
   {
    "duration": 73,
    "start_time": "2024-06-07T00:03:10.695Z"
   },
   {
    "duration": 29,
    "start_time": "2024-06-07T00:03:10.776Z"
   },
   {
    "duration": 31,
    "start_time": "2024-06-07T00:03:10.808Z"
   },
   {
    "duration": 19,
    "start_time": "2024-06-07T00:03:10.848Z"
   },
   {
    "duration": 89,
    "start_time": "2024-06-07T00:03:10.870Z"
   },
   {
    "duration": 404,
    "start_time": "2024-06-07T00:03:10.965Z"
   },
   {
    "duration": 528,
    "start_time": "2024-06-07T00:03:11.372Z"
   },
   {
    "duration": 10,
    "start_time": "2024-06-07T00:03:11.906Z"
   },
   {
    "duration": 245,
    "start_time": "2024-06-07T00:03:11.929Z"
   },
   {
    "duration": 404,
    "start_time": "2024-06-07T00:03:12.177Z"
   },
   {
    "duration": 10,
    "start_time": "2024-06-07T00:03:12.585Z"
   },
   {
    "duration": 450,
    "start_time": "2024-06-07T00:03:12.598Z"
   },
   {
    "duration": 220,
    "start_time": "2024-06-07T00:03:13.050Z"
   },
   {
    "duration": 409,
    "start_time": "2024-06-07T00:03:13.274Z"
   },
   {
    "duration": 11,
    "start_time": "2024-06-07T00:03:13.687Z"
   },
   {
    "duration": 519,
    "start_time": "2024-06-07T00:03:13.701Z"
   },
   {
    "duration": 226,
    "start_time": "2024-06-07T00:03:14.223Z"
   },
   {
    "duration": 20,
    "start_time": "2024-06-07T00:03:14.452Z"
   },
   {
    "duration": 8,
    "start_time": "2024-06-07T00:03:14.475Z"
   },
   {
    "duration": 50,
    "start_time": "2024-06-07T00:03:14.486Z"
   },
   {
    "duration": 6,
    "start_time": "2024-06-07T00:03:14.539Z"
   },
   {
    "duration": 13,
    "start_time": "2024-06-07T00:03:14.548Z"
   },
   {
    "duration": 11,
    "start_time": "2024-06-07T00:08:14.823Z"
   },
   {
    "duration": 74,
    "start_time": "2024-06-07T00:10:19.784Z"
   },
   {
    "duration": 1329,
    "start_time": "2024-06-07T00:11:35.870Z"
   },
   {
    "duration": 287,
    "start_time": "2024-06-07T00:11:37.203Z"
   },
   {
    "duration": 17,
    "start_time": "2024-06-07T00:11:37.495Z"
   },
   {
    "duration": 30,
    "start_time": "2024-06-07T00:11:37.516Z"
   },
   {
    "duration": 4,
    "start_time": "2024-06-07T00:11:37.550Z"
   },
   {
    "duration": 5,
    "start_time": "2024-06-07T00:11:37.558Z"
   },
   {
    "duration": 17,
    "start_time": "2024-06-07T00:11:37.566Z"
   },
   {
    "duration": 51,
    "start_time": "2024-06-07T00:11:37.587Z"
   },
   {
    "duration": 10,
    "start_time": "2024-06-07T00:11:37.642Z"
   },
   {
    "duration": 10,
    "start_time": "2024-06-07T00:11:37.659Z"
   },
   {
    "duration": 62,
    "start_time": "2024-06-07T00:11:37.672Z"
   },
   {
    "duration": 12,
    "start_time": "2024-06-07T00:11:37.738Z"
   },
   {
    "duration": 120,
    "start_time": "2024-06-07T00:11:37.753Z"
   },
   {
    "duration": 25,
    "start_time": "2024-06-07T00:11:37.876Z"
   },
   {
    "duration": 37,
    "start_time": "2024-06-07T00:11:37.904Z"
   },
   {
    "duration": 10,
    "start_time": "2024-06-07T00:11:37.945Z"
   },
   {
    "duration": 23,
    "start_time": "2024-06-07T00:11:37.957Z"
   },
   {
    "duration": 54,
    "start_time": "2024-06-07T00:11:37.983Z"
   },
   {
    "duration": 27,
    "start_time": "2024-06-07T00:11:38.040Z"
   },
   {
    "duration": 13,
    "start_time": "2024-06-07T00:11:38.070Z"
   },
   {
    "duration": 65,
    "start_time": "2024-06-07T00:11:38.086Z"
   },
   {
    "duration": 78,
    "start_time": "2024-06-07T00:11:38.155Z"
   },
   {
    "duration": 12,
    "start_time": "2024-06-07T00:11:38.236Z"
   },
   {
    "duration": 78,
    "start_time": "2024-06-07T00:11:38.252Z"
   },
   {
    "duration": 36,
    "start_time": "2024-06-07T00:11:38.333Z"
   },
   {
    "duration": 29,
    "start_time": "2024-06-07T00:11:38.373Z"
   },
   {
    "duration": 44,
    "start_time": "2024-06-07T00:11:38.405Z"
   },
   {
    "duration": 18,
    "start_time": "2024-06-07T00:11:38.457Z"
   },
   {
    "duration": 91,
    "start_time": "2024-06-07T00:11:38.477Z"
   },
   {
    "duration": 427,
    "start_time": "2024-06-07T00:11:38.571Z"
   },
   {
    "duration": 478,
    "start_time": "2024-06-07T00:11:39.001Z"
   },
   {
    "duration": 11,
    "start_time": "2024-06-07T00:11:39.482Z"
   },
   {
    "duration": 246,
    "start_time": "2024-06-07T00:11:39.498Z"
   },
   {
    "duration": 422,
    "start_time": "2024-06-07T00:11:39.747Z"
   },
   {
    "duration": 13,
    "start_time": "2024-06-07T00:11:40.172Z"
   },
   {
    "duration": 412,
    "start_time": "2024-06-07T00:11:40.194Z"
   },
   {
    "duration": 242,
    "start_time": "2024-06-07T00:11:40.609Z"
   },
   {
    "duration": 406,
    "start_time": "2024-06-07T00:11:40.854Z"
   },
   {
    "duration": 11,
    "start_time": "2024-06-07T00:11:41.262Z"
   },
   {
    "duration": 501,
    "start_time": "2024-06-07T00:11:41.276Z"
   },
   {
    "duration": 257,
    "start_time": "2024-06-07T00:11:41.781Z"
   },
   {
    "duration": 29,
    "start_time": "2024-06-07T00:11:42.042Z"
   },
   {
    "duration": 8,
    "start_time": "2024-06-07T00:11:42.075Z"
   },
   {
    "duration": 12,
    "start_time": "2024-06-07T00:11:42.086Z"
   },
   {
    "duration": 32,
    "start_time": "2024-06-07T00:11:42.101Z"
   },
   {
    "duration": 14,
    "start_time": "2024-06-07T00:11:42.136Z"
   },
   {
    "duration": 63,
    "start_time": "2024-06-07T00:12:54.855Z"
   },
   {
    "duration": 64,
    "start_time": "2024-06-07T00:14:04.354Z"
   },
   {
    "duration": 1253,
    "start_time": "2024-06-07T00:14:19.367Z"
   },
   {
    "duration": 285,
    "start_time": "2024-06-07T00:14:20.623Z"
   },
   {
    "duration": 22,
    "start_time": "2024-06-07T00:14:20.911Z"
   },
   {
    "duration": 17,
    "start_time": "2024-06-07T00:14:20.936Z"
   },
   {
    "duration": 3,
    "start_time": "2024-06-07T00:14:20.959Z"
   },
   {
    "duration": 6,
    "start_time": "2024-06-07T00:14:20.965Z"
   },
   {
    "duration": 15,
    "start_time": "2024-06-07T00:14:20.975Z"
   },
   {
    "duration": 51,
    "start_time": "2024-06-07T00:14:20.993Z"
   },
   {
    "duration": 11,
    "start_time": "2024-06-07T00:14:21.047Z"
   },
   {
    "duration": 11,
    "start_time": "2024-06-07T00:14:21.061Z"
   },
   {
    "duration": 66,
    "start_time": "2024-06-07T00:14:21.075Z"
   },
   {
    "duration": 13,
    "start_time": "2024-06-07T00:14:21.145Z"
   },
   {
    "duration": 134,
    "start_time": "2024-06-07T00:14:21.161Z"
   },
   {
    "duration": 32,
    "start_time": "2024-06-07T00:14:21.302Z"
   },
   {
    "duration": 21,
    "start_time": "2024-06-07T00:14:21.337Z"
   },
   {
    "duration": 12,
    "start_time": "2024-06-07T00:14:21.361Z"
   },
   {
    "duration": 22,
    "start_time": "2024-06-07T00:14:21.379Z"
   },
   {
    "duration": 20,
    "start_time": "2024-06-07T00:14:21.436Z"
   },
   {
    "duration": 29,
    "start_time": "2024-06-07T00:14:21.460Z"
   },
   {
    "duration": 13,
    "start_time": "2024-06-07T00:14:21.492Z"
   },
   {
    "duration": 31,
    "start_time": "2024-06-07T00:14:21.532Z"
   },
   {
    "duration": 90,
    "start_time": "2024-06-07T00:14:21.566Z"
   },
   {
    "duration": 12,
    "start_time": "2024-06-07T00:14:21.660Z"
   },
   {
    "duration": 57,
    "start_time": "2024-06-07T00:14:21.681Z"
   },
   {
    "duration": 54,
    "start_time": "2024-06-07T00:14:21.741Z"
   },
   {
    "duration": 33,
    "start_time": "2024-06-07T00:14:21.804Z"
   },
   {
    "duration": 18,
    "start_time": "2024-06-07T00:14:21.840Z"
   },
   {
    "duration": 22,
    "start_time": "2024-06-07T00:14:21.861Z"
   },
   {
    "duration": 91,
    "start_time": "2024-06-07T00:14:21.886Z"
   },
   {
    "duration": 424,
    "start_time": "2024-06-07T00:14:21.980Z"
   },
   {
    "duration": 509,
    "start_time": "2024-06-07T00:14:22.407Z"
   },
   {
    "duration": 24,
    "start_time": "2024-06-07T00:14:22.918Z"
   },
   {
    "duration": 231,
    "start_time": "2024-06-07T00:14:22.946Z"
   },
   {
    "duration": 370,
    "start_time": "2024-06-07T00:14:23.183Z"
   },
   {
    "duration": 11,
    "start_time": "2024-06-07T00:14:23.557Z"
   },
   {
    "duration": 436,
    "start_time": "2024-06-07T00:14:23.571Z"
   },
   {
    "duration": 219,
    "start_time": "2024-06-07T00:14:24.010Z"
   },
   {
    "duration": 392,
    "start_time": "2024-06-07T00:14:24.232Z"
   },
   {
    "duration": 10,
    "start_time": "2024-06-07T00:14:24.631Z"
   },
   {
    "duration": 502,
    "start_time": "2024-06-07T00:14:24.646Z"
   },
   {
    "duration": 224,
    "start_time": "2024-06-07T00:14:25.156Z"
   },
   {
    "duration": 19,
    "start_time": "2024-06-07T00:14:25.384Z"
   },
   {
    "duration": 26,
    "start_time": "2024-06-07T00:14:25.406Z"
   },
   {
    "duration": 13,
    "start_time": "2024-06-07T00:14:25.435Z"
   },
   {
    "duration": 8,
    "start_time": "2024-06-07T00:14:25.451Z"
   },
   {
    "duration": 13,
    "start_time": "2024-06-07T00:14:25.462Z"
   }
  ],
  "colab": {
   "provenance": []
  },
  "kernelspec": {
   "display_name": "base",
   "language": "python",
   "name": "python3"
  },
  "language_info": {
   "codemirror_mode": {
    "name": "ipython",
    "version": 3
   },
   "file_extension": ".py",
   "mimetype": "text/x-python",
   "name": "python",
   "nbconvert_exporter": "python",
   "pygments_lexer": "ipython3",
   "version": "3.11.7"
  },
  "toc": {
   "base_numbering": 1,
   "nav_menu": {},
   "number_sections": true,
   "sideBar": true,
   "skip_h1_title": false,
   "title_cell": "Table of Contents",
   "title_sidebar": "Contents",
   "toc_cell": false,
   "toc_position": {
    "height": "calc(100% - 180px)",
    "left": "10px",
    "top": "150px",
    "width": "165px"
   },
   "toc_section_display": true,
   "toc_window_display": true
  }
 },
 "nbformat": 4,
 "nbformat_minor": 1
}
